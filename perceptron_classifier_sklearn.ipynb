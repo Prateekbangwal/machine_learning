{
  "nbformat": 4,
  "nbformat_minor": 0,
  "metadata": {
    "colab": {
      "name": "perceptron_classifier_sklearn.ipynb",
      "provenance": [],
      "authorship_tag": "ABX9TyMGnU++FD8MKspAk0+EY5Ln",
      "include_colab_link": true
    },
    "kernelspec": {
      "name": "python3",
      "display_name": "Python 3"
    }
  },
  "cells": [
    {
      "cell_type": "markdown",
      "metadata": {
        "id": "view-in-github",
        "colab_type": "text"
      },
      "source": [
        "<a href=\"https://colab.research.google.com/github/Prateekbangwal/machine_learning/blob/master/perceptron_classifier_sklearn.ipynb\" target=\"_parent\"><img src=\"https://colab.research.google.com/assets/colab-badge.svg\" alt=\"Open In Colab\"/></a>"
      ]
    },
    {
      "cell_type": "code",
      "metadata": {
        "id": "PLGHBxBQ6OoO"
      },
      "source": [
        "from sklearn import datasets\n",
        "import numpy as np\n",
        "iris = datasets.load_iris()"
      ],
      "execution_count": 16,
      "outputs": []
    },
    {
      "cell_type": "code",
      "metadata": {
        "id": "83ANZffp6l70",
        "outputId": "059ac643-ae7c-4cf5-98dc-61c3592022f7",
        "colab": {
          "base_uri": "https://localhost:8080/"
        }
      },
      "source": [
        "print(type(iris))"
      ],
      "execution_count": 17,
      "outputs": [
        {
          "output_type": "stream",
          "text": [
            "<class 'sklearn.utils.Bunch'>\n"
          ],
          "name": "stdout"
        }
      ]
    },
    {
      "cell_type": "code",
      "metadata": {
        "id": "TMqETnfp6rlu",
        "outputId": "8d89940c-0dae-4259-c05b-d22cce0a1f4c",
        "colab": {
          "base_uri": "https://localhost:8080/"
        }
      },
      "source": [
        "\n",
        "X = iris.data[:,[2,3]]\n",
        "y = iris.target\n",
        "print(\"class labels:\", np.unique(y))"
      ],
      "execution_count": 18,
      "outputs": [
        {
          "output_type": "stream",
          "text": [
            "class labels: [0 1 2]\n"
          ],
          "name": "stdout"
        }
      ]
    },
    {
      "cell_type": "code",
      "metadata": {
        "id": "WM44xQjG7AhN"
      },
      "source": [
        "from sklearn.model_selection import train_test_split\n",
        "X_train, X_test, y_train, y_test = train_test_split(X,y, test_size = 0.3, random_state =1, stratify = y)"
      ],
      "execution_count": 19,
      "outputs": []
    },
    {
      "cell_type": "code",
      "metadata": {
        "id": "xIXM3FIK7ubI"
      },
      "source": [
        "from sklearn.preprocessing import StandardScaler\n",
        "sc = StandardScaler()\n",
        "sc.fit(X_train)\n",
        "X_train_std = sc.transform(X_train)\n",
        "X_test_std = sc.transform(X_test)"
      ],
      "execution_count": 20,
      "outputs": []
    },
    {
      "cell_type": "code",
      "metadata": {
        "id": "LdUeGFrY8L-N",
        "outputId": "67c82798-7af3-448d-fe49-be0035d8a1c9",
        "colab": {
          "base_uri": "https://localhost:8080/"
        }
      },
      "source": [
        "X_test_std\n"
      ],
      "execution_count": 21,
      "outputs": [
        {
          "output_type": "execute_result",
          "data": {
            "text/plain": [
              "array([[ 0.89820289,  1.44587881],\n",
              "       [-1.16537974, -1.04507821],\n",
              "       [-1.33269725, -1.17618121],\n",
              "       [ 0.39625036,  0.65926081],\n",
              "       [ 0.34047786,  0.2659518 ],\n",
              "       [ 0.11738784,  0.1348488 ],\n",
              "       [ 1.12129291,  0.79036381],\n",
              "       [ 0.39625036,  0.3970548 ],\n",
              "       [ 0.84243039,  0.92146681],\n",
              "       [-1.38846976, -1.04507821],\n",
              "       [-1.27692475, -1.04507821],\n",
              "       [ 0.61934037,  0.79036381],\n",
              "       [-1.33269725, -1.30728421],\n",
              "       [-0.27301968, -0.2584602 ],\n",
              "       [-1.33269725, -1.30728421],\n",
              "       [ 0.56356787,  0.2659518 ],\n",
              "       [ 0.73088538,  1.44587881],\n",
              "       [ 0.39625036,  0.3970548 ],\n",
              "       [ 0.28470535,  0.1348488 ],\n",
              "       [ 0.78665788,  1.05256981],\n",
              "       [ 1.17706541,  1.18367281],\n",
              "       [-1.33269725, -1.43838721],\n",
              "       [ 0.34047786,  0.2659518 ],\n",
              "       [ 0.61934037,  1.05256981],\n",
              "       [ 0.22893285,  0.1348488 ],\n",
              "       [ 0.50779537,  0.5281578 ],\n",
              "       [-0.4403372 , -0.1273572 ],\n",
              "       [ 1.0655204 ,  1.70808482],\n",
              "       [-1.22115225, -0.78287221],\n",
              "       [ 0.67511288,  1.05256981],\n",
              "       [-1.22115225, -1.30728421],\n",
              "       [-1.33269725, -1.30728421],\n",
              "       [ 0.11738784, -0.2584602 ],\n",
              "       [ 0.11738784,  0.1348488 ],\n",
              "       [ 1.40015543,  0.79036381],\n",
              "       [ 0.9539754 ,  1.18367281],\n",
              "       [-1.33269725, -1.43838721],\n",
              "       [-1.22115225, -1.30728421],\n",
              "       [-1.33269725, -1.30728421],\n",
              "       [ 0.50779537,  0.2659518 ],\n",
              "       [ 1.0655204 ,  1.44587881],\n",
              "       [ 0.73088538,  0.79036381],\n",
              "       [ 0.45202286,  0.3970548 ],\n",
              "       [-1.27692475, -1.30728421],\n",
              "       [-1.27692475, -1.43838721]])"
            ]
          },
          "metadata": {
            "tags": []
          },
          "execution_count": 21
        }
      ]
    },
    {
      "cell_type": "code",
      "metadata": {
        "id": "iqO9qWJv8WKR",
        "outputId": "96a2cb33-64e1-42be-dd3b-4282fd69d328",
        "colab": {
          "base_uri": "https://localhost:8080/"
        }
      },
      "source": [
        "from sklearn.linear_model import Perceptron\n",
        "ppn = Perceptron(eta0 = 0.1, random_state = 1)\n",
        "ppn.fit(X_train_std, y_train)"
      ],
      "execution_count": 22,
      "outputs": [
        {
          "output_type": "execute_result",
          "data": {
            "text/plain": [
              "Perceptron(alpha=0.0001, class_weight=None, early_stopping=False, eta0=0.1,\n",
              "           fit_intercept=True, max_iter=1000, n_iter_no_change=5, n_jobs=None,\n",
              "           penalty=None, random_state=1, shuffle=True, tol=0.001,\n",
              "           validation_fraction=0.1, verbose=0, warm_start=False)"
            ]
          },
          "metadata": {
            "tags": []
          },
          "execution_count": 22
        }
      ]
    },
    {
      "cell_type": "code",
      "metadata": {
        "id": "qt30_mLL8moH"
      },
      "source": [
        "y_pred = ppn.predict(X_test_std)"
      ],
      "execution_count": 23,
      "outputs": []
    },
    {
      "cell_type": "code",
      "metadata": {
        "id": "JT5Yjckj853M",
        "outputId": "7171a0e3-79c5-4ef3-878a-3186b3253def",
        "colab": {
          "base_uri": "https://localhost:8080/"
        }
      },
      "source": [
        "print(\"Misclassified examples: %d\" %(y_test!=y_pred).sum())"
      ],
      "execution_count": 24,
      "outputs": [
        {
          "output_type": "stream",
          "text": [
            "Misclassified examples: 1\n"
          ],
          "name": "stdout"
        }
      ]
    },
    {
      "cell_type": "code",
      "metadata": {
        "id": "9FbaOZtT9Ej0",
        "outputId": "7606a13b-26f1-4067-d8c8-acb33ce10880",
        "colab": {
          "base_uri": "https://localhost:8080/"
        }
      },
      "source": [
        "from sklearn.metrics import accuracy_score\n",
        "print('accuracy : %.3f' % accuracy_score(y_test, y_pred))"
      ],
      "execution_count": 25,
      "outputs": [
        {
          "output_type": "stream",
          "text": [
            "accuracy : 0.978\n"
          ],
          "name": "stdout"
        }
      ]
    },
    {
      "cell_type": "code",
      "metadata": {
        "id": "lSh46xy0Q-FQ",
        "outputId": "3435e677-cc97-4257-d55c-f8bd13ec60f4",
        "colab": {
          "base_uri": "https://localhost:8080/"
        }
      },
      "source": [
        "print('Accuracy: %.3f' % ppn.score(X_test_std, y_test))"
      ],
      "execution_count": 26,
      "outputs": [
        {
          "output_type": "stream",
          "text": [
            "Accuracy: 0.978\n"
          ],
          "name": "stdout"
        }
      ]
    },
    {
      "cell_type": "code",
      "metadata": {
        "id": "uvxt1KqkRVQB"
      },
      "source": [
        ""
      ],
      "execution_count": null,
      "outputs": []
    }
  ]
}