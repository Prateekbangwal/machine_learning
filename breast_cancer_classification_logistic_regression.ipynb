{
  "nbformat": 4,
  "nbformat_minor": 0,
  "metadata": {
    "colab": {
      "name": "breast_cancer_classification_logistic_regression.ipynb",
      "provenance": [],
      "authorship_tag": "ABX9TyPZGTDs7GEAQGv/ndSJ8WW1",
      "include_colab_link": true
    },
    "kernelspec": {
      "name": "python3",
      "display_name": "Python 3"
    },
    "language_info": {
      "name": "python"
    }
  },
  "cells": [
    {
      "cell_type": "markdown",
      "metadata": {
        "id": "view-in-github",
        "colab_type": "text"
      },
      "source": [
        "<a href=\"https://colab.research.google.com/github/Prateekbangwal/machine_learning/blob/master/breast_cancer_classification_logistic_regression.ipynb\" target=\"_parent\"><img src=\"https://colab.research.google.com/assets/colab-badge.svg\" alt=\"Open In Colab\"/></a>"
      ]
    },
    {
      "cell_type": "code",
      "metadata": {
        "id": "vrrT1qguKIs7"
      },
      "source": [
        "import pandas as pd\n",
        "import numpy as np\n",
        "import matplotlib\n",
        "import matplotlib.pyplot as plt\n",
        "import seaborn as sns\n",
        "import plotly.express as px\n",
        "%matplotlib inline\n",
        "sns.set_style('darkgrid')\n",
        "matplotlib.rcParams['font.size'] = 14\n",
        "matplotlib.rcParams['figure.figsize'] = (10,6)\n",
        "matplotlib.rcParams['figure.facecolor'] = '#00000000'"
      ],
      "execution_count": 1,
      "outputs": []
    },
    {
      "cell_type": "code",
      "metadata": {
        "id": "vPR7mWLLKzZg"
      },
      "source": [
        "data = pd.read_csv('/content/data.csv')"
      ],
      "execution_count": 2,
      "outputs": []
    },
    {
      "cell_type": "code",
      "metadata": {
        "colab": {
          "base_uri": "https://localhost:8080/",
          "height": 445
        },
        "id": "-ZXPB5vDK94O",
        "outputId": "54b603ef-0a70-4eb7-fede-970180b99b6c"
      },
      "source": [
        "data"
      ],
      "execution_count": 3,
      "outputs": [
        {
          "output_type": "execute_result",
          "data": {
            "text/html": [
              "<div>\n",
              "<style scoped>\n",
              "    .dataframe tbody tr th:only-of-type {\n",
              "        vertical-align: middle;\n",
              "    }\n",
              "\n",
              "    .dataframe tbody tr th {\n",
              "        vertical-align: top;\n",
              "    }\n",
              "\n",
              "    .dataframe thead th {\n",
              "        text-align: right;\n",
              "    }\n",
              "</style>\n",
              "<table border=\"1\" class=\"dataframe\">\n",
              "  <thead>\n",
              "    <tr style=\"text-align: right;\">\n",
              "      <th></th>\n",
              "      <th>id</th>\n",
              "      <th>diagnosis</th>\n",
              "      <th>radius_mean</th>\n",
              "      <th>texture_mean</th>\n",
              "      <th>perimeter_mean</th>\n",
              "      <th>area_mean</th>\n",
              "      <th>smoothness_mean</th>\n",
              "      <th>compactness_mean</th>\n",
              "      <th>concavity_mean</th>\n",
              "      <th>concave points_mean</th>\n",
              "      <th>symmetry_mean</th>\n",
              "      <th>fractal_dimension_mean</th>\n",
              "      <th>radius_se</th>\n",
              "      <th>texture_se</th>\n",
              "      <th>perimeter_se</th>\n",
              "      <th>area_se</th>\n",
              "      <th>smoothness_se</th>\n",
              "      <th>compactness_se</th>\n",
              "      <th>concavity_se</th>\n",
              "      <th>concave points_se</th>\n",
              "      <th>symmetry_se</th>\n",
              "      <th>fractal_dimension_se</th>\n",
              "      <th>radius_worst</th>\n",
              "      <th>texture_worst</th>\n",
              "      <th>perimeter_worst</th>\n",
              "      <th>area_worst</th>\n",
              "      <th>smoothness_worst</th>\n",
              "      <th>compactness_worst</th>\n",
              "      <th>concavity_worst</th>\n",
              "      <th>concave points_worst</th>\n",
              "      <th>symmetry_worst</th>\n",
              "      <th>fractal_dimension_worst</th>\n",
              "      <th>Unnamed: 32</th>\n",
              "    </tr>\n",
              "  </thead>\n",
              "  <tbody>\n",
              "    <tr>\n",
              "      <th>0</th>\n",
              "      <td>842302</td>\n",
              "      <td>M</td>\n",
              "      <td>17.99</td>\n",
              "      <td>10.38</td>\n",
              "      <td>122.80</td>\n",
              "      <td>1001.0</td>\n",
              "      <td>0.11840</td>\n",
              "      <td>0.27760</td>\n",
              "      <td>0.30010</td>\n",
              "      <td>0.14710</td>\n",
              "      <td>0.2419</td>\n",
              "      <td>0.07871</td>\n",
              "      <td>1.0950</td>\n",
              "      <td>0.9053</td>\n",
              "      <td>8.589</td>\n",
              "      <td>153.40</td>\n",
              "      <td>0.006399</td>\n",
              "      <td>0.04904</td>\n",
              "      <td>0.05373</td>\n",
              "      <td>0.01587</td>\n",
              "      <td>0.03003</td>\n",
              "      <td>0.006193</td>\n",
              "      <td>25.380</td>\n",
              "      <td>17.33</td>\n",
              "      <td>184.60</td>\n",
              "      <td>2019.0</td>\n",
              "      <td>0.16220</td>\n",
              "      <td>0.66560</td>\n",
              "      <td>0.7119</td>\n",
              "      <td>0.2654</td>\n",
              "      <td>0.4601</td>\n",
              "      <td>0.11890</td>\n",
              "      <td>NaN</td>\n",
              "    </tr>\n",
              "    <tr>\n",
              "      <th>1</th>\n",
              "      <td>842517</td>\n",
              "      <td>M</td>\n",
              "      <td>20.57</td>\n",
              "      <td>17.77</td>\n",
              "      <td>132.90</td>\n",
              "      <td>1326.0</td>\n",
              "      <td>0.08474</td>\n",
              "      <td>0.07864</td>\n",
              "      <td>0.08690</td>\n",
              "      <td>0.07017</td>\n",
              "      <td>0.1812</td>\n",
              "      <td>0.05667</td>\n",
              "      <td>0.5435</td>\n",
              "      <td>0.7339</td>\n",
              "      <td>3.398</td>\n",
              "      <td>74.08</td>\n",
              "      <td>0.005225</td>\n",
              "      <td>0.01308</td>\n",
              "      <td>0.01860</td>\n",
              "      <td>0.01340</td>\n",
              "      <td>0.01389</td>\n",
              "      <td>0.003532</td>\n",
              "      <td>24.990</td>\n",
              "      <td>23.41</td>\n",
              "      <td>158.80</td>\n",
              "      <td>1956.0</td>\n",
              "      <td>0.12380</td>\n",
              "      <td>0.18660</td>\n",
              "      <td>0.2416</td>\n",
              "      <td>0.1860</td>\n",
              "      <td>0.2750</td>\n",
              "      <td>0.08902</td>\n",
              "      <td>NaN</td>\n",
              "    </tr>\n",
              "    <tr>\n",
              "      <th>2</th>\n",
              "      <td>84300903</td>\n",
              "      <td>M</td>\n",
              "      <td>19.69</td>\n",
              "      <td>21.25</td>\n",
              "      <td>130.00</td>\n",
              "      <td>1203.0</td>\n",
              "      <td>0.10960</td>\n",
              "      <td>0.15990</td>\n",
              "      <td>0.19740</td>\n",
              "      <td>0.12790</td>\n",
              "      <td>0.2069</td>\n",
              "      <td>0.05999</td>\n",
              "      <td>0.7456</td>\n",
              "      <td>0.7869</td>\n",
              "      <td>4.585</td>\n",
              "      <td>94.03</td>\n",
              "      <td>0.006150</td>\n",
              "      <td>0.04006</td>\n",
              "      <td>0.03832</td>\n",
              "      <td>0.02058</td>\n",
              "      <td>0.02250</td>\n",
              "      <td>0.004571</td>\n",
              "      <td>23.570</td>\n",
              "      <td>25.53</td>\n",
              "      <td>152.50</td>\n",
              "      <td>1709.0</td>\n",
              "      <td>0.14440</td>\n",
              "      <td>0.42450</td>\n",
              "      <td>0.4504</td>\n",
              "      <td>0.2430</td>\n",
              "      <td>0.3613</td>\n",
              "      <td>0.08758</td>\n",
              "      <td>NaN</td>\n",
              "    </tr>\n",
              "    <tr>\n",
              "      <th>3</th>\n",
              "      <td>84348301</td>\n",
              "      <td>M</td>\n",
              "      <td>11.42</td>\n",
              "      <td>20.38</td>\n",
              "      <td>77.58</td>\n",
              "      <td>386.1</td>\n",
              "      <td>0.14250</td>\n",
              "      <td>0.28390</td>\n",
              "      <td>0.24140</td>\n",
              "      <td>0.10520</td>\n",
              "      <td>0.2597</td>\n",
              "      <td>0.09744</td>\n",
              "      <td>0.4956</td>\n",
              "      <td>1.1560</td>\n",
              "      <td>3.445</td>\n",
              "      <td>27.23</td>\n",
              "      <td>0.009110</td>\n",
              "      <td>0.07458</td>\n",
              "      <td>0.05661</td>\n",
              "      <td>0.01867</td>\n",
              "      <td>0.05963</td>\n",
              "      <td>0.009208</td>\n",
              "      <td>14.910</td>\n",
              "      <td>26.50</td>\n",
              "      <td>98.87</td>\n",
              "      <td>567.7</td>\n",
              "      <td>0.20980</td>\n",
              "      <td>0.86630</td>\n",
              "      <td>0.6869</td>\n",
              "      <td>0.2575</td>\n",
              "      <td>0.6638</td>\n",
              "      <td>0.17300</td>\n",
              "      <td>NaN</td>\n",
              "    </tr>\n",
              "    <tr>\n",
              "      <th>4</th>\n",
              "      <td>84358402</td>\n",
              "      <td>M</td>\n",
              "      <td>20.29</td>\n",
              "      <td>14.34</td>\n",
              "      <td>135.10</td>\n",
              "      <td>1297.0</td>\n",
              "      <td>0.10030</td>\n",
              "      <td>0.13280</td>\n",
              "      <td>0.19800</td>\n",
              "      <td>0.10430</td>\n",
              "      <td>0.1809</td>\n",
              "      <td>0.05883</td>\n",
              "      <td>0.7572</td>\n",
              "      <td>0.7813</td>\n",
              "      <td>5.438</td>\n",
              "      <td>94.44</td>\n",
              "      <td>0.011490</td>\n",
              "      <td>0.02461</td>\n",
              "      <td>0.05688</td>\n",
              "      <td>0.01885</td>\n",
              "      <td>0.01756</td>\n",
              "      <td>0.005115</td>\n",
              "      <td>22.540</td>\n",
              "      <td>16.67</td>\n",
              "      <td>152.20</td>\n",
              "      <td>1575.0</td>\n",
              "      <td>0.13740</td>\n",
              "      <td>0.20500</td>\n",
              "      <td>0.4000</td>\n",
              "      <td>0.1625</td>\n",
              "      <td>0.2364</td>\n",
              "      <td>0.07678</td>\n",
              "      <td>NaN</td>\n",
              "    </tr>\n",
              "    <tr>\n",
              "      <th>...</th>\n",
              "      <td>...</td>\n",
              "      <td>...</td>\n",
              "      <td>...</td>\n",
              "      <td>...</td>\n",
              "      <td>...</td>\n",
              "      <td>...</td>\n",
              "      <td>...</td>\n",
              "      <td>...</td>\n",
              "      <td>...</td>\n",
              "      <td>...</td>\n",
              "      <td>...</td>\n",
              "      <td>...</td>\n",
              "      <td>...</td>\n",
              "      <td>...</td>\n",
              "      <td>...</td>\n",
              "      <td>...</td>\n",
              "      <td>...</td>\n",
              "      <td>...</td>\n",
              "      <td>...</td>\n",
              "      <td>...</td>\n",
              "      <td>...</td>\n",
              "      <td>...</td>\n",
              "      <td>...</td>\n",
              "      <td>...</td>\n",
              "      <td>...</td>\n",
              "      <td>...</td>\n",
              "      <td>...</td>\n",
              "      <td>...</td>\n",
              "      <td>...</td>\n",
              "      <td>...</td>\n",
              "      <td>...</td>\n",
              "      <td>...</td>\n",
              "      <td>...</td>\n",
              "    </tr>\n",
              "    <tr>\n",
              "      <th>564</th>\n",
              "      <td>926424</td>\n",
              "      <td>M</td>\n",
              "      <td>21.56</td>\n",
              "      <td>22.39</td>\n",
              "      <td>142.00</td>\n",
              "      <td>1479.0</td>\n",
              "      <td>0.11100</td>\n",
              "      <td>0.11590</td>\n",
              "      <td>0.24390</td>\n",
              "      <td>0.13890</td>\n",
              "      <td>0.1726</td>\n",
              "      <td>0.05623</td>\n",
              "      <td>1.1760</td>\n",
              "      <td>1.2560</td>\n",
              "      <td>7.673</td>\n",
              "      <td>158.70</td>\n",
              "      <td>0.010300</td>\n",
              "      <td>0.02891</td>\n",
              "      <td>0.05198</td>\n",
              "      <td>0.02454</td>\n",
              "      <td>0.01114</td>\n",
              "      <td>0.004239</td>\n",
              "      <td>25.450</td>\n",
              "      <td>26.40</td>\n",
              "      <td>166.10</td>\n",
              "      <td>2027.0</td>\n",
              "      <td>0.14100</td>\n",
              "      <td>0.21130</td>\n",
              "      <td>0.4107</td>\n",
              "      <td>0.2216</td>\n",
              "      <td>0.2060</td>\n",
              "      <td>0.07115</td>\n",
              "      <td>NaN</td>\n",
              "    </tr>\n",
              "    <tr>\n",
              "      <th>565</th>\n",
              "      <td>926682</td>\n",
              "      <td>M</td>\n",
              "      <td>20.13</td>\n",
              "      <td>28.25</td>\n",
              "      <td>131.20</td>\n",
              "      <td>1261.0</td>\n",
              "      <td>0.09780</td>\n",
              "      <td>0.10340</td>\n",
              "      <td>0.14400</td>\n",
              "      <td>0.09791</td>\n",
              "      <td>0.1752</td>\n",
              "      <td>0.05533</td>\n",
              "      <td>0.7655</td>\n",
              "      <td>2.4630</td>\n",
              "      <td>5.203</td>\n",
              "      <td>99.04</td>\n",
              "      <td>0.005769</td>\n",
              "      <td>0.02423</td>\n",
              "      <td>0.03950</td>\n",
              "      <td>0.01678</td>\n",
              "      <td>0.01898</td>\n",
              "      <td>0.002498</td>\n",
              "      <td>23.690</td>\n",
              "      <td>38.25</td>\n",
              "      <td>155.00</td>\n",
              "      <td>1731.0</td>\n",
              "      <td>0.11660</td>\n",
              "      <td>0.19220</td>\n",
              "      <td>0.3215</td>\n",
              "      <td>0.1628</td>\n",
              "      <td>0.2572</td>\n",
              "      <td>0.06637</td>\n",
              "      <td>NaN</td>\n",
              "    </tr>\n",
              "    <tr>\n",
              "      <th>566</th>\n",
              "      <td>926954</td>\n",
              "      <td>M</td>\n",
              "      <td>16.60</td>\n",
              "      <td>28.08</td>\n",
              "      <td>108.30</td>\n",
              "      <td>858.1</td>\n",
              "      <td>0.08455</td>\n",
              "      <td>0.10230</td>\n",
              "      <td>0.09251</td>\n",
              "      <td>0.05302</td>\n",
              "      <td>0.1590</td>\n",
              "      <td>0.05648</td>\n",
              "      <td>0.4564</td>\n",
              "      <td>1.0750</td>\n",
              "      <td>3.425</td>\n",
              "      <td>48.55</td>\n",
              "      <td>0.005903</td>\n",
              "      <td>0.03731</td>\n",
              "      <td>0.04730</td>\n",
              "      <td>0.01557</td>\n",
              "      <td>0.01318</td>\n",
              "      <td>0.003892</td>\n",
              "      <td>18.980</td>\n",
              "      <td>34.12</td>\n",
              "      <td>126.70</td>\n",
              "      <td>1124.0</td>\n",
              "      <td>0.11390</td>\n",
              "      <td>0.30940</td>\n",
              "      <td>0.3403</td>\n",
              "      <td>0.1418</td>\n",
              "      <td>0.2218</td>\n",
              "      <td>0.07820</td>\n",
              "      <td>NaN</td>\n",
              "    </tr>\n",
              "    <tr>\n",
              "      <th>567</th>\n",
              "      <td>927241</td>\n",
              "      <td>M</td>\n",
              "      <td>20.60</td>\n",
              "      <td>29.33</td>\n",
              "      <td>140.10</td>\n",
              "      <td>1265.0</td>\n",
              "      <td>0.11780</td>\n",
              "      <td>0.27700</td>\n",
              "      <td>0.35140</td>\n",
              "      <td>0.15200</td>\n",
              "      <td>0.2397</td>\n",
              "      <td>0.07016</td>\n",
              "      <td>0.7260</td>\n",
              "      <td>1.5950</td>\n",
              "      <td>5.772</td>\n",
              "      <td>86.22</td>\n",
              "      <td>0.006522</td>\n",
              "      <td>0.06158</td>\n",
              "      <td>0.07117</td>\n",
              "      <td>0.01664</td>\n",
              "      <td>0.02324</td>\n",
              "      <td>0.006185</td>\n",
              "      <td>25.740</td>\n",
              "      <td>39.42</td>\n",
              "      <td>184.60</td>\n",
              "      <td>1821.0</td>\n",
              "      <td>0.16500</td>\n",
              "      <td>0.86810</td>\n",
              "      <td>0.9387</td>\n",
              "      <td>0.2650</td>\n",
              "      <td>0.4087</td>\n",
              "      <td>0.12400</td>\n",
              "      <td>NaN</td>\n",
              "    </tr>\n",
              "    <tr>\n",
              "      <th>568</th>\n",
              "      <td>92751</td>\n",
              "      <td>B</td>\n",
              "      <td>7.76</td>\n",
              "      <td>24.54</td>\n",
              "      <td>47.92</td>\n",
              "      <td>181.0</td>\n",
              "      <td>0.05263</td>\n",
              "      <td>0.04362</td>\n",
              "      <td>0.00000</td>\n",
              "      <td>0.00000</td>\n",
              "      <td>0.1587</td>\n",
              "      <td>0.05884</td>\n",
              "      <td>0.3857</td>\n",
              "      <td>1.4280</td>\n",
              "      <td>2.548</td>\n",
              "      <td>19.15</td>\n",
              "      <td>0.007189</td>\n",
              "      <td>0.00466</td>\n",
              "      <td>0.00000</td>\n",
              "      <td>0.00000</td>\n",
              "      <td>0.02676</td>\n",
              "      <td>0.002783</td>\n",
              "      <td>9.456</td>\n",
              "      <td>30.37</td>\n",
              "      <td>59.16</td>\n",
              "      <td>268.6</td>\n",
              "      <td>0.08996</td>\n",
              "      <td>0.06444</td>\n",
              "      <td>0.0000</td>\n",
              "      <td>0.0000</td>\n",
              "      <td>0.2871</td>\n",
              "      <td>0.07039</td>\n",
              "      <td>NaN</td>\n",
              "    </tr>\n",
              "  </tbody>\n",
              "</table>\n",
              "<p>569 rows × 33 columns</p>\n",
              "</div>"
            ],
            "text/plain": [
              "           id diagnosis  ...  fractal_dimension_worst  Unnamed: 32\n",
              "0      842302         M  ...                  0.11890          NaN\n",
              "1      842517         M  ...                  0.08902          NaN\n",
              "2    84300903         M  ...                  0.08758          NaN\n",
              "3    84348301         M  ...                  0.17300          NaN\n",
              "4    84358402         M  ...                  0.07678          NaN\n",
              "..        ...       ...  ...                      ...          ...\n",
              "564    926424         M  ...                  0.07115          NaN\n",
              "565    926682         M  ...                  0.06637          NaN\n",
              "566    926954         M  ...                  0.07820          NaN\n",
              "567    927241         M  ...                  0.12400          NaN\n",
              "568     92751         B  ...                  0.07039          NaN\n",
              "\n",
              "[569 rows x 33 columns]"
            ]
          },
          "metadata": {
            "tags": []
          },
          "execution_count": 3
        }
      ]
    },
    {
      "cell_type": "code",
      "metadata": {
        "colab": {
          "base_uri": "https://localhost:8080/"
        },
        "id": "jUoyYXt8K_r_",
        "outputId": "d9d4d823-ba55-4c79-ef81-51c698dabbbe"
      },
      "source": [
        "data.info()"
      ],
      "execution_count": 4,
      "outputs": [
        {
          "output_type": "stream",
          "text": [
            "<class 'pandas.core.frame.DataFrame'>\n",
            "RangeIndex: 569 entries, 0 to 568\n",
            "Data columns (total 33 columns):\n",
            " #   Column                   Non-Null Count  Dtype  \n",
            "---  ------                   --------------  -----  \n",
            " 0   id                       569 non-null    int64  \n",
            " 1   diagnosis                569 non-null    object \n",
            " 2   radius_mean              569 non-null    float64\n",
            " 3   texture_mean             569 non-null    float64\n",
            " 4   perimeter_mean           569 non-null    float64\n",
            " 5   area_mean                569 non-null    float64\n",
            " 6   smoothness_mean          569 non-null    float64\n",
            " 7   compactness_mean         569 non-null    float64\n",
            " 8   concavity_mean           569 non-null    float64\n",
            " 9   concave points_mean      569 non-null    float64\n",
            " 10  symmetry_mean            569 non-null    float64\n",
            " 11  fractal_dimension_mean   569 non-null    float64\n",
            " 12  radius_se                569 non-null    float64\n",
            " 13  texture_se               569 non-null    float64\n",
            " 14  perimeter_se             569 non-null    float64\n",
            " 15  area_se                  569 non-null    float64\n",
            " 16  smoothness_se            569 non-null    float64\n",
            " 17  compactness_se           569 non-null    float64\n",
            " 18  concavity_se             569 non-null    float64\n",
            " 19  concave points_se        569 non-null    float64\n",
            " 20  symmetry_se              569 non-null    float64\n",
            " 21  fractal_dimension_se     569 non-null    float64\n",
            " 22  radius_worst             569 non-null    float64\n",
            " 23  texture_worst            569 non-null    float64\n",
            " 24  perimeter_worst          569 non-null    float64\n",
            " 25  area_worst               569 non-null    float64\n",
            " 26  smoothness_worst         569 non-null    float64\n",
            " 27  compactness_worst        569 non-null    float64\n",
            " 28  concavity_worst          569 non-null    float64\n",
            " 29  concave points_worst     569 non-null    float64\n",
            " 30  symmetry_worst           569 non-null    float64\n",
            " 31  fractal_dimension_worst  569 non-null    float64\n",
            " 32  Unnamed: 32              0 non-null      float64\n",
            "dtypes: float64(31), int64(1), object(1)\n",
            "memory usage: 146.8+ KB\n"
          ],
          "name": "stdout"
        }
      ]
    },
    {
      "cell_type": "code",
      "metadata": {
        "colab": {
          "base_uri": "https://localhost:8080/",
          "height": 542
        },
        "id": "l4F6VpHZLfd_",
        "outputId": "ed0aace0-cf06-4130-bce6-b5fbc1e99e8d"
      },
      "source": [
        "px.scatter(data, x = 'radius_mean', y ='texture_mean', color = 'diagnosis')"
      ],
      "execution_count": 8,
      "outputs": [
        {
          "output_type": "display_data",
          "data": {
            "text/html": [
              "<html>\n",
              "<head><meta charset=\"utf-8\" /></head>\n",
              "<body>\n",
              "    <div>\n",
              "            <script src=\"https://cdnjs.cloudflare.com/ajax/libs/mathjax/2.7.5/MathJax.js?config=TeX-AMS-MML_SVG\"></script><script type=\"text/javascript\">if (window.MathJax) {MathJax.Hub.Config({SVG: {font: \"STIX-Web\"}});}</script>\n",
              "                <script type=\"text/javascript\">window.PlotlyConfig = {MathJaxConfig: 'local'};</script>\n",
              "        <script src=\"https://cdn.plot.ly/plotly-latest.min.js\"></script>    \n",
              "            <div id=\"6147ad84-e539-49e5-affc-f502f0f372d5\" class=\"plotly-graph-div\" style=\"height:525px; width:100%;\"></div>\n",
              "            <script type=\"text/javascript\">\n",
              "                \n",
              "                    window.PLOTLYENV=window.PLOTLYENV || {};\n",
              "                    \n",
              "                if (document.getElementById(\"6147ad84-e539-49e5-affc-f502f0f372d5\")) {\n",
              "                    Plotly.newPlot(\n",
              "                        '6147ad84-e539-49e5-affc-f502f0f372d5',\n",
              "                        [{\"hoverlabel\": {\"namelength\": 0}, \"hovertemplate\": \"diagnosis=M<br>radius_mean=%{x}<br>texture_mean=%{y}\", \"legendgroup\": \"diagnosis=M\", \"marker\": {\"color\": \"#636efa\", \"symbol\": \"circle\"}, \"mode\": \"markers\", \"name\": \"diagnosis=M\", \"showlegend\": true, \"type\": \"scatter\", \"x\": [17.99, 20.57, 19.69, 11.42, 20.29, 12.45, 18.25, 13.71, 13.0, 12.46, 16.02, 15.78, 19.17, 15.85, 13.73, 14.54, 14.68, 16.13, 19.81, 15.34, 21.16, 16.65, 17.14, 14.58, 18.61, 15.3, 17.57, 18.63, 11.84, 17.02, 19.27, 16.13, 16.74, 14.25, 14.99, 13.48, 13.44, 10.95, 19.07, 13.28, 13.17, 18.65, 13.17, 18.22, 15.1, 19.21, 14.71, 14.25, 12.68, 14.78, 18.94, 17.2, 13.8, 16.07, 18.05, 20.18, 25.22, 19.1, 18.46, 14.48, 19.02, 15.37, 15.06, 20.26, 14.42, 13.61, 13.11, 22.27, 14.87, 15.78, 17.95, 18.66, 24.25, 13.61, 19.0, 19.79, 15.46, 16.16, 18.45, 12.77, 14.95, 16.11, 11.8, 17.68, 19.19, 19.59, 23.27, 16.78, 17.47, 13.43, 15.46, 16.46, 27.22, 21.09, 15.7, 15.28, 18.31, 14.22, 12.34, 14.86, 13.77, 18.08, 19.18, 14.45, 17.54, 23.29, 13.81, 15.12, 17.01, 20.58, 28.11, 17.42, 14.19, 13.86, 19.8, 19.53, 15.75, 12.83, 17.05, 20.51, 23.21, 20.48, 17.46, 19.4, 20.94, 19.73, 17.3, 19.45, 13.96, 19.55, 15.32, 15.66, 15.53, 20.31, 17.35, 17.29, 15.61, 17.19, 20.73, 21.75, 17.93, 18.81, 19.16, 19.4, 16.24, 11.76, 19.53, 20.09, 18.22, 20.16, 20.34, 16.27, 16.26, 16.03, 17.06, 18.77, 23.51, 19.68, 15.75, 25.73, 15.08, 20.44, 20.2, 21.71, 22.01, 16.35, 21.37, 20.64, 11.08, 14.6, 19.55, 15.49, 21.61, 17.91, 17.99, 15.13, 15.5, 14.9, 20.18, 18.82, 13.98, 17.27, 18.03, 17.75, 21.1, 19.59, 17.08, 27.42, 17.6, 16.25, 19.44, 16.69, 18.01, 18.49, 20.59, 13.82, 23.09, 15.46, 13.4, 15.05, 18.31, 19.89, 24.63, 20.47, 20.55, 14.27, 15.22, 20.92, 21.56, 20.13, 16.6, 20.6], \"xaxis\": \"x\", \"y\": [10.38, 17.77, 21.25, 20.38, 14.34, 15.7, 19.98, 20.83, 21.82, 24.04, 23.24, 17.89, 24.8, 23.95, 22.61, 27.54, 20.13, 20.68, 22.15, 14.26, 23.04, 21.38, 16.4, 21.53, 20.25, 25.27, 15.05, 25.11, 18.7, 23.98, 26.47, 17.88, 21.59, 21.72, 25.2, 20.82, 21.58, 21.35, 24.81, 20.28, 21.81, 17.6, 18.66, 18.7, 22.02, 18.57, 21.59, 22.15, 23.84, 23.94, 21.31, 24.52, 15.79, 19.65, 16.15, 23.97, 24.91, 26.29, 18.52, 21.46, 24.59, 22.76, 19.83, 23.03, 19.77, 24.98, 15.56, 19.67, 16.67, 22.91, 20.01, 17.12, 20.2, 24.69, 18.91, 25.12, 19.48, 21.54, 21.91, 22.47, 17.57, 18.05, 16.58, 20.74, 15.94, 18.15, 22.04, 18.8, 24.68, 19.63, 11.89, 20.11, 21.87, 26.57, 20.31, 22.41, 18.58, 23.12, 26.86, 23.21, 22.29, 21.84, 22.49, 20.22, 19.32, 26.67, 23.75, 16.68, 20.26, 22.14, 18.47, 25.56, 23.81, 16.93, 21.56, 32.47, 20.25, 22.33, 19.08, 27.81, 26.97, 21.46, 39.28, 23.5, 23.56, 19.82, 17.08, 19.33, 17.05, 28.77, 17.27, 23.2, 33.56, 27.06, 23.06, 22.13, 19.38, 22.07, 31.12, 20.99, 24.48, 19.98, 26.6, 18.18, 18.77, 18.14, 18.9, 23.86, 18.87, 19.66, 21.51, 20.71, 21.88, 15.51, 21.0, 21.43, 24.27, 21.68, 19.22, 17.46, 25.74, 21.78, 26.83, 17.25, 21.9, 23.29, 15.1, 17.35, 18.83, 23.29, 23.21, 19.97, 22.28, 21.02, 20.66, 29.81, 21.08, 22.53, 19.54, 21.97, 19.62, 25.42, 16.85, 28.03, 20.52, 25.0, 27.15, 26.27, 23.33, 19.51, 18.82, 20.2, 20.56, 17.52, 21.24, 24.49, 19.83, 23.95, 20.52, 19.07, 20.58, 20.26, 21.6, 20.67, 20.86, 22.55, 30.62, 25.09, 22.39, 28.25, 28.08, 29.33], \"yaxis\": \"y\"}, {\"hoverlabel\": {\"namelength\": 0}, \"hovertemplate\": \"diagnosis=B<br>radius_mean=%{x}<br>texture_mean=%{y}\", \"legendgroup\": \"diagnosis=B\", \"marker\": {\"color\": \"#EF553B\", \"symbol\": \"circle\"}, \"mode\": \"markers\", \"name\": \"diagnosis=B\", \"showlegend\": true, \"type\": \"scatter\", \"x\": [13.54, 13.08, 9.504, 13.03, 8.196, 12.05, 13.49, 11.76, 13.64, 11.94, 11.52, 13.05, 8.618, 10.17, 8.597999999999999, 9.173, 9.465, 11.31, 9.029, 12.78, 8.888, 12.31, 13.53, 12.86, 11.45, 13.34, 12.0, 12.36, 14.64, 14.62, 13.27, 13.45, 12.18, 9.787, 11.6, 6.981, 12.18, 9.876, 10.49, 11.64, 12.36, 11.34, 9.777000000000001, 12.63, 14.26, 10.51, 8.726, 11.93, 8.95, 11.41, 14.5, 13.37, 13.85, 15.1, 12.19, 15.71, 11.71, 11.43, 11.28, 9.738, 11.43, 12.9, 10.75, 11.9, 14.95, 14.44, 13.74, 13.0, 8.219, 9.731, 11.15, 13.15, 12.25, 16.84, 12.06, 10.9, 11.75, 12.34, 14.97, 10.8, 14.97, 12.32, 11.08, 10.66, 8.671, 9.904, 13.01, 12.81, 11.41, 10.08, 11.71, 11.81, 12.3, 12.77, 9.72, 12.91, 12.23, 12.47, 9.876, 13.11, 15.27, 11.84, 11.89, 10.2, 13.65, 13.56, 10.18, 13.27, 14.34, 10.44, 15.0, 12.62, 11.32, 11.22, 9.567, 14.03, 14.22, 13.64, 12.42, 11.3, 13.75, 10.48, 13.2, 12.89, 10.65, 11.52, 11.5, 10.6, 13.59, 12.87, 10.71, 14.29, 11.29, 9.742, 11.89, 11.33, 13.59, 13.85, 11.74, 12.89, 12.58, 11.94, 12.89, 11.26, 11.37, 14.41, 14.96, 12.95, 11.85, 12.72, 13.77, 10.91, 14.26, 10.51, 12.46, 10.49, 11.46, 11.6, 13.2, 9.0, 13.5, 13.05, 11.7, 14.61, 12.76, 11.54, 8.597000000000001, 12.49, 12.18, 9.042, 12.43, 10.25, 12.86, 12.2, 12.67, 14.11, 12.03, 12.98, 11.22, 11.25, 12.3, 12.99, 10.05, 14.42, 9.606, 11.06, 11.71, 10.26, 12.06, 14.76, 11.47, 11.95, 11.66, 11.14, 12.56, 13.05, 13.87, 8.878, 9.436, 12.54, 13.3, 12.76, 16.5, 13.4, 12.21, 15.19, 13.69, 16.17, 10.57, 13.46, 13.66, 11.27, 11.04, 12.05, 12.39, 13.28, 12.21, 13.88, 11.27, 10.26, 8.734, 12.1, 14.06, 13.51, 12.8, 11.06, 11.8, 11.93, 12.96, 12.94, 12.34, 10.94, 16.14, 12.85, 12.27, 11.36, 11.04, 9.397, 14.99, 11.89, 9.405, 12.7, 11.16, 11.57, 14.69, 11.61, 13.66, 9.742, 10.03, 10.48, 10.8, 11.13, 12.72, 12.4, 14.86, 12.87, 14.04, 13.85, 14.02, 10.97, 13.78, 10.57, 11.99, 14.8, 14.53, 11.87, 12.0, 14.53, 12.62, 13.38, 11.63, 13.21, 13.0, 9.755, 14.4, 11.6, 13.17, 13.24, 13.14, 9.668, 11.62, 9.667, 12.04, 14.92, 12.27, 10.88, 12.83, 14.2, 13.9, 11.49, 12.16, 13.9, 13.47, 13.7, 15.73, 12.45, 14.64, 11.68, 12.25, 17.85, 12.46, 13.16, 14.87, 12.65, 12.47, 15.04, 12.54, 9.267999999999999, 9.676, 12.22, 11.06, 16.3, 11.74, 14.81, 14.58, 11.34, 12.88, 12.75, 9.295, 11.26, 13.71, 9.847000000000001, 8.571, 13.46, 12.34, 13.94, 12.07, 11.75, 11.67, 13.68, 10.96, 11.69, 7.729, 7.691, 11.54, 14.47, 14.74, 13.21, 13.87, 13.62, 10.32, 10.26, 9.683, 10.82, 10.86, 11.13, 12.77, 9.333, 12.88, 10.29, 10.16, 9.423, 14.59, 11.51, 14.05, 11.2, 7.76], \"xaxis\": \"x\", \"y\": [14.36, 15.71, 12.44, 18.42, 16.84, 14.63, 22.3, 21.6, 16.34, 18.24, 18.75, 19.31, 11.79, 14.88, 20.98, 13.86, 21.01, 19.04, 17.33, 16.49, 14.64, 16.52, 10.94, 18.0, 20.97, 15.86, 15.65, 21.8, 15.24, 24.02, 14.76, 18.3, 17.84, 19.94, 12.84, 13.43, 20.52, 19.4, 19.29, 18.33, 18.54, 21.26, 16.99, 20.76, 19.65, 20.19, 15.83, 21.53, 15.76, 10.82, 10.89, 16.39, 17.21, 16.39, 13.29, 13.93, 16.67, 15.39, 13.39, 11.97, 17.31, 15.92, 14.97, 14.65, 18.77, 15.18, 17.91, 20.78, 20.7, 15.34, 13.08, 15.34, 17.94, 19.46, 12.74, 12.96, 20.18, 22.22, 19.76, 9.71, 16.95, 12.39, 14.71, 15.15, 14.45, 18.06, 22.22, 13.06, 14.92, 15.11, 17.19, 17.39, 15.9, 21.41, 18.22, 16.33, 19.56, 18.6, 17.27, 22.54, 12.91, 18.94, 18.35, 17.48, 13.16, 13.9, 17.53, 17.02, 13.47, 15.46, 15.51, 23.97, 27.08, 33.81, 15.91, 21.25, 27.85, 15.6, 15.04, 18.19, 23.77, 19.86, 17.43, 14.11, 25.22, 14.93, 18.45, 18.95, 21.84, 16.21, 20.39, 16.82, 13.04, 15.67, 17.36, 14.16, 17.84, 15.18, 14.02, 15.7, 18.4, 20.76, 13.12, 19.96, 18.89, 19.73, 19.1, 16.02, 17.46, 13.78, 13.27, 12.35, 18.17, 23.09, 19.89, 18.61, 18.16, 24.49, 15.82, 14.4, 12.71, 13.84, 19.11, 15.69, 13.37, 10.72, 18.6, 16.85, 14.08, 18.9, 17.0, 16.18, 13.32, 15.21, 17.3, 12.88, 17.93, 19.35, 19.86, 14.78, 19.02, 14.23, 17.53, 16.54, 16.84, 14.96, 15.45, 14.71, 18.9, 14.74, 16.03, 14.96, 17.07, 14.07, 19.07, 18.59, 16.21, 15.49, 18.32, 18.07, 21.57, 18.84, 18.29, 16.95, 18.02, 13.21, 16.07, 16.07, 20.22, 28.21, 15.15, 12.96, 14.93, 22.72, 17.48, 13.72, 14.09, 16.16, 15.5, 12.22, 16.84, 17.72, 17.18, 18.89, 17.46, 14.83, 17.26, 10.91, 18.29, 16.17, 14.95, 18.59, 14.86, 21.37, 17.92, 17.57, 16.83, 21.68, 22.11, 21.17, 21.7, 12.17, 21.41, 19.04, 13.98, 16.02, 19.13, 19.12, 21.28, 14.98, 21.98, 16.62, 17.67, 17.68, 16.94, 19.54, 15.98, 19.6, 15.66, 17.2, 15.79, 18.32, 24.89, 17.66, 19.34, 21.54, 28.23, 13.98, 17.15, 30.72, 29.29, 25.25, 25.13, 28.2, 26.99, 18.36, 18.22, 20.13, 20.74, 18.1, 18.18, 18.49, 28.14, 14.93, 29.97, 15.62, 15.73, 20.53, 16.62, 14.59, 18.03, 19.24, 14.06, 17.64, 11.28, 16.41, 16.85, 16.17, 22.44, 13.23, 12.83, 20.54, 20.21, 18.17, 17.31, 16.74, 16.32, 12.87, 13.14, 20.04, 17.12, 15.7, 14.69, 14.7, 13.66, 18.61, 18.22, 16.7, 13.9, 19.83, 18.68, 15.68, 13.1, 18.75, 12.27, 13.17, 13.44, 17.56, 20.02, 16.33, 17.62, 24.44, 25.49, 25.44, 14.44, 24.99, 25.42, 28.06, 20.7, 23.23, 16.35, 16.58, 19.34, 24.21, 21.48, 22.44, 29.43, 21.94, 28.92, 27.61, 19.59, 27.88, 22.68, 23.93, 27.15, 29.37, 24.54], \"yaxis\": \"y\"}],\n",
              "                        {\"legend\": {\"tracegroupgap\": 0}, \"margin\": {\"t\": 60}, \"template\": {\"data\": {\"bar\": [{\"error_x\": {\"color\": \"#2a3f5f\"}, \"error_y\": {\"color\": \"#2a3f5f\"}, \"marker\": {\"line\": {\"color\": \"#E5ECF6\", \"width\": 0.5}}, \"type\": \"bar\"}], \"barpolar\": [{\"marker\": {\"line\": {\"color\": \"#E5ECF6\", \"width\": 0.5}}, \"type\": \"barpolar\"}], \"carpet\": [{\"aaxis\": {\"endlinecolor\": \"#2a3f5f\", \"gridcolor\": \"white\", \"linecolor\": \"white\", \"minorgridcolor\": \"white\", \"startlinecolor\": \"#2a3f5f\"}, \"baxis\": {\"endlinecolor\": \"#2a3f5f\", \"gridcolor\": \"white\", \"linecolor\": \"white\", \"minorgridcolor\": \"white\", \"startlinecolor\": \"#2a3f5f\"}, \"type\": \"carpet\"}], \"choropleth\": [{\"colorbar\": {\"outlinewidth\": 0, \"ticks\": \"\"}, \"type\": \"choropleth\"}], \"contour\": [{\"colorbar\": {\"outlinewidth\": 0, \"ticks\": \"\"}, \"colorscale\": [[0.0, \"#0d0887\"], [0.1111111111111111, \"#46039f\"], [0.2222222222222222, \"#7201a8\"], [0.3333333333333333, \"#9c179e\"], [0.4444444444444444, \"#bd3786\"], [0.5555555555555556, \"#d8576b\"], [0.6666666666666666, \"#ed7953\"], [0.7777777777777778, \"#fb9f3a\"], [0.8888888888888888, \"#fdca26\"], [1.0, \"#f0f921\"]], \"type\": \"contour\"}], \"contourcarpet\": [{\"colorbar\": {\"outlinewidth\": 0, \"ticks\": \"\"}, \"type\": \"contourcarpet\"}], \"heatmap\": [{\"colorbar\": {\"outlinewidth\": 0, \"ticks\": \"\"}, \"colorscale\": [[0.0, \"#0d0887\"], [0.1111111111111111, \"#46039f\"], [0.2222222222222222, \"#7201a8\"], [0.3333333333333333, \"#9c179e\"], [0.4444444444444444, \"#bd3786\"], [0.5555555555555556, \"#d8576b\"], [0.6666666666666666, \"#ed7953\"], [0.7777777777777778, \"#fb9f3a\"], [0.8888888888888888, \"#fdca26\"], [1.0, \"#f0f921\"]], \"type\": \"heatmap\"}], \"heatmapgl\": [{\"colorbar\": {\"outlinewidth\": 0, \"ticks\": \"\"}, \"colorscale\": [[0.0, \"#0d0887\"], [0.1111111111111111, \"#46039f\"], [0.2222222222222222, \"#7201a8\"], [0.3333333333333333, \"#9c179e\"], [0.4444444444444444, \"#bd3786\"], [0.5555555555555556, \"#d8576b\"], [0.6666666666666666, \"#ed7953\"], [0.7777777777777778, \"#fb9f3a\"], [0.8888888888888888, \"#fdca26\"], [1.0, \"#f0f921\"]], \"type\": \"heatmapgl\"}], \"histogram\": [{\"marker\": {\"colorbar\": {\"outlinewidth\": 0, \"ticks\": \"\"}}, \"type\": \"histogram\"}], \"histogram2d\": [{\"colorbar\": {\"outlinewidth\": 0, \"ticks\": \"\"}, \"colorscale\": [[0.0, \"#0d0887\"], [0.1111111111111111, \"#46039f\"], [0.2222222222222222, \"#7201a8\"], [0.3333333333333333, \"#9c179e\"], [0.4444444444444444, \"#bd3786\"], [0.5555555555555556, \"#d8576b\"], [0.6666666666666666, \"#ed7953\"], [0.7777777777777778, \"#fb9f3a\"], [0.8888888888888888, \"#fdca26\"], [1.0, \"#f0f921\"]], \"type\": \"histogram2d\"}], \"histogram2dcontour\": [{\"colorbar\": {\"outlinewidth\": 0, \"ticks\": \"\"}, \"colorscale\": [[0.0, \"#0d0887\"], [0.1111111111111111, \"#46039f\"], [0.2222222222222222, \"#7201a8\"], [0.3333333333333333, \"#9c179e\"], [0.4444444444444444, \"#bd3786\"], [0.5555555555555556, \"#d8576b\"], [0.6666666666666666, \"#ed7953\"], [0.7777777777777778, \"#fb9f3a\"], [0.8888888888888888, \"#fdca26\"], [1.0, \"#f0f921\"]], \"type\": \"histogram2dcontour\"}], \"mesh3d\": [{\"colorbar\": {\"outlinewidth\": 0, \"ticks\": \"\"}, \"type\": \"mesh3d\"}], \"parcoords\": [{\"line\": {\"colorbar\": {\"outlinewidth\": 0, \"ticks\": \"\"}}, \"type\": \"parcoords\"}], \"pie\": [{\"automargin\": true, \"type\": \"pie\"}], \"scatter\": [{\"marker\": {\"colorbar\": {\"outlinewidth\": 0, \"ticks\": \"\"}}, \"type\": \"scatter\"}], \"scatter3d\": [{\"line\": {\"colorbar\": {\"outlinewidth\": 0, \"ticks\": \"\"}}, \"marker\": {\"colorbar\": {\"outlinewidth\": 0, \"ticks\": \"\"}}, \"type\": \"scatter3d\"}], \"scattercarpet\": [{\"marker\": {\"colorbar\": {\"outlinewidth\": 0, \"ticks\": \"\"}}, \"type\": \"scattercarpet\"}], \"scattergeo\": [{\"marker\": {\"colorbar\": {\"outlinewidth\": 0, \"ticks\": \"\"}}, \"type\": \"scattergeo\"}], \"scattergl\": [{\"marker\": {\"colorbar\": {\"outlinewidth\": 0, \"ticks\": \"\"}}, \"type\": \"scattergl\"}], \"scattermapbox\": [{\"marker\": {\"colorbar\": {\"outlinewidth\": 0, \"ticks\": \"\"}}, \"type\": \"scattermapbox\"}], \"scatterpolar\": [{\"marker\": {\"colorbar\": {\"outlinewidth\": 0, \"ticks\": \"\"}}, \"type\": \"scatterpolar\"}], \"scatterpolargl\": [{\"marker\": {\"colorbar\": {\"outlinewidth\": 0, \"ticks\": \"\"}}, \"type\": \"scatterpolargl\"}], \"scatterternary\": [{\"marker\": {\"colorbar\": {\"outlinewidth\": 0, \"ticks\": \"\"}}, \"type\": \"scatterternary\"}], \"surface\": [{\"colorbar\": {\"outlinewidth\": 0, \"ticks\": \"\"}, \"colorscale\": [[0.0, \"#0d0887\"], [0.1111111111111111, \"#46039f\"], [0.2222222222222222, \"#7201a8\"], [0.3333333333333333, \"#9c179e\"], [0.4444444444444444, \"#bd3786\"], [0.5555555555555556, \"#d8576b\"], [0.6666666666666666, \"#ed7953\"], [0.7777777777777778, \"#fb9f3a\"], [0.8888888888888888, \"#fdca26\"], [1.0, \"#f0f921\"]], \"type\": \"surface\"}], \"table\": [{\"cells\": {\"fill\": {\"color\": \"#EBF0F8\"}, \"line\": {\"color\": \"white\"}}, \"header\": {\"fill\": {\"color\": \"#C8D4E3\"}, \"line\": {\"color\": \"white\"}}, \"type\": \"table\"}]}, \"layout\": {\"annotationdefaults\": {\"arrowcolor\": \"#2a3f5f\", \"arrowhead\": 0, \"arrowwidth\": 1}, \"coloraxis\": {\"colorbar\": {\"outlinewidth\": 0, \"ticks\": \"\"}}, \"colorscale\": {\"diverging\": [[0, \"#8e0152\"], [0.1, \"#c51b7d\"], [0.2, \"#de77ae\"], [0.3, \"#f1b6da\"], [0.4, \"#fde0ef\"], [0.5, \"#f7f7f7\"], [0.6, \"#e6f5d0\"], [0.7, \"#b8e186\"], [0.8, \"#7fbc41\"], [0.9, \"#4d9221\"], [1, \"#276419\"]], \"sequential\": [[0.0, \"#0d0887\"], [0.1111111111111111, \"#46039f\"], [0.2222222222222222, \"#7201a8\"], [0.3333333333333333, \"#9c179e\"], [0.4444444444444444, \"#bd3786\"], [0.5555555555555556, \"#d8576b\"], [0.6666666666666666, \"#ed7953\"], [0.7777777777777778, \"#fb9f3a\"], [0.8888888888888888, \"#fdca26\"], [1.0, \"#f0f921\"]], \"sequentialminus\": [[0.0, \"#0d0887\"], [0.1111111111111111, \"#46039f\"], [0.2222222222222222, \"#7201a8\"], [0.3333333333333333, \"#9c179e\"], [0.4444444444444444, \"#bd3786\"], [0.5555555555555556, \"#d8576b\"], [0.6666666666666666, \"#ed7953\"], [0.7777777777777778, \"#fb9f3a\"], [0.8888888888888888, \"#fdca26\"], [1.0, \"#f0f921\"]]}, \"colorway\": [\"#636efa\", \"#EF553B\", \"#00cc96\", \"#ab63fa\", \"#FFA15A\", \"#19d3f3\", \"#FF6692\", \"#B6E880\", \"#FF97FF\", \"#FECB52\"], \"font\": {\"color\": \"#2a3f5f\"}, \"geo\": {\"bgcolor\": \"white\", \"lakecolor\": \"white\", \"landcolor\": \"#E5ECF6\", \"showlakes\": true, \"showland\": true, \"subunitcolor\": \"white\"}, \"hoverlabel\": {\"align\": \"left\"}, \"hovermode\": \"closest\", \"mapbox\": {\"style\": \"light\"}, \"paper_bgcolor\": \"white\", \"plot_bgcolor\": \"#E5ECF6\", \"polar\": {\"angularaxis\": {\"gridcolor\": \"white\", \"linecolor\": \"white\", \"ticks\": \"\"}, \"bgcolor\": \"#E5ECF6\", \"radialaxis\": {\"gridcolor\": \"white\", \"linecolor\": \"white\", \"ticks\": \"\"}}, \"scene\": {\"xaxis\": {\"backgroundcolor\": \"#E5ECF6\", \"gridcolor\": \"white\", \"gridwidth\": 2, \"linecolor\": \"white\", \"showbackground\": true, \"ticks\": \"\", \"zerolinecolor\": \"white\"}, \"yaxis\": {\"backgroundcolor\": \"#E5ECF6\", \"gridcolor\": \"white\", \"gridwidth\": 2, \"linecolor\": \"white\", \"showbackground\": true, \"ticks\": \"\", \"zerolinecolor\": \"white\"}, \"zaxis\": {\"backgroundcolor\": \"#E5ECF6\", \"gridcolor\": \"white\", \"gridwidth\": 2, \"linecolor\": \"white\", \"showbackground\": true, \"ticks\": \"\", \"zerolinecolor\": \"white\"}}, \"shapedefaults\": {\"line\": {\"color\": \"#2a3f5f\"}}, \"ternary\": {\"aaxis\": {\"gridcolor\": \"white\", \"linecolor\": \"white\", \"ticks\": \"\"}, \"baxis\": {\"gridcolor\": \"white\", \"linecolor\": \"white\", \"ticks\": \"\"}, \"bgcolor\": \"#E5ECF6\", \"caxis\": {\"gridcolor\": \"white\", \"linecolor\": \"white\", \"ticks\": \"\"}}, \"title\": {\"x\": 0.05}, \"xaxis\": {\"automargin\": true, \"gridcolor\": \"white\", \"linecolor\": \"white\", \"ticks\": \"\", \"title\": {\"standoff\": 15}, \"zerolinecolor\": \"white\", \"zerolinewidth\": 2}, \"yaxis\": {\"automargin\": true, \"gridcolor\": \"white\", \"linecolor\": \"white\", \"ticks\": \"\", \"title\": {\"standoff\": 15}, \"zerolinecolor\": \"white\", \"zerolinewidth\": 2}}}, \"xaxis\": {\"anchor\": \"y\", \"domain\": [0.0, 1.0], \"title\": {\"text\": \"radius_mean\"}}, \"yaxis\": {\"anchor\": \"x\", \"domain\": [0.0, 1.0], \"title\": {\"text\": \"texture_mean\"}}},\n",
              "                        {\"responsive\": true}\n",
              "                    ).then(function(){\n",
              "                            \n",
              "var gd = document.getElementById('6147ad84-e539-49e5-affc-f502f0f372d5');\n",
              "var x = new MutationObserver(function (mutations, observer) {{\n",
              "        var display = window.getComputedStyle(gd).display;\n",
              "        if (!display || display === 'none') {{\n",
              "            console.log([gd, 'removed!']);\n",
              "            Plotly.purge(gd);\n",
              "            observer.disconnect();\n",
              "        }}\n",
              "}});\n",
              "\n",
              "// Listen for the removal of the full notebook cells\n",
              "var notebookContainer = gd.closest('#notebook-container');\n",
              "if (notebookContainer) {{\n",
              "    x.observe(notebookContainer, {childList: true});\n",
              "}}\n",
              "\n",
              "// Listen for the clearing of the current output cell\n",
              "var outputEl = gd.closest('.output');\n",
              "if (outputEl) {{\n",
              "    x.observe(outputEl, {childList: true});\n",
              "}}\n",
              "\n",
              "                        })\n",
              "                };\n",
              "                \n",
              "            </script>\n",
              "        </div>\n",
              "</body>\n",
              "</html>"
            ]
          },
          "metadata": {
            "tags": []
          }
        }
      ]
    },
    {
      "cell_type": "code",
      "metadata": {
        "colab": {
          "base_uri": "https://localhost:8080/",
          "height": 542
        },
        "id": "0BQeHCyYL5EB",
        "outputId": "06506007-2dcd-4bd3-c82e-8bef40a90ba2"
      },
      "source": [
        "px.scatter(data, x = 'radius_mean', y ='compactness_mean', color = 'diagnosis')"
      ],
      "execution_count": 9,
      "outputs": [
        {
          "output_type": "display_data",
          "data": {
            "text/html": [
              "<html>\n",
              "<head><meta charset=\"utf-8\" /></head>\n",
              "<body>\n",
              "    <div>\n",
              "            <script src=\"https://cdnjs.cloudflare.com/ajax/libs/mathjax/2.7.5/MathJax.js?config=TeX-AMS-MML_SVG\"></script><script type=\"text/javascript\">if (window.MathJax) {MathJax.Hub.Config({SVG: {font: \"STIX-Web\"}});}</script>\n",
              "                <script type=\"text/javascript\">window.PlotlyConfig = {MathJaxConfig: 'local'};</script>\n",
              "        <script src=\"https://cdn.plot.ly/plotly-latest.min.js\"></script>    \n",
              "            <div id=\"1246c980-605e-45f5-b7c2-ed987a481d41\" class=\"plotly-graph-div\" style=\"height:525px; width:100%;\"></div>\n",
              "            <script type=\"text/javascript\">\n",
              "                \n",
              "                    window.PLOTLYENV=window.PLOTLYENV || {};\n",
              "                    \n",
              "                if (document.getElementById(\"1246c980-605e-45f5-b7c2-ed987a481d41\")) {\n",
              "                    Plotly.newPlot(\n",
              "                        '1246c980-605e-45f5-b7c2-ed987a481d41',\n",
              "                        [{\"hoverlabel\": {\"namelength\": 0}, \"hovertemplate\": \"diagnosis=M<br>radius_mean=%{x}<br>compactness_mean=%{y}\", \"legendgroup\": \"diagnosis=M\", \"marker\": {\"color\": \"#636efa\", \"symbol\": \"circle\"}, \"mode\": \"markers\", \"name\": \"diagnosis=M\", \"showlegend\": true, \"type\": \"scatter\", \"x\": [17.99, 20.57, 19.69, 11.42, 20.29, 12.45, 18.25, 13.71, 13.0, 12.46, 16.02, 15.78, 19.17, 15.85, 13.73, 14.54, 14.68, 16.13, 19.81, 15.34, 21.16, 16.65, 17.14, 14.58, 18.61, 15.3, 17.57, 18.63, 11.84, 17.02, 19.27, 16.13, 16.74, 14.25, 14.99, 13.48, 13.44, 10.95, 19.07, 13.28, 13.17, 18.65, 13.17, 18.22, 15.1, 19.21, 14.71, 14.25, 12.68, 14.78, 18.94, 17.2, 13.8, 16.07, 18.05, 20.18, 25.22, 19.1, 18.46, 14.48, 19.02, 15.37, 15.06, 20.26, 14.42, 13.61, 13.11, 22.27, 14.87, 15.78, 17.95, 18.66, 24.25, 13.61, 19.0, 19.79, 15.46, 16.16, 18.45, 12.77, 14.95, 16.11, 11.8, 17.68, 19.19, 19.59, 23.27, 16.78, 17.47, 13.43, 15.46, 16.46, 27.22, 21.09, 15.7, 15.28, 18.31, 14.22, 12.34, 14.86, 13.77, 18.08, 19.18, 14.45, 17.54, 23.29, 13.81, 15.12, 17.01, 20.58, 28.11, 17.42, 14.19, 13.86, 19.8, 19.53, 15.75, 12.83, 17.05, 20.51, 23.21, 20.48, 17.46, 19.4, 20.94, 19.73, 17.3, 19.45, 13.96, 19.55, 15.32, 15.66, 15.53, 20.31, 17.35, 17.29, 15.61, 17.19, 20.73, 21.75, 17.93, 18.81, 19.16, 19.4, 16.24, 11.76, 19.53, 20.09, 18.22, 20.16, 20.34, 16.27, 16.26, 16.03, 17.06, 18.77, 23.51, 19.68, 15.75, 25.73, 15.08, 20.44, 20.2, 21.71, 22.01, 16.35, 21.37, 20.64, 11.08, 14.6, 19.55, 15.49, 21.61, 17.91, 17.99, 15.13, 15.5, 14.9, 20.18, 18.82, 13.98, 17.27, 18.03, 17.75, 21.1, 19.59, 17.08, 27.42, 17.6, 16.25, 19.44, 16.69, 18.01, 18.49, 20.59, 13.82, 23.09, 15.46, 13.4, 15.05, 18.31, 19.89, 24.63, 20.47, 20.55, 14.27, 15.22, 20.92, 21.56, 20.13, 16.6, 20.6], \"xaxis\": \"x\", \"y\": [0.2776, 0.07864, 0.1599, 0.2839, 0.1328, 0.17, 0.109, 0.1645, 0.1932, 0.2396, 0.06669, 0.1292, 0.2458, 0.1002, 0.2293, 0.1595, 0.07200000000000001, 0.2022, 0.1027, 0.2135, 0.1022, 0.1457, 0.2276, 0.1868, 0.1066, 0.1697, 0.1157, 0.1887, 0.1516, 0.1496, 0.1719, 0.1559, 0.1336, 0.1098, 0.05131, 0.1255, 0.06031, 0.1218, 0.21899999999999997, 0.1436, 0.1047, 0.1686, 0.1231, 0.1485, 0.07081, 0.1267, 0.1365, 0.2008, 0.1262, 0.1479, 0.1029, 0.183, 0.128, 0.08424, 0.2146, 0.3454, 0.2665, 0.1791, 0.1053, 0.09947, 0.1206, 0.1036, 0.1553, 0.1313, 0.1141, 0.08511, 0.1765, 0.2768, 0.1649, 0.1752, 0.06722, 0.11, 0.2867, 0.07862000000000001, 0.08027999999999999, 0.1589, 0.1223, 0.1284, 0.09709, 0.05761, 0.1305, 0.1137, 0.17, 0.1665, 0.1185, 0.1666, 0.1145, 0.09182, 0.1603, 0.06287999999999999, 0.1555, 0.1556, 0.1914, 0.2832, 0.08799, 0.1052, 0.08467999999999999, 0.2413, 0.1353, 0.198, 0.1267, 0.08642000000000001, 0.1428, 0.1206, 0.1198, 0.2084, 0.1768, 0.09587999999999999, 0.07304, 0.1348, 0.1516, 0.1146, 0.1306, 0.1517, 0.1306, 0.113, 0.1204, 0.1799, 0.1572, 0.1074, 0.1682, 0.08348, 0.1298, 0.1558, 0.1606, 0.1849, 0.1041, 0.1188, 0.1279, 0.2063, 0.2284, 0.3114, 0.1639, 0.1088, 0.0629, 0.1273, 0.05616, 0.08995, 0.1143, 0.1961, 0.07027, 0.058839999999999996, 0.1453, 0.1442, 0.1802, 0.05914, 0.1642, 0.1838, 0.1117, 0.08564, 0.1875, 0.1319, 0.1283, 0.1371, 0.1056, 0.1402, 0.1283, 0.1339, 0.2364, 0.2363, 0.09769, 0.1131, 0.1669, 0.08562, 0.1954, 0.1497, 0.1515, 0.1076, 0.2154, 0.06636, 0.1318, 0.1562, 0.2087, 0.2576, 0.1304, 0.04605, 0.1571, 0.2225, 0.1489, 0.1389, 0.1133, 0.1109, 0.1232, 0.1314, 0.1175, 0.09871, 0.111, 0.1988, 0.2004, 0.1893, 0.1448, 0.07112, 0.1289, 0.1317, 0.1644, 0.1681, 0.1275, 0.187, 0.1469, 0.08597, 0.1248, 0.131, 0.2106, 0.1313, 0.1739, 0.1154, 0.2087, 0.2236, 0.1159, 0.1034, 0.1023, 0.27699999999999997], \"yaxis\": \"y\"}, {\"hoverlabel\": {\"namelength\": 0}, \"hovertemplate\": \"diagnosis=B<br>radius_mean=%{x}<br>compactness_mean=%{y}\", \"legendgroup\": \"diagnosis=B\", \"marker\": {\"color\": \"#EF553B\", \"symbol\": \"circle\"}, \"mode\": \"markers\", \"name\": \"diagnosis=B\", \"showlegend\": true, \"type\": \"scatter\", \"x\": [13.54, 13.08, 9.504, 13.03, 8.196, 12.05, 13.49, 11.76, 13.64, 11.94, 11.52, 13.05, 8.618, 10.17, 8.597999999999999, 9.173, 9.465, 11.31, 9.029, 12.78, 8.888, 12.31, 13.53, 12.86, 11.45, 13.34, 12.0, 12.36, 14.64, 14.62, 13.27, 13.45, 12.18, 9.787, 11.6, 6.981, 12.18, 9.876, 10.49, 11.64, 12.36, 11.34, 9.777000000000001, 12.63, 14.26, 10.51, 8.726, 11.93, 8.95, 11.41, 14.5, 13.37, 13.85, 15.1, 12.19, 15.71, 11.71, 11.43, 11.28, 9.738, 11.43, 12.9, 10.75, 11.9, 14.95, 14.44, 13.74, 13.0, 8.219, 9.731, 11.15, 13.15, 12.25, 16.84, 12.06, 10.9, 11.75, 12.34, 14.97, 10.8, 14.97, 12.32, 11.08, 10.66, 8.671, 9.904, 13.01, 12.81, 11.41, 10.08, 11.71, 11.81, 12.3, 12.77, 9.72, 12.91, 12.23, 12.47, 9.876, 13.11, 15.27, 11.84, 11.89, 10.2, 13.65, 13.56, 10.18, 13.27, 14.34, 10.44, 15.0, 12.62, 11.32, 11.22, 9.567, 14.03, 14.22, 13.64, 12.42, 11.3, 13.75, 10.48, 13.2, 12.89, 10.65, 11.52, 11.5, 10.6, 13.59, 12.87, 10.71, 14.29, 11.29, 9.742, 11.89, 11.33, 13.59, 13.85, 11.74, 12.89, 12.58, 11.94, 12.89, 11.26, 11.37, 14.41, 14.96, 12.95, 11.85, 12.72, 13.77, 10.91, 14.26, 10.51, 12.46, 10.49, 11.46, 11.6, 13.2, 9.0, 13.5, 13.05, 11.7, 14.61, 12.76, 11.54, 8.597000000000001, 12.49, 12.18, 9.042, 12.43, 10.25, 12.86, 12.2, 12.67, 14.11, 12.03, 12.98, 11.22, 11.25, 12.3, 12.99, 10.05, 14.42, 9.606, 11.06, 11.71, 10.26, 12.06, 14.76, 11.47, 11.95, 11.66, 11.14, 12.56, 13.05, 13.87, 8.878, 9.436, 12.54, 13.3, 12.76, 16.5, 13.4, 12.21, 15.19, 13.69, 16.17, 10.57, 13.46, 13.66, 11.27, 11.04, 12.05, 12.39, 13.28, 12.21, 13.88, 11.27, 10.26, 8.734, 12.1, 14.06, 13.51, 12.8, 11.06, 11.8, 11.93, 12.96, 12.94, 12.34, 10.94, 16.14, 12.85, 12.27, 11.36, 11.04, 9.397, 14.99, 11.89, 9.405, 12.7, 11.16, 11.57, 14.69, 11.61, 13.66, 9.742, 10.03, 10.48, 10.8, 11.13, 12.72, 12.4, 14.86, 12.87, 14.04, 13.85, 14.02, 10.97, 13.78, 10.57, 11.99, 14.8, 14.53, 11.87, 12.0, 14.53, 12.62, 13.38, 11.63, 13.21, 13.0, 9.755, 14.4, 11.6, 13.17, 13.24, 13.14, 9.668, 11.62, 9.667, 12.04, 14.92, 12.27, 10.88, 12.83, 14.2, 13.9, 11.49, 12.16, 13.9, 13.47, 13.7, 15.73, 12.45, 14.64, 11.68, 12.25, 17.85, 12.46, 13.16, 14.87, 12.65, 12.47, 15.04, 12.54, 9.267999999999999, 9.676, 12.22, 11.06, 16.3, 11.74, 14.81, 14.58, 11.34, 12.88, 12.75, 9.295, 11.26, 13.71, 9.847000000000001, 8.571, 13.46, 12.34, 13.94, 12.07, 11.75, 11.67, 13.68, 10.96, 11.69, 7.729, 7.691, 11.54, 14.47, 14.74, 13.21, 13.87, 13.62, 10.32, 10.26, 9.683, 10.82, 10.86, 11.13, 12.77, 9.333, 12.88, 10.29, 10.16, 9.423, 14.59, 11.51, 14.05, 11.2, 7.76], \"xaxis\": \"x\", \"y\": [0.08129, 0.127, 0.06492, 0.03766, 0.05943, 0.09092, 0.07697999999999999, 0.04966, 0.06059, 0.047510000000000004, 0.054729999999999994, 0.03789, 0.05272, 0.08061, 0.08963, 0.08751, 0.07773, 0.04701, 0.1413, 0.05234, 0.1531, 0.06829, 0.1047, 0.09546, 0.09362000000000001, 0.1535, 0.07165, 0.09445, 0.1339, 0.08606, 0.05055, 0.08165, 0.07057000000000001, 0.05301, 0.07525, 0.07568, 0.04038, 0.09697, 0.08578, 0.1017, 0.06815, 0.06575, 0.08404, 0.1209, 0.2233, 0.1303, 0.08201, 0.07849, 0.1243, 0.06685, 0.1099, 0.07325, 0.061360000000000005, 0.1807, 0.09509, 0.09462000000000001, 0.06095, 0.06888999999999999, 0.1136, 0.04102, 0.09486, 0.09509, 0.05139, 0.1296, 0.1167, 0.1021, 0.06376, 0.07589, 0.1305, 0.1599, 0.05113, 0.08498, 0.06679, 0.07222999999999999, 0.052410000000000005, 0.03718, 0.1141, 0.1015, 0.053520000000000005, 0.05736, 0.07885, 0.06981, 0.057429999999999995, 0.043019999999999996, 0.04276, 0.1294, 0.01938, 0.037739999999999996, 0.08155, 0.04695, 0.06141, 0.05562, 0.07253, 0.06601, 0.02344, 0.05366, 0.08087000000000001, 0.1058, 0.07232000000000001, 0.1483, 0.0623, 0.069, 0.1154, 0.059070000000000004, 0.08711, 0.1192, 0.08502, 0.04994, 0.07624, 0.07722000000000001, 0.1096, 0.07529, 0.038130000000000004, 0.03574, 0.04087, 0.06945, 0.1039, 0.0663, 0.03393, 0.1325, 0.06807, 0.05971, 0.045239999999999995, 0.1346, 0.07234, 0.07808, 0.059910000000000005, 0.1147, 0.08259, 0.062189999999999995, 0.1289, 0.02675, 0.07608, 0.04689, 0.0721, 0.03872, 0.04052, 0.07687999999999999, 0.0434, 0.0958, 0.04216, 0.1011, 0.03729, 0.1181, 0.05008, 0.1676, 0.09823, 0.07943, 0.056420000000000005, 0.08392999999999999, 0.06221, 0.04721, 0.0522, 0.06797, 0.1014, 0.06677999999999999, 0.07694, 0.05687999999999999, 0.05251, 0.031160000000000004, 0.03614, 0.03735, 0.05252999999999999, 0.03515, 0.07948, 0.05969, 0.05847, 0.03834, 0.032119999999999996, 0.1972, 0.034539999999999994, 0.1111, 0.08834, 0.06545, 0.07664, 0.05306, 0.038919999999999996, 0.1125, 0.06779, 0.04458, 0.04202, 0.09965, 0.07326, 0.1139, 0.09228, 0.09097000000000001, 0.07281, 0.09158999999999999, 0.05794, 0.0778, 0.05886, 0.1206, 0.0363, 0.06064, 0.1038, 0.1304, 0.054920000000000004, 0.07697999999999999, 0.05956, 0.0265, 0.06373, 0.07952000000000001, 0.08467999999999999, 0.056960000000000004, 0.07175, 0.06934, 0.06373999999999999, 0.1438, 0.166, 0.04726, 0.07547999999999999, 0.1111, 0.07078999999999999, 0.1073, 0.1297, 0.08575, 0.07823, 0.048310000000000006, 0.1114, 0.07542, 0.07428, 0.09758, 0.053610000000000005, 0.1147, 0.08895, 0.04768, 0.06232000000000001, 0.05242, 0.07899, 0.08836000000000001, 0.04571, 0.0746, 0.08501, 0.08316, 0.06526, 0.05313, 0.07804, 0.060529999999999994, 0.1025, 0.0812, 0.06159, 0.05794, 0.05977999999999999, 0.07722000000000001, 0.1836, 0.1168, 0.1147, 0.08333, 0.03912, 0.1013, 0.057429999999999995, 0.03834, 0.045219999999999996, 0.1316, 0.07074, 0.07883, 0.05895, 0.0633, 0.055810000000000005, 0.1113, 0.06717999999999999, 0.04462, 0.09218, 0.0889, 0.078, 0.1064, 0.0645, 0.09242, 0.0543, 0.07426, 0.08574, 0.05205, 0.050730000000000004, 0.04626, 0.05223, 0.05855, 0.05994, 0.1223, 0.1089, 0.054279999999999995, 0.1483, 0.06258, 0.06, 0.08549, 0.03398, 0.1069, 0.08269, 0.1108, 0.05319, 0.08227999999999999, 0.07837999999999999, 0.05326, 0.1155, 0.07957, 0.1299, 0.1511, 0.06698, 0.09262999999999999, 0.052000000000000005, 0.06217, 0.04043, 0.05275, 0.08345, 0.1334, 0.0763, 0.1364, 0.1085, 0.2239, 0.2204, 0.1152, 0.1071, 0.06712, 0.09661, 0.05016, 0.08918, 0.08499, 0.1661, 0.1117, 0.1225, 0.04413, 0.107, 0.08419, 0.07632, 0.1138, 0.06307, 0.09755, 0.09009, 0.09713, 0.09452999999999999, 0.07255, 0.09752000000000001, 0.1552, 0.048780000000000004, 0.1199, 0.11199999999999999, 0.12300000000000001, 0.07214, 0.06877, 0.1018, 0.06747, 0.04994, 0.08066, 0.0503, 0.06602000000000001, 0.04227, 0.08194, 0.042339999999999996, 0.05605, 0.05824, 0.07658, 0.07504, 0.049710000000000004, 0.133, 0.1021, 0.1126, 0.03558, 0.04362], \"yaxis\": \"y\"}],\n",
              "                        {\"legend\": {\"tracegroupgap\": 0}, \"margin\": {\"t\": 60}, \"template\": {\"data\": {\"bar\": [{\"error_x\": {\"color\": \"#2a3f5f\"}, \"error_y\": {\"color\": \"#2a3f5f\"}, \"marker\": {\"line\": {\"color\": \"#E5ECF6\", \"width\": 0.5}}, \"type\": \"bar\"}], \"barpolar\": [{\"marker\": {\"line\": {\"color\": \"#E5ECF6\", \"width\": 0.5}}, \"type\": \"barpolar\"}], \"carpet\": [{\"aaxis\": {\"endlinecolor\": \"#2a3f5f\", \"gridcolor\": \"white\", \"linecolor\": \"white\", \"minorgridcolor\": \"white\", \"startlinecolor\": \"#2a3f5f\"}, \"baxis\": {\"endlinecolor\": \"#2a3f5f\", \"gridcolor\": \"white\", \"linecolor\": \"white\", \"minorgridcolor\": \"white\", \"startlinecolor\": \"#2a3f5f\"}, \"type\": \"carpet\"}], \"choropleth\": [{\"colorbar\": {\"outlinewidth\": 0, \"ticks\": \"\"}, \"type\": \"choropleth\"}], \"contour\": [{\"colorbar\": {\"outlinewidth\": 0, \"ticks\": \"\"}, \"colorscale\": [[0.0, \"#0d0887\"], [0.1111111111111111, \"#46039f\"], [0.2222222222222222, \"#7201a8\"], [0.3333333333333333, \"#9c179e\"], [0.4444444444444444, \"#bd3786\"], [0.5555555555555556, \"#d8576b\"], [0.6666666666666666, \"#ed7953\"], [0.7777777777777778, \"#fb9f3a\"], [0.8888888888888888, \"#fdca26\"], [1.0, \"#f0f921\"]], \"type\": \"contour\"}], \"contourcarpet\": [{\"colorbar\": {\"outlinewidth\": 0, \"ticks\": \"\"}, \"type\": \"contourcarpet\"}], \"heatmap\": [{\"colorbar\": {\"outlinewidth\": 0, \"ticks\": \"\"}, \"colorscale\": [[0.0, \"#0d0887\"], [0.1111111111111111, \"#46039f\"], [0.2222222222222222, \"#7201a8\"], [0.3333333333333333, \"#9c179e\"], [0.4444444444444444, \"#bd3786\"], [0.5555555555555556, \"#d8576b\"], [0.6666666666666666, \"#ed7953\"], [0.7777777777777778, \"#fb9f3a\"], [0.8888888888888888, \"#fdca26\"], [1.0, \"#f0f921\"]], \"type\": \"heatmap\"}], \"heatmapgl\": [{\"colorbar\": {\"outlinewidth\": 0, \"ticks\": \"\"}, \"colorscale\": [[0.0, \"#0d0887\"], [0.1111111111111111, \"#46039f\"], [0.2222222222222222, \"#7201a8\"], [0.3333333333333333, \"#9c179e\"], [0.4444444444444444, \"#bd3786\"], [0.5555555555555556, \"#d8576b\"], [0.6666666666666666, \"#ed7953\"], [0.7777777777777778, \"#fb9f3a\"], [0.8888888888888888, \"#fdca26\"], [1.0, \"#f0f921\"]], \"type\": \"heatmapgl\"}], \"histogram\": [{\"marker\": {\"colorbar\": {\"outlinewidth\": 0, \"ticks\": \"\"}}, \"type\": \"histogram\"}], \"histogram2d\": [{\"colorbar\": {\"outlinewidth\": 0, \"ticks\": \"\"}, \"colorscale\": [[0.0, \"#0d0887\"], [0.1111111111111111, \"#46039f\"], [0.2222222222222222, \"#7201a8\"], [0.3333333333333333, \"#9c179e\"], [0.4444444444444444, \"#bd3786\"], [0.5555555555555556, \"#d8576b\"], [0.6666666666666666, \"#ed7953\"], [0.7777777777777778, \"#fb9f3a\"], [0.8888888888888888, \"#fdca26\"], [1.0, \"#f0f921\"]], \"type\": \"histogram2d\"}], \"histogram2dcontour\": [{\"colorbar\": {\"outlinewidth\": 0, \"ticks\": \"\"}, \"colorscale\": [[0.0, \"#0d0887\"], [0.1111111111111111, \"#46039f\"], [0.2222222222222222, \"#7201a8\"], [0.3333333333333333, \"#9c179e\"], [0.4444444444444444, \"#bd3786\"], [0.5555555555555556, \"#d8576b\"], [0.6666666666666666, \"#ed7953\"], [0.7777777777777778, \"#fb9f3a\"], [0.8888888888888888, \"#fdca26\"], [1.0, \"#f0f921\"]], \"type\": \"histogram2dcontour\"}], \"mesh3d\": [{\"colorbar\": {\"outlinewidth\": 0, \"ticks\": \"\"}, \"type\": \"mesh3d\"}], \"parcoords\": [{\"line\": {\"colorbar\": {\"outlinewidth\": 0, \"ticks\": \"\"}}, \"type\": \"parcoords\"}], \"pie\": [{\"automargin\": true, \"type\": \"pie\"}], \"scatter\": [{\"marker\": {\"colorbar\": {\"outlinewidth\": 0, \"ticks\": \"\"}}, \"type\": \"scatter\"}], \"scatter3d\": [{\"line\": {\"colorbar\": {\"outlinewidth\": 0, \"ticks\": \"\"}}, \"marker\": {\"colorbar\": {\"outlinewidth\": 0, \"ticks\": \"\"}}, \"type\": \"scatter3d\"}], \"scattercarpet\": [{\"marker\": {\"colorbar\": {\"outlinewidth\": 0, \"ticks\": \"\"}}, \"type\": \"scattercarpet\"}], \"scattergeo\": [{\"marker\": {\"colorbar\": {\"outlinewidth\": 0, \"ticks\": \"\"}}, \"type\": \"scattergeo\"}], \"scattergl\": [{\"marker\": {\"colorbar\": {\"outlinewidth\": 0, \"ticks\": \"\"}}, \"type\": \"scattergl\"}], \"scattermapbox\": [{\"marker\": {\"colorbar\": {\"outlinewidth\": 0, \"ticks\": \"\"}}, \"type\": \"scattermapbox\"}], \"scatterpolar\": [{\"marker\": {\"colorbar\": {\"outlinewidth\": 0, \"ticks\": \"\"}}, \"type\": \"scatterpolar\"}], \"scatterpolargl\": [{\"marker\": {\"colorbar\": {\"outlinewidth\": 0, \"ticks\": \"\"}}, \"type\": \"scatterpolargl\"}], \"scatterternary\": [{\"marker\": {\"colorbar\": {\"outlinewidth\": 0, \"ticks\": \"\"}}, \"type\": \"scatterternary\"}], \"surface\": [{\"colorbar\": {\"outlinewidth\": 0, \"ticks\": \"\"}, \"colorscale\": [[0.0, \"#0d0887\"], [0.1111111111111111, \"#46039f\"], [0.2222222222222222, \"#7201a8\"], [0.3333333333333333, \"#9c179e\"], [0.4444444444444444, \"#bd3786\"], [0.5555555555555556, \"#d8576b\"], [0.6666666666666666, \"#ed7953\"], [0.7777777777777778, \"#fb9f3a\"], [0.8888888888888888, \"#fdca26\"], [1.0, \"#f0f921\"]], \"type\": \"surface\"}], \"table\": [{\"cells\": {\"fill\": {\"color\": \"#EBF0F8\"}, \"line\": {\"color\": \"white\"}}, \"header\": {\"fill\": {\"color\": \"#C8D4E3\"}, \"line\": {\"color\": \"white\"}}, \"type\": \"table\"}]}, \"layout\": {\"annotationdefaults\": {\"arrowcolor\": \"#2a3f5f\", \"arrowhead\": 0, \"arrowwidth\": 1}, \"coloraxis\": {\"colorbar\": {\"outlinewidth\": 0, \"ticks\": \"\"}}, \"colorscale\": {\"diverging\": [[0, \"#8e0152\"], [0.1, \"#c51b7d\"], [0.2, \"#de77ae\"], [0.3, \"#f1b6da\"], [0.4, \"#fde0ef\"], [0.5, \"#f7f7f7\"], [0.6, \"#e6f5d0\"], [0.7, \"#b8e186\"], [0.8, \"#7fbc41\"], [0.9, \"#4d9221\"], [1, \"#276419\"]], \"sequential\": [[0.0, \"#0d0887\"], [0.1111111111111111, \"#46039f\"], [0.2222222222222222, \"#7201a8\"], [0.3333333333333333, \"#9c179e\"], [0.4444444444444444, \"#bd3786\"], [0.5555555555555556, \"#d8576b\"], [0.6666666666666666, \"#ed7953\"], [0.7777777777777778, \"#fb9f3a\"], [0.8888888888888888, \"#fdca26\"], [1.0, \"#f0f921\"]], \"sequentialminus\": [[0.0, \"#0d0887\"], [0.1111111111111111, \"#46039f\"], [0.2222222222222222, \"#7201a8\"], [0.3333333333333333, \"#9c179e\"], [0.4444444444444444, \"#bd3786\"], [0.5555555555555556, \"#d8576b\"], [0.6666666666666666, \"#ed7953\"], [0.7777777777777778, \"#fb9f3a\"], [0.8888888888888888, \"#fdca26\"], [1.0, \"#f0f921\"]]}, \"colorway\": [\"#636efa\", \"#EF553B\", \"#00cc96\", \"#ab63fa\", \"#FFA15A\", \"#19d3f3\", \"#FF6692\", \"#B6E880\", \"#FF97FF\", \"#FECB52\"], \"font\": {\"color\": \"#2a3f5f\"}, \"geo\": {\"bgcolor\": \"white\", \"lakecolor\": \"white\", \"landcolor\": \"#E5ECF6\", \"showlakes\": true, \"showland\": true, \"subunitcolor\": \"white\"}, \"hoverlabel\": {\"align\": \"left\"}, \"hovermode\": \"closest\", \"mapbox\": {\"style\": \"light\"}, \"paper_bgcolor\": \"white\", \"plot_bgcolor\": \"#E5ECF6\", \"polar\": {\"angularaxis\": {\"gridcolor\": \"white\", \"linecolor\": \"white\", \"ticks\": \"\"}, \"bgcolor\": \"#E5ECF6\", \"radialaxis\": {\"gridcolor\": \"white\", \"linecolor\": \"white\", \"ticks\": \"\"}}, \"scene\": {\"xaxis\": {\"backgroundcolor\": \"#E5ECF6\", \"gridcolor\": \"white\", \"gridwidth\": 2, \"linecolor\": \"white\", \"showbackground\": true, \"ticks\": \"\", \"zerolinecolor\": \"white\"}, \"yaxis\": {\"backgroundcolor\": \"#E5ECF6\", \"gridcolor\": \"white\", \"gridwidth\": 2, \"linecolor\": \"white\", \"showbackground\": true, \"ticks\": \"\", \"zerolinecolor\": \"white\"}, \"zaxis\": {\"backgroundcolor\": \"#E5ECF6\", \"gridcolor\": \"white\", \"gridwidth\": 2, \"linecolor\": \"white\", \"showbackground\": true, \"ticks\": \"\", \"zerolinecolor\": \"white\"}}, \"shapedefaults\": {\"line\": {\"color\": \"#2a3f5f\"}}, \"ternary\": {\"aaxis\": {\"gridcolor\": \"white\", \"linecolor\": \"white\", \"ticks\": \"\"}, \"baxis\": {\"gridcolor\": \"white\", \"linecolor\": \"white\", \"ticks\": \"\"}, \"bgcolor\": \"#E5ECF6\", \"caxis\": {\"gridcolor\": \"white\", \"linecolor\": \"white\", \"ticks\": \"\"}}, \"title\": {\"x\": 0.05}, \"xaxis\": {\"automargin\": true, \"gridcolor\": \"white\", \"linecolor\": \"white\", \"ticks\": \"\", \"title\": {\"standoff\": 15}, \"zerolinecolor\": \"white\", \"zerolinewidth\": 2}, \"yaxis\": {\"automargin\": true, \"gridcolor\": \"white\", \"linecolor\": \"white\", \"ticks\": \"\", \"title\": {\"standoff\": 15}, \"zerolinecolor\": \"white\", \"zerolinewidth\": 2}}}, \"xaxis\": {\"anchor\": \"y\", \"domain\": [0.0, 1.0], \"title\": {\"text\": \"radius_mean\"}}, \"yaxis\": {\"anchor\": \"x\", \"domain\": [0.0, 1.0], \"title\": {\"text\": \"compactness_mean\"}}},\n",
              "                        {\"responsive\": true}\n",
              "                    ).then(function(){\n",
              "                            \n",
              "var gd = document.getElementById('1246c980-605e-45f5-b7c2-ed987a481d41');\n",
              "var x = new MutationObserver(function (mutations, observer) {{\n",
              "        var display = window.getComputedStyle(gd).display;\n",
              "        if (!display || display === 'none') {{\n",
              "            console.log([gd, 'removed!']);\n",
              "            Plotly.purge(gd);\n",
              "            observer.disconnect();\n",
              "        }}\n",
              "}});\n",
              "\n",
              "// Listen for the removal of the full notebook cells\n",
              "var notebookContainer = gd.closest('#notebook-container');\n",
              "if (notebookContainer) {{\n",
              "    x.observe(notebookContainer, {childList: true});\n",
              "}}\n",
              "\n",
              "// Listen for the clearing of the current output cell\n",
              "var outputEl = gd.closest('.output');\n",
              "if (outputEl) {{\n",
              "    x.observe(outputEl, {childList: true});\n",
              "}}\n",
              "\n",
              "                        })\n",
              "                };\n",
              "                \n",
              "            </script>\n",
              "        </div>\n",
              "</body>\n",
              "</html>"
            ]
          },
          "metadata": {
            "tags": []
          }
        }
      ]
    },
    {
      "cell_type": "code",
      "metadata": {
        "colab": {
          "base_uri": "https://localhost:8080/",
          "height": 542
        },
        "id": "cKZQf68DMWf8",
        "outputId": "086760bd-5e98-4733-99ed-bfc5a332b27a"
      },
      "source": [
        "px.scatter(data, x = 'radius_mean', y ='perimeter_mean', color = 'diagnosis')"
      ],
      "execution_count": 10,
      "outputs": [
        {
          "output_type": "display_data",
          "data": {
            "text/html": [
              "<html>\n",
              "<head><meta charset=\"utf-8\" /></head>\n",
              "<body>\n",
              "    <div>\n",
              "            <script src=\"https://cdnjs.cloudflare.com/ajax/libs/mathjax/2.7.5/MathJax.js?config=TeX-AMS-MML_SVG\"></script><script type=\"text/javascript\">if (window.MathJax) {MathJax.Hub.Config({SVG: {font: \"STIX-Web\"}});}</script>\n",
              "                <script type=\"text/javascript\">window.PlotlyConfig = {MathJaxConfig: 'local'};</script>\n",
              "        <script src=\"https://cdn.plot.ly/plotly-latest.min.js\"></script>    \n",
              "            <div id=\"e165b90c-131a-4d01-8890-c447511d3084\" class=\"plotly-graph-div\" style=\"height:525px; width:100%;\"></div>\n",
              "            <script type=\"text/javascript\">\n",
              "                \n",
              "                    window.PLOTLYENV=window.PLOTLYENV || {};\n",
              "                    \n",
              "                if (document.getElementById(\"e165b90c-131a-4d01-8890-c447511d3084\")) {\n",
              "                    Plotly.newPlot(\n",
              "                        'e165b90c-131a-4d01-8890-c447511d3084',\n",
              "                        [{\"hoverlabel\": {\"namelength\": 0}, \"hovertemplate\": \"diagnosis=M<br>radius_mean=%{x}<br>perimeter_mean=%{y}\", \"legendgroup\": \"diagnosis=M\", \"marker\": {\"color\": \"#636efa\", \"symbol\": \"circle\"}, \"mode\": \"markers\", \"name\": \"diagnosis=M\", \"showlegend\": true, \"type\": \"scatter\", \"x\": [17.99, 20.57, 19.69, 11.42, 20.29, 12.45, 18.25, 13.71, 13.0, 12.46, 16.02, 15.78, 19.17, 15.85, 13.73, 14.54, 14.68, 16.13, 19.81, 15.34, 21.16, 16.65, 17.14, 14.58, 18.61, 15.3, 17.57, 18.63, 11.84, 17.02, 19.27, 16.13, 16.74, 14.25, 14.99, 13.48, 13.44, 10.95, 19.07, 13.28, 13.17, 18.65, 13.17, 18.22, 15.1, 19.21, 14.71, 14.25, 12.68, 14.78, 18.94, 17.2, 13.8, 16.07, 18.05, 20.18, 25.22, 19.1, 18.46, 14.48, 19.02, 15.37, 15.06, 20.26, 14.42, 13.61, 13.11, 22.27, 14.87, 15.78, 17.95, 18.66, 24.25, 13.61, 19.0, 19.79, 15.46, 16.16, 18.45, 12.77, 14.95, 16.11, 11.8, 17.68, 19.19, 19.59, 23.27, 16.78, 17.47, 13.43, 15.46, 16.46, 27.22, 21.09, 15.7, 15.28, 18.31, 14.22, 12.34, 14.86, 13.77, 18.08, 19.18, 14.45, 17.54, 23.29, 13.81, 15.12, 17.01, 20.58, 28.11, 17.42, 14.19, 13.86, 19.8, 19.53, 15.75, 12.83, 17.05, 20.51, 23.21, 20.48, 17.46, 19.4, 20.94, 19.73, 17.3, 19.45, 13.96, 19.55, 15.32, 15.66, 15.53, 20.31, 17.35, 17.29, 15.61, 17.19, 20.73, 21.75, 17.93, 18.81, 19.16, 19.4, 16.24, 11.76, 19.53, 20.09, 18.22, 20.16, 20.34, 16.27, 16.26, 16.03, 17.06, 18.77, 23.51, 19.68, 15.75, 25.73, 15.08, 20.44, 20.2, 21.71, 22.01, 16.35, 21.37, 20.64, 11.08, 14.6, 19.55, 15.49, 21.61, 17.91, 17.99, 15.13, 15.5, 14.9, 20.18, 18.82, 13.98, 17.27, 18.03, 17.75, 21.1, 19.59, 17.08, 27.42, 17.6, 16.25, 19.44, 16.69, 18.01, 18.49, 20.59, 13.82, 23.09, 15.46, 13.4, 15.05, 18.31, 19.89, 24.63, 20.47, 20.55, 14.27, 15.22, 20.92, 21.56, 20.13, 16.6, 20.6], \"xaxis\": \"x\", \"y\": [122.8, 132.9, 130.0, 77.58, 135.1, 82.57, 119.6, 90.2, 87.5, 83.97, 102.7, 103.6, 132.4, 103.7, 93.6, 96.73, 94.74, 108.1, 130.0, 102.5, 137.2, 110.0, 116.0, 97.41, 122.1, 102.4, 115.0, 124.8, 77.93, 112.8, 127.9, 107.0, 110.1, 93.63, 95.54, 88.4, 86.18, 71.9, 128.3, 87.32, 85.42, 123.7, 85.98, 120.3, 97.26, 125.5, 95.55, 96.42, 82.69, 97.4, 123.6, 114.2, 90.43, 104.1, 120.2, 143.7, 171.5, 129.1, 121.1, 94.25, 122.0, 100.2, 100.3, 132.4, 94.48, 88.05, 87.21, 152.8, 98.64, 105.7, 114.2, 121.4, 166.2, 87.76, 123.4, 130.4, 101.7, 106.2, 120.2, 81.72, 96.85, 105.1, 78.99, 117.4, 126.3, 130.7, 152.1, 109.3, 116.1, 85.84, 102.5, 109.3, 182.1, 142.7, 101.2, 98.92, 118.6, 94.37, 81.15, 100.4, 90.63, 117.4, 127.5, 94.49, 115.1, 158.9, 91.56, 98.78, 109.7, 134.7, 188.5, 114.5, 92.87, 90.96, 129.7, 128.0, 102.6, 85.26, 113.4, 134.4, 153.5, 132.5, 113.4, 129.1, 138.9, 130.7, 113.0, 126.5, 91.43, 133.6, 103.2, 110.2, 103.7, 132.9, 111.0, 114.4, 100.0, 111.6, 135.7, 147.3, 115.2, 120.9, 126.2, 127.2, 108.8, 75.0, 129.5, 134.7, 118.7, 131.1, 135.9, 106.9, 107.5, 105.8, 111.8, 122.9, 155.1, 129.9, 107.1, 174.2, 98.0, 133.8, 133.7, 140.9, 147.2, 109.0, 141.3, 134.8, 73.3, 93.97, 128.9, 102.4, 144.4, 124.4, 117.8, 96.71, 102.9, 102.1, 133.8, 123.7, 91.12, 112.4, 117.5, 117.3, 138.1, 127.7, 111.2, 186.9, 119.0, 109.8, 128.1, 107.1, 118.4, 121.3, 137.8, 92.33, 152.1, 103.8, 88.64, 97.26, 120.8, 130.5, 165.5, 134.7, 137.8, 93.77, 103.4, 143.0, 142.0, 131.2, 108.3, 140.1], \"yaxis\": \"y\"}, {\"hoverlabel\": {\"namelength\": 0}, \"hovertemplate\": \"diagnosis=B<br>radius_mean=%{x}<br>perimeter_mean=%{y}\", \"legendgroup\": \"diagnosis=B\", \"marker\": {\"color\": \"#EF553B\", \"symbol\": \"circle\"}, \"mode\": \"markers\", \"name\": \"diagnosis=B\", \"showlegend\": true, \"type\": \"scatter\", \"x\": [13.54, 13.08, 9.504, 13.03, 8.196, 12.05, 13.49, 11.76, 13.64, 11.94, 11.52, 13.05, 8.618, 10.17, 8.597999999999999, 9.173, 9.465, 11.31, 9.029, 12.78, 8.888, 12.31, 13.53, 12.86, 11.45, 13.34, 12.0, 12.36, 14.64, 14.62, 13.27, 13.45, 12.18, 9.787, 11.6, 6.981, 12.18, 9.876, 10.49, 11.64, 12.36, 11.34, 9.777000000000001, 12.63, 14.26, 10.51, 8.726, 11.93, 8.95, 11.41, 14.5, 13.37, 13.85, 15.1, 12.19, 15.71, 11.71, 11.43, 11.28, 9.738, 11.43, 12.9, 10.75, 11.9, 14.95, 14.44, 13.74, 13.0, 8.219, 9.731, 11.15, 13.15, 12.25, 16.84, 12.06, 10.9, 11.75, 12.34, 14.97, 10.8, 14.97, 12.32, 11.08, 10.66, 8.671, 9.904, 13.01, 12.81, 11.41, 10.08, 11.71, 11.81, 12.3, 12.77, 9.72, 12.91, 12.23, 12.47, 9.876, 13.11, 15.27, 11.84, 11.89, 10.2, 13.65, 13.56, 10.18, 13.27, 14.34, 10.44, 15.0, 12.62, 11.32, 11.22, 9.567, 14.03, 14.22, 13.64, 12.42, 11.3, 13.75, 10.48, 13.2, 12.89, 10.65, 11.52, 11.5, 10.6, 13.59, 12.87, 10.71, 14.29, 11.29, 9.742, 11.89, 11.33, 13.59, 13.85, 11.74, 12.89, 12.58, 11.94, 12.89, 11.26, 11.37, 14.41, 14.96, 12.95, 11.85, 12.72, 13.77, 10.91, 14.26, 10.51, 12.46, 10.49, 11.46, 11.6, 13.2, 9.0, 13.5, 13.05, 11.7, 14.61, 12.76, 11.54, 8.597000000000001, 12.49, 12.18, 9.042, 12.43, 10.25, 12.86, 12.2, 12.67, 14.11, 12.03, 12.98, 11.22, 11.25, 12.3, 12.99, 10.05, 14.42, 9.606, 11.06, 11.71, 10.26, 12.06, 14.76, 11.47, 11.95, 11.66, 11.14, 12.56, 13.05, 13.87, 8.878, 9.436, 12.54, 13.3, 12.76, 16.5, 13.4, 12.21, 15.19, 13.69, 16.17, 10.57, 13.46, 13.66, 11.27, 11.04, 12.05, 12.39, 13.28, 12.21, 13.88, 11.27, 10.26, 8.734, 12.1, 14.06, 13.51, 12.8, 11.06, 11.8, 11.93, 12.96, 12.94, 12.34, 10.94, 16.14, 12.85, 12.27, 11.36, 11.04, 9.397, 14.99, 11.89, 9.405, 12.7, 11.16, 11.57, 14.69, 11.61, 13.66, 9.742, 10.03, 10.48, 10.8, 11.13, 12.72, 12.4, 14.86, 12.87, 14.04, 13.85, 14.02, 10.97, 13.78, 10.57, 11.99, 14.8, 14.53, 11.87, 12.0, 14.53, 12.62, 13.38, 11.63, 13.21, 13.0, 9.755, 14.4, 11.6, 13.17, 13.24, 13.14, 9.668, 11.62, 9.667, 12.04, 14.92, 12.27, 10.88, 12.83, 14.2, 13.9, 11.49, 12.16, 13.9, 13.47, 13.7, 15.73, 12.45, 14.64, 11.68, 12.25, 17.85, 12.46, 13.16, 14.87, 12.65, 12.47, 15.04, 12.54, 9.267999999999999, 9.676, 12.22, 11.06, 16.3, 11.74, 14.81, 14.58, 11.34, 12.88, 12.75, 9.295, 11.26, 13.71, 9.847000000000001, 8.571, 13.46, 12.34, 13.94, 12.07, 11.75, 11.67, 13.68, 10.96, 11.69, 7.729, 7.691, 11.54, 14.47, 14.74, 13.21, 13.87, 13.62, 10.32, 10.26, 9.683, 10.82, 10.86, 11.13, 12.77, 9.333, 12.88, 10.29, 10.16, 9.423, 14.59, 11.51, 14.05, 11.2, 7.76], \"xaxis\": \"x\", \"y\": [87.46, 85.63, 60.34, 82.61, 51.71, 78.04, 86.91, 74.72, 87.21, 75.71, 73.34, 82.61, 54.34, 64.55, 54.66, 59.2, 60.11, 71.8, 58.79, 81.37, 58.79, 79.19, 87.91, 83.19, 73.81, 86.49, 76.95, 79.78, 95.77, 94.57, 84.74, 86.6, 77.79, 62.11, 74.34, 43.79, 77.22, 63.95, 67.41, 75.17, 79.01, 72.48, 62.5, 82.15, 97.83, 68.64, 55.84, 76.53, 58.74, 73.34, 94.28, 86.1, 88.44, 99.58, 79.08, 102.0, 74.72, 73.06, 73.0, 61.24, 73.66, 83.74, 68.26, 78.11, 97.84, 93.97, 88.12, 83.51, 53.27, 63.78, 70.87, 85.31, 78.27, 108.4, 76.84, 68.69, 76.1, 79.85, 95.5, 68.77, 96.22, 78.85, 70.21, 67.49, 54.42, 64.6, 82.01, 81.29, 73.53, 63.76, 74.68, 75.27, 78.83, 82.02, 60.73, 82.53, 78.54, 81.09, 62.92, 87.02, 98.17, 75.51, 77.32, 65.05, 87.88, 88.59, 65.12, 84.55, 92.51, 66.62, 97.45, 81.35, 71.76, 70.79, 60.21, 89.79, 92.55, 87.38, 78.61, 73.93, 88.54, 66.72, 84.13, 84.95, 68.01, 73.87, 73.28, 69.28, 87.16, 82.38, 69.5, 90.3, 72.23, 61.5, 76.2, 71.79, 86.24, 88.99, 74.24, 84.08, 79.83, 77.87, 81.89, 73.72, 72.17, 96.03, 97.03, 83.14, 75.54, 81.78, 88.06, 69.14, 91.22, 66.85, 80.43, 66.86, 73.59, 74.23, 84.07, 56.36, 85.69, 82.71, 74.33, 92.68, 82.29, 73.73, 54.09, 79.19, 77.25, 60.07, 78.6, 66.52, 82.82, 78.01, 81.25, 90.03, 76.09, 84.52, 71.94, 71.38, 77.88, 84.08, 64.41, 94.15, 61.64, 71.49, 75.03, 66.2, 76.66, 94.87, 73.02, 77.23, 73.7, 71.24, 81.92, 85.09, 88.52, 56.74, 59.82, 79.42, 85.24, 81.87, 106.6, 85.48, 78.31, 97.65, 87.84, 106.3, 70.15, 85.89, 88.27, 73.16, 70.67, 78.75, 80.64, 85.79, 78.78, 88.37, 73.38, 65.75, 55.27, 78.07, 89.75, 88.1, 83.05, 70.31, 75.26, 76.14, 84.18, 83.18, 78.29, 70.39, 104.3, 82.63, 78.41, 72.49, 70.92, 59.75, 97.53, 76.39, 59.6, 80.88, 70.95, 74.2, 98.22, 75.46, 89.46, 61.93, 63.19, 67.49, 68.79, 70.47, 80.98, 81.47, 94.89, 82.67, 89.78, 88.68, 89.59, 71.73, 88.37, 66.82, 77.61, 95.88, 94.25, 76.83, 76.77, 93.86, 80.62, 86.34, 74.87, 84.1, 82.61, 61.68, 92.25, 73.88, 84.28, 86.87, 85.98, 61.06, 76.38, 61.49, 76.85, 96.45, 77.42, 70.41, 82.89, 92.41, 88.97, 73.99, 78.29, 88.73, 87.32, 87.76, 102.8, 82.85, 94.21, 75.49, 78.18, 114.6, 78.83, 84.06, 96.12, 82.69, 80.45, 98.73, 81.25, 61.49, 64.12, 79.47, 71.25, 104.7, 76.31, 94.66, 94.29, 72.76, 84.45, 82.51, 59.96, 71.3, 88.73, 63.0, 54.53, 87.44, 78.94, 90.31, 77.83, 75.89, 75.21, 87.76, 70.79, 76.37, 47.98, 48.34, 74.65, 95.81, 94.7, 84.88, 89.77, 87.19, 65.31, 65.85, 61.05, 68.89, 68.51, 71.49, 81.35, 59.01, 82.5, 65.67, 64.73, 59.26, 96.39, 74.52, 91.38, 70.67, 47.92], \"yaxis\": \"y\"}],\n",
              "                        {\"legend\": {\"tracegroupgap\": 0}, \"margin\": {\"t\": 60}, \"template\": {\"data\": {\"bar\": [{\"error_x\": {\"color\": \"#2a3f5f\"}, \"error_y\": {\"color\": \"#2a3f5f\"}, \"marker\": {\"line\": {\"color\": \"#E5ECF6\", \"width\": 0.5}}, \"type\": \"bar\"}], \"barpolar\": [{\"marker\": {\"line\": {\"color\": \"#E5ECF6\", \"width\": 0.5}}, \"type\": \"barpolar\"}], \"carpet\": [{\"aaxis\": {\"endlinecolor\": \"#2a3f5f\", \"gridcolor\": \"white\", \"linecolor\": \"white\", \"minorgridcolor\": \"white\", \"startlinecolor\": \"#2a3f5f\"}, \"baxis\": {\"endlinecolor\": \"#2a3f5f\", \"gridcolor\": \"white\", \"linecolor\": \"white\", \"minorgridcolor\": \"white\", \"startlinecolor\": \"#2a3f5f\"}, \"type\": \"carpet\"}], \"choropleth\": [{\"colorbar\": {\"outlinewidth\": 0, \"ticks\": \"\"}, \"type\": \"choropleth\"}], \"contour\": [{\"colorbar\": {\"outlinewidth\": 0, \"ticks\": \"\"}, \"colorscale\": [[0.0, \"#0d0887\"], [0.1111111111111111, \"#46039f\"], [0.2222222222222222, \"#7201a8\"], [0.3333333333333333, \"#9c179e\"], [0.4444444444444444, \"#bd3786\"], [0.5555555555555556, \"#d8576b\"], [0.6666666666666666, \"#ed7953\"], [0.7777777777777778, \"#fb9f3a\"], [0.8888888888888888, \"#fdca26\"], [1.0, \"#f0f921\"]], \"type\": \"contour\"}], \"contourcarpet\": [{\"colorbar\": {\"outlinewidth\": 0, \"ticks\": \"\"}, \"type\": \"contourcarpet\"}], \"heatmap\": [{\"colorbar\": {\"outlinewidth\": 0, \"ticks\": \"\"}, \"colorscale\": [[0.0, \"#0d0887\"], [0.1111111111111111, \"#46039f\"], [0.2222222222222222, \"#7201a8\"], [0.3333333333333333, \"#9c179e\"], [0.4444444444444444, \"#bd3786\"], [0.5555555555555556, \"#d8576b\"], [0.6666666666666666, \"#ed7953\"], [0.7777777777777778, \"#fb9f3a\"], [0.8888888888888888, \"#fdca26\"], [1.0, \"#f0f921\"]], \"type\": \"heatmap\"}], \"heatmapgl\": [{\"colorbar\": {\"outlinewidth\": 0, \"ticks\": \"\"}, \"colorscale\": [[0.0, \"#0d0887\"], [0.1111111111111111, \"#46039f\"], [0.2222222222222222, \"#7201a8\"], [0.3333333333333333, \"#9c179e\"], [0.4444444444444444, \"#bd3786\"], [0.5555555555555556, \"#d8576b\"], [0.6666666666666666, \"#ed7953\"], [0.7777777777777778, \"#fb9f3a\"], [0.8888888888888888, \"#fdca26\"], [1.0, \"#f0f921\"]], \"type\": \"heatmapgl\"}], \"histogram\": [{\"marker\": {\"colorbar\": {\"outlinewidth\": 0, \"ticks\": \"\"}}, \"type\": \"histogram\"}], \"histogram2d\": [{\"colorbar\": {\"outlinewidth\": 0, \"ticks\": \"\"}, \"colorscale\": [[0.0, \"#0d0887\"], [0.1111111111111111, \"#46039f\"], [0.2222222222222222, \"#7201a8\"], [0.3333333333333333, \"#9c179e\"], [0.4444444444444444, \"#bd3786\"], [0.5555555555555556, \"#d8576b\"], [0.6666666666666666, \"#ed7953\"], [0.7777777777777778, \"#fb9f3a\"], [0.8888888888888888, \"#fdca26\"], [1.0, \"#f0f921\"]], \"type\": \"histogram2d\"}], \"histogram2dcontour\": [{\"colorbar\": {\"outlinewidth\": 0, \"ticks\": \"\"}, \"colorscale\": [[0.0, \"#0d0887\"], [0.1111111111111111, \"#46039f\"], [0.2222222222222222, \"#7201a8\"], [0.3333333333333333, \"#9c179e\"], [0.4444444444444444, \"#bd3786\"], [0.5555555555555556, \"#d8576b\"], [0.6666666666666666, \"#ed7953\"], [0.7777777777777778, \"#fb9f3a\"], [0.8888888888888888, \"#fdca26\"], [1.0, \"#f0f921\"]], \"type\": \"histogram2dcontour\"}], \"mesh3d\": [{\"colorbar\": {\"outlinewidth\": 0, \"ticks\": \"\"}, \"type\": \"mesh3d\"}], \"parcoords\": [{\"line\": {\"colorbar\": {\"outlinewidth\": 0, \"ticks\": \"\"}}, \"type\": \"parcoords\"}], \"pie\": [{\"automargin\": true, \"type\": \"pie\"}], \"scatter\": [{\"marker\": {\"colorbar\": {\"outlinewidth\": 0, \"ticks\": \"\"}}, \"type\": \"scatter\"}], \"scatter3d\": [{\"line\": {\"colorbar\": {\"outlinewidth\": 0, \"ticks\": \"\"}}, \"marker\": {\"colorbar\": {\"outlinewidth\": 0, \"ticks\": \"\"}}, \"type\": \"scatter3d\"}], \"scattercarpet\": [{\"marker\": {\"colorbar\": {\"outlinewidth\": 0, \"ticks\": \"\"}}, \"type\": \"scattercarpet\"}], \"scattergeo\": [{\"marker\": {\"colorbar\": {\"outlinewidth\": 0, \"ticks\": \"\"}}, \"type\": \"scattergeo\"}], \"scattergl\": [{\"marker\": {\"colorbar\": {\"outlinewidth\": 0, \"ticks\": \"\"}}, \"type\": \"scattergl\"}], \"scattermapbox\": [{\"marker\": {\"colorbar\": {\"outlinewidth\": 0, \"ticks\": \"\"}}, \"type\": \"scattermapbox\"}], \"scatterpolar\": [{\"marker\": {\"colorbar\": {\"outlinewidth\": 0, \"ticks\": \"\"}}, \"type\": \"scatterpolar\"}], \"scatterpolargl\": [{\"marker\": {\"colorbar\": {\"outlinewidth\": 0, \"ticks\": \"\"}}, \"type\": \"scatterpolargl\"}], \"scatterternary\": [{\"marker\": {\"colorbar\": {\"outlinewidth\": 0, \"ticks\": \"\"}}, \"type\": \"scatterternary\"}], \"surface\": [{\"colorbar\": {\"outlinewidth\": 0, \"ticks\": \"\"}, \"colorscale\": [[0.0, \"#0d0887\"], [0.1111111111111111, \"#46039f\"], [0.2222222222222222, \"#7201a8\"], [0.3333333333333333, \"#9c179e\"], [0.4444444444444444, \"#bd3786\"], [0.5555555555555556, \"#d8576b\"], [0.6666666666666666, \"#ed7953\"], [0.7777777777777778, \"#fb9f3a\"], [0.8888888888888888, \"#fdca26\"], [1.0, \"#f0f921\"]], \"type\": \"surface\"}], \"table\": [{\"cells\": {\"fill\": {\"color\": \"#EBF0F8\"}, \"line\": {\"color\": \"white\"}}, \"header\": {\"fill\": {\"color\": \"#C8D4E3\"}, \"line\": {\"color\": \"white\"}}, \"type\": \"table\"}]}, \"layout\": {\"annotationdefaults\": {\"arrowcolor\": \"#2a3f5f\", \"arrowhead\": 0, \"arrowwidth\": 1}, \"coloraxis\": {\"colorbar\": {\"outlinewidth\": 0, \"ticks\": \"\"}}, \"colorscale\": {\"diverging\": [[0, \"#8e0152\"], [0.1, \"#c51b7d\"], [0.2, \"#de77ae\"], [0.3, \"#f1b6da\"], [0.4, \"#fde0ef\"], [0.5, \"#f7f7f7\"], [0.6, \"#e6f5d0\"], [0.7, \"#b8e186\"], [0.8, \"#7fbc41\"], [0.9, \"#4d9221\"], [1, \"#276419\"]], \"sequential\": [[0.0, \"#0d0887\"], [0.1111111111111111, \"#46039f\"], [0.2222222222222222, \"#7201a8\"], [0.3333333333333333, \"#9c179e\"], [0.4444444444444444, \"#bd3786\"], [0.5555555555555556, \"#d8576b\"], [0.6666666666666666, \"#ed7953\"], [0.7777777777777778, \"#fb9f3a\"], [0.8888888888888888, \"#fdca26\"], [1.0, \"#f0f921\"]], \"sequentialminus\": [[0.0, \"#0d0887\"], [0.1111111111111111, \"#46039f\"], [0.2222222222222222, \"#7201a8\"], [0.3333333333333333, \"#9c179e\"], [0.4444444444444444, \"#bd3786\"], [0.5555555555555556, \"#d8576b\"], [0.6666666666666666, \"#ed7953\"], [0.7777777777777778, \"#fb9f3a\"], [0.8888888888888888, \"#fdca26\"], [1.0, \"#f0f921\"]]}, \"colorway\": [\"#636efa\", \"#EF553B\", \"#00cc96\", \"#ab63fa\", \"#FFA15A\", \"#19d3f3\", \"#FF6692\", \"#B6E880\", \"#FF97FF\", \"#FECB52\"], \"font\": {\"color\": \"#2a3f5f\"}, \"geo\": {\"bgcolor\": \"white\", \"lakecolor\": \"white\", \"landcolor\": \"#E5ECF6\", \"showlakes\": true, \"showland\": true, \"subunitcolor\": \"white\"}, \"hoverlabel\": {\"align\": \"left\"}, \"hovermode\": \"closest\", \"mapbox\": {\"style\": \"light\"}, \"paper_bgcolor\": \"white\", \"plot_bgcolor\": \"#E5ECF6\", \"polar\": {\"angularaxis\": {\"gridcolor\": \"white\", \"linecolor\": \"white\", \"ticks\": \"\"}, \"bgcolor\": \"#E5ECF6\", \"radialaxis\": {\"gridcolor\": \"white\", \"linecolor\": \"white\", \"ticks\": \"\"}}, \"scene\": {\"xaxis\": {\"backgroundcolor\": \"#E5ECF6\", \"gridcolor\": \"white\", \"gridwidth\": 2, \"linecolor\": \"white\", \"showbackground\": true, \"ticks\": \"\", \"zerolinecolor\": \"white\"}, \"yaxis\": {\"backgroundcolor\": \"#E5ECF6\", \"gridcolor\": \"white\", \"gridwidth\": 2, \"linecolor\": \"white\", \"showbackground\": true, \"ticks\": \"\", \"zerolinecolor\": \"white\"}, \"zaxis\": {\"backgroundcolor\": \"#E5ECF6\", \"gridcolor\": \"white\", \"gridwidth\": 2, \"linecolor\": \"white\", \"showbackground\": true, \"ticks\": \"\", \"zerolinecolor\": \"white\"}}, \"shapedefaults\": {\"line\": {\"color\": \"#2a3f5f\"}}, \"ternary\": {\"aaxis\": {\"gridcolor\": \"white\", \"linecolor\": \"white\", \"ticks\": \"\"}, \"baxis\": {\"gridcolor\": \"white\", \"linecolor\": \"white\", \"ticks\": \"\"}, \"bgcolor\": \"#E5ECF6\", \"caxis\": {\"gridcolor\": \"white\", \"linecolor\": \"white\", \"ticks\": \"\"}}, \"title\": {\"x\": 0.05}, \"xaxis\": {\"automargin\": true, \"gridcolor\": \"white\", \"linecolor\": \"white\", \"ticks\": \"\", \"title\": {\"standoff\": 15}, \"zerolinecolor\": \"white\", \"zerolinewidth\": 2}, \"yaxis\": {\"automargin\": true, \"gridcolor\": \"white\", \"linecolor\": \"white\", \"ticks\": \"\", \"title\": {\"standoff\": 15}, \"zerolinecolor\": \"white\", \"zerolinewidth\": 2}}}, \"xaxis\": {\"anchor\": \"y\", \"domain\": [0.0, 1.0], \"title\": {\"text\": \"radius_mean\"}}, \"yaxis\": {\"anchor\": \"x\", \"domain\": [0.0, 1.0], \"title\": {\"text\": \"perimeter_mean\"}}},\n",
              "                        {\"responsive\": true}\n",
              "                    ).then(function(){\n",
              "                            \n",
              "var gd = document.getElementById('e165b90c-131a-4d01-8890-c447511d3084');\n",
              "var x = new MutationObserver(function (mutations, observer) {{\n",
              "        var display = window.getComputedStyle(gd).display;\n",
              "        if (!display || display === 'none') {{\n",
              "            console.log([gd, 'removed!']);\n",
              "            Plotly.purge(gd);\n",
              "            observer.disconnect();\n",
              "        }}\n",
              "}});\n",
              "\n",
              "// Listen for the removal of the full notebook cells\n",
              "var notebookContainer = gd.closest('#notebook-container');\n",
              "if (notebookContainer) {{\n",
              "    x.observe(notebookContainer, {childList: true});\n",
              "}}\n",
              "\n",
              "// Listen for the clearing of the current output cell\n",
              "var outputEl = gd.closest('.output');\n",
              "if (outputEl) {{\n",
              "    x.observe(outputEl, {childList: true});\n",
              "}}\n",
              "\n",
              "                        })\n",
              "                };\n",
              "                \n",
              "            </script>\n",
              "        </div>\n",
              "</body>\n",
              "</html>"
            ]
          },
          "metadata": {
            "tags": []
          }
        }
      ]
    },
    {
      "cell_type": "code",
      "metadata": {
        "id": "DGuI9ZqwMefr"
      },
      "source": [
        "from sklearn.model_selection import train_test_split"
      ],
      "execution_count": 11,
      "outputs": []
    },
    {
      "cell_type": "code",
      "metadata": {
        "id": "G6qNZqm8Mmld"
      },
      "source": [
        "train_val_df, test_df = train_test_split(data, test_size = 0.2, random_state = 42)\n",
        "train_df, val_df = train_test_split(train_val_df, test_size = 0.25, random_state = 42)"
      ],
      "execution_count": 12,
      "outputs": []
    },
    {
      "cell_type": "code",
      "metadata": {
        "colab": {
          "base_uri": "https://localhost:8080/"
        },
        "id": "ikvfEYY8M3pR",
        "outputId": "92af1958-4050-4103-b479-8ccdd2e090c6"
      },
      "source": [
        "print('train_df.shape:', train_df.shape)\n",
        "print('val_df.shape:', val_df.shape)\n",
        "print('test_df.shape:', test_df.shape)"
      ],
      "execution_count": 13,
      "outputs": [
        {
          "output_type": "stream",
          "text": [
            "train_df.shape: (341, 33)\n",
            "val_df.shape: (114, 33)\n",
            "test_df.shape: (114, 33)\n"
          ],
          "name": "stdout"
        }
      ]
    },
    {
      "cell_type": "code",
      "metadata": {
        "colab": {
          "base_uri": "https://localhost:8080/"
        },
        "id": "cpEMy4JHNBk2",
        "outputId": "b271003b-6d66-4a1b-cad6-736288ff2a27"
      },
      "source": [
        "input_cols = list(train_df.columns)[2:-1]\n",
        "print(input_cols)"
      ],
      "execution_count": 14,
      "outputs": [
        {
          "output_type": "stream",
          "text": [
            "['radius_mean', 'texture_mean', 'perimeter_mean', 'area_mean', 'smoothness_mean', 'compactness_mean', 'concavity_mean', 'concave points_mean', 'symmetry_mean', 'fractal_dimension_mean', 'radius_se', 'texture_se', 'perimeter_se', 'area_se', 'smoothness_se', 'compactness_se', 'concavity_se', 'concave points_se', 'symmetry_se', 'fractal_dimension_se', 'radius_worst', 'texture_worst', 'perimeter_worst', 'area_worst', 'smoothness_worst', 'compactness_worst', 'concavity_worst', 'concave points_worst', 'symmetry_worst', 'fractal_dimension_worst']\n"
          ],
          "name": "stdout"
        }
      ]
    },
    {
      "cell_type": "code",
      "metadata": {
        "colab": {
          "base_uri": "https://localhost:8080/"
        },
        "id": "JmurtX-JNOzU",
        "outputId": "55e36635-215a-4f68-b56d-b6a13f1c3125"
      },
      "source": [
        "target_col = 'diagnosis'\n",
        "print(target_col)"
      ],
      "execution_count": 16,
      "outputs": [
        {
          "output_type": "stream",
          "text": [
            "diagnosis\n"
          ],
          "name": "stdout"
        }
      ]
    },
    {
      "cell_type": "code",
      "metadata": {
        "id": "CIgs-31cNYEn"
      },
      "source": [
        "train_inputs = train_df[input_cols].copy()\n",
        "train_targets = train_df[target_col].copy()"
      ],
      "execution_count": 17,
      "outputs": []
    },
    {
      "cell_type": "code",
      "metadata": {
        "id": "zspyUKOkNkFz"
      },
      "source": [
        "val_inputs = val_df[input_cols].copy()\n",
        "val_targets = val_df[target_col].copy()"
      ],
      "execution_count": 18,
      "outputs": []
    },
    {
      "cell_type": "code",
      "metadata": {
        "id": "ZYYrivFINtaC"
      },
      "source": [
        "test_inputs = test_df[input_cols].copy()\n",
        "test_targets = test_df[target_col].copy()"
      ],
      "execution_count": 19,
      "outputs": []
    },
    {
      "cell_type": "code",
      "metadata": {
        "id": "pDoxvb2mN2CT"
      },
      "source": [
        "numeric_cols = train_inputs.select_dtypes(include = np.number).columns.tolist()\n",
        "categoric_cols = train_inputs.select_dtypes('object').columns.tolist()"
      ],
      "execution_count": 21,
      "outputs": []
    },
    {
      "cell_type": "code",
      "metadata": {
        "colab": {
          "base_uri": "https://localhost:8080/"
        },
        "id": "zBQZFEUaOJlQ",
        "outputId": "10e96974-103d-4730-fe05-fca70a03fefa"
      },
      "source": [
        "print(numeric_cols)"
      ],
      "execution_count": 22,
      "outputs": [
        {
          "output_type": "stream",
          "text": [
            "['radius_mean', 'texture_mean', 'perimeter_mean', 'area_mean', 'smoothness_mean', 'compactness_mean', 'concavity_mean', 'concave points_mean', 'symmetry_mean', 'fractal_dimension_mean', 'radius_se', 'texture_se', 'perimeter_se', 'area_se', 'smoothness_se', 'compactness_se', 'concavity_se', 'concave points_se', 'symmetry_se', 'fractal_dimension_se', 'radius_worst', 'texture_worst', 'perimeter_worst', 'area_worst', 'smoothness_worst', 'compactness_worst', 'concavity_worst', 'concave points_worst', 'symmetry_worst', 'fractal_dimension_worst']\n"
          ],
          "name": "stdout"
        }
      ]
    },
    {
      "cell_type": "code",
      "metadata": {
        "colab": {
          "base_uri": "https://localhost:8080/"
        },
        "id": "nMVWCClBORyC",
        "outputId": "e17f83ac-1632-49b9-ea7d-d0c258759054"
      },
      "source": [
        "print(categoric_cols)"
      ],
      "execution_count": 23,
      "outputs": [
        {
          "output_type": "stream",
          "text": [
            "[]\n"
          ],
          "name": "stdout"
        }
      ]
    },
    {
      "cell_type": "code",
      "metadata": {
        "colab": {
          "base_uri": "https://localhost:8080/",
          "height": 325
        },
        "id": "eNMwcoCLOUPy",
        "outputId": "7687dd9a-0d03-4886-8088-b405f0dbf3db"
      },
      "source": [
        "train_inputs[numeric_cols].describe()"
      ],
      "execution_count": 24,
      "outputs": [
        {
          "output_type": "execute_result",
          "data": {
            "text/html": [
              "<div>\n",
              "<style scoped>\n",
              "    .dataframe tbody tr th:only-of-type {\n",
              "        vertical-align: middle;\n",
              "    }\n",
              "\n",
              "    .dataframe tbody tr th {\n",
              "        vertical-align: top;\n",
              "    }\n",
              "\n",
              "    .dataframe thead th {\n",
              "        text-align: right;\n",
              "    }\n",
              "</style>\n",
              "<table border=\"1\" class=\"dataframe\">\n",
              "  <thead>\n",
              "    <tr style=\"text-align: right;\">\n",
              "      <th></th>\n",
              "      <th>radius_mean</th>\n",
              "      <th>texture_mean</th>\n",
              "      <th>perimeter_mean</th>\n",
              "      <th>area_mean</th>\n",
              "      <th>smoothness_mean</th>\n",
              "      <th>compactness_mean</th>\n",
              "      <th>concavity_mean</th>\n",
              "      <th>concave points_mean</th>\n",
              "      <th>symmetry_mean</th>\n",
              "      <th>fractal_dimension_mean</th>\n",
              "      <th>radius_se</th>\n",
              "      <th>texture_se</th>\n",
              "      <th>perimeter_se</th>\n",
              "      <th>area_se</th>\n",
              "      <th>smoothness_se</th>\n",
              "      <th>compactness_se</th>\n",
              "      <th>concavity_se</th>\n",
              "      <th>concave points_se</th>\n",
              "      <th>symmetry_se</th>\n",
              "      <th>fractal_dimension_se</th>\n",
              "      <th>radius_worst</th>\n",
              "      <th>texture_worst</th>\n",
              "      <th>perimeter_worst</th>\n",
              "      <th>area_worst</th>\n",
              "      <th>smoothness_worst</th>\n",
              "      <th>compactness_worst</th>\n",
              "      <th>concavity_worst</th>\n",
              "      <th>concave points_worst</th>\n",
              "      <th>symmetry_worst</th>\n",
              "      <th>fractal_dimension_worst</th>\n",
              "    </tr>\n",
              "  </thead>\n",
              "  <tbody>\n",
              "    <tr>\n",
              "      <th>count</th>\n",
              "      <td>341.000000</td>\n",
              "      <td>341.000000</td>\n",
              "      <td>341.000000</td>\n",
              "      <td>341.000000</td>\n",
              "      <td>341.000000</td>\n",
              "      <td>341.000000</td>\n",
              "      <td>341.000000</td>\n",
              "      <td>341.000000</td>\n",
              "      <td>341.000000</td>\n",
              "      <td>341.000000</td>\n",
              "      <td>341.000000</td>\n",
              "      <td>341.000000</td>\n",
              "      <td>341.000000</td>\n",
              "      <td>341.000000</td>\n",
              "      <td>341.000000</td>\n",
              "      <td>341.000000</td>\n",
              "      <td>341.000000</td>\n",
              "      <td>341.000000</td>\n",
              "      <td>341.000000</td>\n",
              "      <td>341.000000</td>\n",
              "      <td>341.000000</td>\n",
              "      <td>341.000000</td>\n",
              "      <td>341.000000</td>\n",
              "      <td>341.000000</td>\n",
              "      <td>341.000000</td>\n",
              "      <td>341.000000</td>\n",
              "      <td>341.000000</td>\n",
              "      <td>341.000000</td>\n",
              "      <td>341.000000</td>\n",
              "      <td>341.000000</td>\n",
              "    </tr>\n",
              "    <tr>\n",
              "      <th>mean</th>\n",
              "      <td>14.001481</td>\n",
              "      <td>19.128152</td>\n",
              "      <td>91.030762</td>\n",
              "      <td>642.609971</td>\n",
              "      <td>0.095934</td>\n",
              "      <td>0.102269</td>\n",
              "      <td>0.085459</td>\n",
              "      <td>0.047155</td>\n",
              "      <td>0.182006</td>\n",
              "      <td>0.062750</td>\n",
              "      <td>0.399092</td>\n",
              "      <td>1.192430</td>\n",
              "      <td>2.823392</td>\n",
              "      <td>39.546337</td>\n",
              "      <td>0.006954</td>\n",
              "      <td>0.025084</td>\n",
              "      <td>0.031567</td>\n",
              "      <td>0.011764</td>\n",
              "      <td>0.020704</td>\n",
              "      <td>0.003762</td>\n",
              "      <td>16.125613</td>\n",
              "      <td>25.465279</td>\n",
              "      <td>106.273167</td>\n",
              "      <td>866.555132</td>\n",
              "      <td>0.131554</td>\n",
              "      <td>0.248931</td>\n",
              "      <td>0.264040</td>\n",
              "      <td>0.112563</td>\n",
              "      <td>0.291753</td>\n",
              "      <td>0.083672</td>\n",
              "    </tr>\n",
              "    <tr>\n",
              "      <th>std</th>\n",
              "      <td>3.473378</td>\n",
              "      <td>4.197569</td>\n",
              "      <td>23.904744</td>\n",
              "      <td>345.479971</td>\n",
              "      <td>0.014450</td>\n",
              "      <td>0.053894</td>\n",
              "      <td>0.079140</td>\n",
              "      <td>0.038212</td>\n",
              "      <td>0.028181</td>\n",
              "      <td>0.007412</td>\n",
              "      <td>0.275565</td>\n",
              "      <td>0.523437</td>\n",
              "      <td>2.000172</td>\n",
              "      <td>45.022868</td>\n",
              "      <td>0.003114</td>\n",
              "      <td>0.019035</td>\n",
              "      <td>0.031410</td>\n",
              "      <td>0.006488</td>\n",
              "      <td>0.008559</td>\n",
              "      <td>0.002800</td>\n",
              "      <td>4.845435</td>\n",
              "      <td>5.977085</td>\n",
              "      <td>33.660162</td>\n",
              "      <td>578.566377</td>\n",
              "      <td>0.023416</td>\n",
              "      <td>0.157138</td>\n",
              "      <td>0.201125</td>\n",
              "      <td>0.066265</td>\n",
              "      <td>0.064154</td>\n",
              "      <td>0.018026</td>\n",
              "    </tr>\n",
              "    <tr>\n",
              "      <th>min</th>\n",
              "      <td>7.691000</td>\n",
              "      <td>9.710000</td>\n",
              "      <td>47.920000</td>\n",
              "      <td>170.400000</td>\n",
              "      <td>0.052630</td>\n",
              "      <td>0.019380</td>\n",
              "      <td>0.000000</td>\n",
              "      <td>0.000000</td>\n",
              "      <td>0.116700</td>\n",
              "      <td>0.049960</td>\n",
              "      <td>0.111500</td>\n",
              "      <td>0.360200</td>\n",
              "      <td>0.843900</td>\n",
              "      <td>6.802000</td>\n",
              "      <td>0.002667</td>\n",
              "      <td>0.002252</td>\n",
              "      <td>0.000000</td>\n",
              "      <td>0.000000</td>\n",
              "      <td>0.007882</td>\n",
              "      <td>0.000895</td>\n",
              "      <td>8.678000</td>\n",
              "      <td>12.020000</td>\n",
              "      <td>54.490000</td>\n",
              "      <td>223.600000</td>\n",
              "      <td>0.081250</td>\n",
              "      <td>0.034320</td>\n",
              "      <td>0.000000</td>\n",
              "      <td>0.000000</td>\n",
              "      <td>0.156500</td>\n",
              "      <td>0.055040</td>\n",
              "    </tr>\n",
              "    <tr>\n",
              "      <th>25%</th>\n",
              "      <td>11.630000</td>\n",
              "      <td>16.320000</td>\n",
              "      <td>74.680000</td>\n",
              "      <td>412.600000</td>\n",
              "      <td>0.085820</td>\n",
              "      <td>0.061590</td>\n",
              "      <td>0.026380</td>\n",
              "      <td>0.019240</td>\n",
              "      <td>0.162000</td>\n",
              "      <td>0.057630</td>\n",
              "      <td>0.229800</td>\n",
              "      <td>0.833900</td>\n",
              "      <td>1.577000</td>\n",
              "      <td>17.810000</td>\n",
              "      <td>0.005012</td>\n",
              "      <td>0.012360</td>\n",
              "      <td>0.014340</td>\n",
              "      <td>0.007445</td>\n",
              "      <td>0.015010</td>\n",
              "      <td>0.002198</td>\n",
              "      <td>12.980000</td>\n",
              "      <td>21.180000</td>\n",
              "      <td>83.610000</td>\n",
              "      <td>513.900000</td>\n",
              "      <td>0.114000</td>\n",
              "      <td>0.138100</td>\n",
              "      <td>0.108700</td>\n",
              "      <td>0.062960</td>\n",
              "      <td>0.252500</td>\n",
              "      <td>0.070710</td>\n",
              "    </tr>\n",
              "    <tr>\n",
              "      <th>50%</th>\n",
              "      <td>13.200000</td>\n",
              "      <td>18.820000</td>\n",
              "      <td>85.480000</td>\n",
              "      <td>538.400000</td>\n",
              "      <td>0.094400</td>\n",
              "      <td>0.086420</td>\n",
              "      <td>0.057740</td>\n",
              "      <td>0.032500</td>\n",
              "      <td>0.179900</td>\n",
              "      <td>0.061660</td>\n",
              "      <td>0.313500</td>\n",
              "      <td>1.083000</td>\n",
              "      <td>2.225000</td>\n",
              "      <td>24.320000</td>\n",
              "      <td>0.006369</td>\n",
              "      <td>0.019710</td>\n",
              "      <td>0.024880</td>\n",
              "      <td>0.010970</td>\n",
              "      <td>0.018780</td>\n",
              "      <td>0.003131</td>\n",
              "      <td>14.910000</td>\n",
              "      <td>25.220000</td>\n",
              "      <td>97.170000</td>\n",
              "      <td>674.700000</td>\n",
              "      <td>0.130300</td>\n",
              "      <td>0.205700</td>\n",
              "      <td>0.215100</td>\n",
              "      <td>0.098610</td>\n",
              "      <td>0.284100</td>\n",
              "      <td>0.079610</td>\n",
              "    </tr>\n",
              "    <tr>\n",
              "      <th>75%</th>\n",
              "      <td>15.660000</td>\n",
              "      <td>21.560000</td>\n",
              "      <td>102.800000</td>\n",
              "      <td>758.600000</td>\n",
              "      <td>0.104900</td>\n",
              "      <td>0.129900</td>\n",
              "      <td>0.121800</td>\n",
              "      <td>0.067720</td>\n",
              "      <td>0.196600</td>\n",
              "      <td>0.066010</td>\n",
              "      <td>0.448900</td>\n",
              "      <td>1.428000</td>\n",
              "      <td>3.176000</td>\n",
              "      <td>43.950000</td>\n",
              "      <td>0.008005</td>\n",
              "      <td>0.031200</td>\n",
              "      <td>0.040930</td>\n",
              "      <td>0.014500</td>\n",
              "      <td>0.022920</td>\n",
              "      <td>0.004435</td>\n",
              "      <td>18.100000</td>\n",
              "      <td>29.410000</td>\n",
              "      <td>122.400000</td>\n",
              "      <td>1021.000000</td>\n",
              "      <td>0.146000</td>\n",
              "      <td>0.341600</td>\n",
              "      <td>0.375900</td>\n",
              "      <td>0.156500</td>\n",
              "      <td>0.317600</td>\n",
              "      <td>0.092060</td>\n",
              "    </tr>\n",
              "    <tr>\n",
              "      <th>max</th>\n",
              "      <td>27.420000</td>\n",
              "      <td>39.280000</td>\n",
              "      <td>186.900000</td>\n",
              "      <td>2501.000000</td>\n",
              "      <td>0.163400</td>\n",
              "      <td>0.311400</td>\n",
              "      <td>0.426800</td>\n",
              "      <td>0.201200</td>\n",
              "      <td>0.274300</td>\n",
              "      <td>0.097440</td>\n",
              "      <td>2.547000</td>\n",
              "      <td>3.647000</td>\n",
              "      <td>18.650000</td>\n",
              "      <td>542.200000</td>\n",
              "      <td>0.031130</td>\n",
              "      <td>0.135400</td>\n",
              "      <td>0.396000</td>\n",
              "      <td>0.052790</td>\n",
              "      <td>0.061460</td>\n",
              "      <td>0.029840</td>\n",
              "      <td>36.040000</td>\n",
              "      <td>49.540000</td>\n",
              "      <td>251.200000</td>\n",
              "      <td>4254.000000</td>\n",
              "      <td>0.218400</td>\n",
              "      <td>0.937900</td>\n",
              "      <td>0.960800</td>\n",
              "      <td>0.291000</td>\n",
              "      <td>0.663800</td>\n",
              "      <td>0.173000</td>\n",
              "    </tr>\n",
              "  </tbody>\n",
              "</table>\n",
              "</div>"
            ],
            "text/plain": [
              "       radius_mean  texture_mean  ...  symmetry_worst  fractal_dimension_worst\n",
              "count   341.000000    341.000000  ...      341.000000               341.000000\n",
              "mean     14.001481     19.128152  ...        0.291753                 0.083672\n",
              "std       3.473378      4.197569  ...        0.064154                 0.018026\n",
              "min       7.691000      9.710000  ...        0.156500                 0.055040\n",
              "25%      11.630000     16.320000  ...        0.252500                 0.070710\n",
              "50%      13.200000     18.820000  ...        0.284100                 0.079610\n",
              "75%      15.660000     21.560000  ...        0.317600                 0.092060\n",
              "max      27.420000     39.280000  ...        0.663800                 0.173000\n",
              "\n",
              "[8 rows x 30 columns]"
            ]
          },
          "metadata": {
            "tags": []
          },
          "execution_count": 24
        }
      ]
    },
    {
      "cell_type": "code",
      "metadata": {
        "colab": {
          "base_uri": "https://localhost:8080/"
        },
        "id": "NVRReiyEOZSy",
        "outputId": "e935bee0-7f6e-4a5c-e1ac-4bc9a32e9339"
      },
      "source": [
        "data[numeric_cols].isna().sum()"
      ],
      "execution_count": 25,
      "outputs": [
        {
          "output_type": "execute_result",
          "data": {
            "text/plain": [
              "radius_mean                0\n",
              "texture_mean               0\n",
              "perimeter_mean             0\n",
              "area_mean                  0\n",
              "smoothness_mean            0\n",
              "compactness_mean           0\n",
              "concavity_mean             0\n",
              "concave points_mean        0\n",
              "symmetry_mean              0\n",
              "fractal_dimension_mean     0\n",
              "radius_se                  0\n",
              "texture_se                 0\n",
              "perimeter_se               0\n",
              "area_se                    0\n",
              "smoothness_se              0\n",
              "compactness_se             0\n",
              "concavity_se               0\n",
              "concave points_se          0\n",
              "symmetry_se                0\n",
              "fractal_dimension_se       0\n",
              "radius_worst               0\n",
              "texture_worst              0\n",
              "perimeter_worst            0\n",
              "area_worst                 0\n",
              "smoothness_worst           0\n",
              "compactness_worst          0\n",
              "concavity_worst            0\n",
              "concave points_worst       0\n",
              "symmetry_worst             0\n",
              "fractal_dimension_worst    0\n",
              "dtype: int64"
            ]
          },
          "metadata": {
            "tags": []
          },
          "execution_count": 25
        }
      ]
    },
    {
      "cell_type": "code",
      "metadata": {
        "id": "pTi6s8unOiWp"
      },
      "source": [
        "from sklearn.preprocessing import MinMaxScaler"
      ],
      "execution_count": 26,
      "outputs": []
    },
    {
      "cell_type": "code",
      "metadata": {
        "id": "IM5Ba5RQOoqZ"
      },
      "source": [
        "scaler = MinMaxScaler()"
      ],
      "execution_count": 27,
      "outputs": []
    },
    {
      "cell_type": "code",
      "metadata": {
        "colab": {
          "base_uri": "https://localhost:8080/"
        },
        "id": "GPg5gZZqOsNK",
        "outputId": "782a2b8c-f34d-4c90-87a2-5cd9f3a62e67"
      },
      "source": [
        "scaler.fit(data[numeric_cols])"
      ],
      "execution_count": 28,
      "outputs": [
        {
          "output_type": "execute_result",
          "data": {
            "text/plain": [
              "MinMaxScaler(copy=True, feature_range=(0, 1))"
            ]
          },
          "metadata": {
            "tags": []
          },
          "execution_count": 28
        }
      ]
    },
    {
      "cell_type": "code",
      "metadata": {
        "colab": {
          "base_uri": "https://localhost:8080/"
        },
        "id": "MSaBpQrDOvB1",
        "outputId": "655f15ed-7c5e-44bc-c14d-060a50c82caa"
      },
      "source": [
        "print('minimum:')\n",
        "list(scaler.data_min_)"
      ],
      "execution_count": 29,
      "outputs": [
        {
          "output_type": "stream",
          "text": [
            "minimum:\n"
          ],
          "name": "stdout"
        },
        {
          "output_type": "execute_result",
          "data": {
            "text/plain": [
              "[6.981,\n",
              " 9.71,\n",
              " 43.79,\n",
              " 143.5,\n",
              " 0.052629999999999996,\n",
              " 0.01938,\n",
              " 0.0,\n",
              " 0.0,\n",
              " 0.106,\n",
              " 0.049960000000000004,\n",
              " 0.1115,\n",
              " 0.3602,\n",
              " 0.757,\n",
              " 6.8020000000000005,\n",
              " 0.001713,\n",
              " 0.002252,\n",
              " 0.0,\n",
              " 0.0,\n",
              " 0.007882,\n",
              " 0.0008948000000000001,\n",
              " 7.93,\n",
              " 12.02,\n",
              " 50.41,\n",
              " 185.2,\n",
              " 0.07117000000000001,\n",
              " 0.02729,\n",
              " 0.0,\n",
              " 0.0,\n",
              " 0.1565,\n",
              " 0.05504]"
            ]
          },
          "metadata": {
            "tags": []
          },
          "execution_count": 29
        }
      ]
    },
    {
      "cell_type": "code",
      "metadata": {
        "colab": {
          "base_uri": "https://localhost:8080/"
        },
        "id": "ohBgDEpWOzrL",
        "outputId": "b87b297d-3a87-4541-9387-0c5209d27148"
      },
      "source": [
        "print('maximum:')\n",
        "list(scaler.data_max_)"
      ],
      "execution_count": 30,
      "outputs": [
        {
          "output_type": "stream",
          "text": [
            "maximum:\n"
          ],
          "name": "stdout"
        },
        {
          "output_type": "execute_result",
          "data": {
            "text/plain": [
              "[28.11,\n",
              " 39.28,\n",
              " 188.5,\n",
              " 2501.0,\n",
              " 0.1634,\n",
              " 0.3454,\n",
              " 0.4268,\n",
              " 0.2012,\n",
              " 0.304,\n",
              " 0.09744,\n",
              " 2.873,\n",
              " 4.885,\n",
              " 21.98,\n",
              " 542.2,\n",
              " 0.03113,\n",
              " 0.1354,\n",
              " 0.396,\n",
              " 0.05279,\n",
              " 0.07895,\n",
              " 0.02984,\n",
              " 36.04,\n",
              " 49.54,\n",
              " 251.2,\n",
              " 4254.0,\n",
              " 0.2226,\n",
              " 1.058,\n",
              " 1.252,\n",
              " 0.29100000000000004,\n",
              " 0.6638,\n",
              " 0.2075]"
            ]
          },
          "metadata": {
            "tags": []
          },
          "execution_count": 30
        }
      ]
    },
    {
      "cell_type": "code",
      "metadata": {
        "id": "jUqRb_DrO4ml"
      },
      "source": [
        "train_inputs[numeric_cols] = scaler.transform(train_inputs[numeric_cols])\n",
        "val_inputs[numeric_cols] = scaler.transform(val_inputs[numeric_cols])\n",
        "test_inputs[numeric_cols] = scaler.transform(test_inputs[numeric_cols])"
      ],
      "execution_count": 31,
      "outputs": []
    },
    {
      "cell_type": "code",
      "metadata": {
        "colab": {
          "base_uri": "https://localhost:8080/",
          "height": 325
        },
        "id": "xtBiAbVdPN1z",
        "outputId": "2585f1b9-3141-4699-ed16-7e8bc09700f8"
      },
      "source": [
        "train_inputs[numeric_cols].describe()"
      ],
      "execution_count": 32,
      "outputs": [
        {
          "output_type": "execute_result",
          "data": {
            "text/html": [
              "<div>\n",
              "<style scoped>\n",
              "    .dataframe tbody tr th:only-of-type {\n",
              "        vertical-align: middle;\n",
              "    }\n",
              "\n",
              "    .dataframe tbody tr th {\n",
              "        vertical-align: top;\n",
              "    }\n",
              "\n",
              "    .dataframe thead th {\n",
              "        text-align: right;\n",
              "    }\n",
              "</style>\n",
              "<table border=\"1\" class=\"dataframe\">\n",
              "  <thead>\n",
              "    <tr style=\"text-align: right;\">\n",
              "      <th></th>\n",
              "      <th>radius_mean</th>\n",
              "      <th>texture_mean</th>\n",
              "      <th>perimeter_mean</th>\n",
              "      <th>area_mean</th>\n",
              "      <th>smoothness_mean</th>\n",
              "      <th>compactness_mean</th>\n",
              "      <th>concavity_mean</th>\n",
              "      <th>concave points_mean</th>\n",
              "      <th>symmetry_mean</th>\n",
              "      <th>fractal_dimension_mean</th>\n",
              "      <th>radius_se</th>\n",
              "      <th>texture_se</th>\n",
              "      <th>perimeter_se</th>\n",
              "      <th>area_se</th>\n",
              "      <th>smoothness_se</th>\n",
              "      <th>compactness_se</th>\n",
              "      <th>concavity_se</th>\n",
              "      <th>concave points_se</th>\n",
              "      <th>symmetry_se</th>\n",
              "      <th>fractal_dimension_se</th>\n",
              "      <th>radius_worst</th>\n",
              "      <th>texture_worst</th>\n",
              "      <th>perimeter_worst</th>\n",
              "      <th>area_worst</th>\n",
              "      <th>smoothness_worst</th>\n",
              "      <th>compactness_worst</th>\n",
              "      <th>concavity_worst</th>\n",
              "      <th>concave points_worst</th>\n",
              "      <th>symmetry_worst</th>\n",
              "      <th>fractal_dimension_worst</th>\n",
              "    </tr>\n",
              "  </thead>\n",
              "  <tbody>\n",
              "    <tr>\n",
              "      <th>count</th>\n",
              "      <td>341.000000</td>\n",
              "      <td>341.000000</td>\n",
              "      <td>341.000000</td>\n",
              "      <td>341.000000</td>\n",
              "      <td>341.000000</td>\n",
              "      <td>341.000000</td>\n",
              "      <td>341.000000</td>\n",
              "      <td>341.000000</td>\n",
              "      <td>341.000000</td>\n",
              "      <td>341.000000</td>\n",
              "      <td>341.000000</td>\n",
              "      <td>341.000000</td>\n",
              "      <td>341.000000</td>\n",
              "      <td>341.000000</td>\n",
              "      <td>341.000000</td>\n",
              "      <td>341.000000</td>\n",
              "      <td>341.000000</td>\n",
              "      <td>341.000000</td>\n",
              "      <td>341.000000</td>\n",
              "      <td>341.000000</td>\n",
              "      <td>341.000000</td>\n",
              "      <td>341.000000</td>\n",
              "      <td>341.000000</td>\n",
              "      <td>341.000000</td>\n",
              "      <td>341.000000</td>\n",
              "      <td>341.000000</td>\n",
              "      <td>341.000000</td>\n",
              "      <td>341.000000</td>\n",
              "      <td>341.000000</td>\n",
              "      <td>341.000000</td>\n",
              "    </tr>\n",
              "    <tr>\n",
              "      <th>mean</th>\n",
              "      <td>0.332268</td>\n",
              "      <td>0.318504</td>\n",
              "      <td>0.326451</td>\n",
              "      <td>0.211712</td>\n",
              "      <td>0.390940</td>\n",
              "      <td>0.254246</td>\n",
              "      <td>0.200232</td>\n",
              "      <td>0.234369</td>\n",
              "      <td>0.383871</td>\n",
              "      <td>0.269382</td>\n",
              "      <td>0.104144</td>\n",
              "      <td>0.183926</td>\n",
              "      <td>0.097366</td>\n",
              "      <td>0.061159</td>\n",
              "      <td>0.178171</td>\n",
              "      <td>0.171479</td>\n",
              "      <td>0.079714</td>\n",
              "      <td>0.222851</td>\n",
              "      <td>0.180419</td>\n",
              "      <td>0.099058</td>\n",
              "      <td>0.291555</td>\n",
              "      <td>0.358350</td>\n",
              "      <td>0.278217</td>\n",
              "      <td>0.167458</td>\n",
              "      <td>0.398758</td>\n",
              "      <td>0.215037</td>\n",
              "      <td>0.210895</td>\n",
              "      <td>0.386814</td>\n",
              "      <td>0.266614</td>\n",
              "      <td>0.187798</td>\n",
              "    </tr>\n",
              "    <tr>\n",
              "      <th>std</th>\n",
              "      <td>0.164389</td>\n",
              "      <td>0.141954</td>\n",
              "      <td>0.165191</td>\n",
              "      <td>0.146545</td>\n",
              "      <td>0.130450</td>\n",
              "      <td>0.165308</td>\n",
              "      <td>0.185427</td>\n",
              "      <td>0.189919</td>\n",
              "      <td>0.142330</td>\n",
              "      <td>0.156107</td>\n",
              "      <td>0.099788</td>\n",
              "      <td>0.115682</td>\n",
              "      <td>0.094246</td>\n",
              "      <td>0.084092</td>\n",
              "      <td>0.105857</td>\n",
              "      <td>0.142961</td>\n",
              "      <td>0.079317</td>\n",
              "      <td>0.122893</td>\n",
              "      <td>0.120438</td>\n",
              "      <td>0.096749</td>\n",
              "      <td>0.172374</td>\n",
              "      <td>0.159304</td>\n",
              "      <td>0.167639</td>\n",
              "      <td>0.142196</td>\n",
              "      <td>0.154633</td>\n",
              "      <td>0.152456</td>\n",
              "      <td>0.160643</td>\n",
              "      <td>0.227713</td>\n",
              "      <td>0.126462</td>\n",
              "      <td>0.118234</td>\n",
              "    </tr>\n",
              "    <tr>\n",
              "      <th>min</th>\n",
              "      <td>0.033603</td>\n",
              "      <td>0.000000</td>\n",
              "      <td>0.028540</td>\n",
              "      <td>0.011410</td>\n",
              "      <td>0.000000</td>\n",
              "      <td>0.000000</td>\n",
              "      <td>0.000000</td>\n",
              "      <td>0.000000</td>\n",
              "      <td>0.054040</td>\n",
              "      <td>0.000000</td>\n",
              "      <td>0.000000</td>\n",
              "      <td>0.000000</td>\n",
              "      <td>0.004095</td>\n",
              "      <td>0.000000</td>\n",
              "      <td>0.032430</td>\n",
              "      <td>0.000000</td>\n",
              "      <td>0.000000</td>\n",
              "      <td>0.000000</td>\n",
              "      <td>0.000000</td>\n",
              "      <td>0.000000</td>\n",
              "      <td>0.026610</td>\n",
              "      <td>0.000000</td>\n",
              "      <td>0.020320</td>\n",
              "      <td>0.009438</td>\n",
              "      <td>0.066565</td>\n",
              "      <td>0.006821</td>\n",
              "      <td>0.000000</td>\n",
              "      <td>0.000000</td>\n",
              "      <td>0.000000</td>\n",
              "      <td>0.000000</td>\n",
              "    </tr>\n",
              "    <tr>\n",
              "      <th>25%</th>\n",
              "      <td>0.220029</td>\n",
              "      <td>0.223537</td>\n",
              "      <td>0.213461</td>\n",
              "      <td>0.114146</td>\n",
              "      <td>0.299630</td>\n",
              "      <td>0.129471</td>\n",
              "      <td>0.061809</td>\n",
              "      <td>0.095626</td>\n",
              "      <td>0.282828</td>\n",
              "      <td>0.161542</td>\n",
              "      <td>0.042839</td>\n",
              "      <td>0.104690</td>\n",
              "      <td>0.038637</td>\n",
              "      <td>0.020560</td>\n",
              "      <td>0.112146</td>\n",
              "      <td>0.075916</td>\n",
              "      <td>0.036212</td>\n",
              "      <td>0.141030</td>\n",
              "      <td>0.100298</td>\n",
              "      <td>0.045023</td>\n",
              "      <td>0.179651</td>\n",
              "      <td>0.244136</td>\n",
              "      <td>0.165347</td>\n",
              "      <td>0.080785</td>\n",
              "      <td>0.282837</td>\n",
              "      <td>0.107508</td>\n",
              "      <td>0.086821</td>\n",
              "      <td>0.216357</td>\n",
              "      <td>0.189237</td>\n",
              "      <td>0.102781</td>\n",
              "    </tr>\n",
              "    <tr>\n",
              "      <th>50%</th>\n",
              "      <td>0.294335</td>\n",
              "      <td>0.308083</td>\n",
              "      <td>0.288093</td>\n",
              "      <td>0.167508</td>\n",
              "      <td>0.377088</td>\n",
              "      <td>0.205632</td>\n",
              "      <td>0.135286</td>\n",
              "      <td>0.161531</td>\n",
              "      <td>0.373232</td>\n",
              "      <td>0.246420</td>\n",
              "      <td>0.073149</td>\n",
              "      <td>0.159742</td>\n",
              "      <td>0.069170</td>\n",
              "      <td>0.032720</td>\n",
              "      <td>0.158276</td>\n",
              "      <td>0.131117</td>\n",
              "      <td>0.062828</td>\n",
              "      <td>0.207805</td>\n",
              "      <td>0.153346</td>\n",
              "      <td>0.077256</td>\n",
              "      <td>0.248310</td>\n",
              "      <td>0.351812</td>\n",
              "      <td>0.232880</td>\n",
              "      <td>0.120306</td>\n",
              "      <td>0.390477</td>\n",
              "      <td>0.173094</td>\n",
              "      <td>0.171805</td>\n",
              "      <td>0.338866</td>\n",
              "      <td>0.251528</td>\n",
              "      <td>0.161157</td>\n",
              "    </tr>\n",
              "    <tr>\n",
              "      <th>75%</th>\n",
              "      <td>0.410762</td>\n",
              "      <td>0.400744</td>\n",
              "      <td>0.407781</td>\n",
              "      <td>0.260912</td>\n",
              "      <td>0.471879</td>\n",
              "      <td>0.338998</td>\n",
              "      <td>0.285380</td>\n",
              "      <td>0.336581</td>\n",
              "      <td>0.457576</td>\n",
              "      <td>0.338037</td>\n",
              "      <td>0.122180</td>\n",
              "      <td>0.235988</td>\n",
              "      <td>0.113980</td>\n",
              "      <td>0.069384</td>\n",
              "      <td>0.213890</td>\n",
              "      <td>0.217412</td>\n",
              "      <td>0.103359</td>\n",
              "      <td>0.274673</td>\n",
              "      <td>0.211600</td>\n",
              "      <td>0.122307</td>\n",
              "      <td>0.361793</td>\n",
              "      <td>0.463486</td>\n",
              "      <td>0.358534</td>\n",
              "      <td>0.205417</td>\n",
              "      <td>0.494156</td>\n",
              "      <td>0.304945</td>\n",
              "      <td>0.300240</td>\n",
              "      <td>0.537801</td>\n",
              "      <td>0.317564</td>\n",
              "      <td>0.242818</td>\n",
              "    </tr>\n",
              "    <tr>\n",
              "      <th>max</th>\n",
              "      <td>0.967343</td>\n",
              "      <td>1.000000</td>\n",
              "      <td>0.988943</td>\n",
              "      <td>1.000000</td>\n",
              "      <td>1.000000</td>\n",
              "      <td>0.895712</td>\n",
              "      <td>1.000000</td>\n",
              "      <td>1.000000</td>\n",
              "      <td>0.850000</td>\n",
              "      <td>1.000000</td>\n",
              "      <td>0.881948</td>\n",
              "      <td>0.726397</td>\n",
              "      <td>0.843095</td>\n",
              "      <td>1.000000</td>\n",
              "      <td>1.000000</td>\n",
              "      <td>1.000000</td>\n",
              "      <td>1.000000</td>\n",
              "      <td>1.000000</td>\n",
              "      <td>0.753898</td>\n",
              "      <td>1.000000</td>\n",
              "      <td>1.000000</td>\n",
              "      <td>1.000000</td>\n",
              "      <td>1.000000</td>\n",
              "      <td>1.000000</td>\n",
              "      <td>0.972264</td>\n",
              "      <td>0.883478</td>\n",
              "      <td>0.767412</td>\n",
              "      <td>1.000000</td>\n",
              "      <td>1.000000</td>\n",
              "      <td>0.773711</td>\n",
              "    </tr>\n",
              "  </tbody>\n",
              "</table>\n",
              "</div>"
            ],
            "text/plain": [
              "       radius_mean  texture_mean  ...  symmetry_worst  fractal_dimension_worst\n",
              "count   341.000000    341.000000  ...      341.000000               341.000000\n",
              "mean      0.332268      0.318504  ...        0.266614                 0.187798\n",
              "std       0.164389      0.141954  ...        0.126462                 0.118234\n",
              "min       0.033603      0.000000  ...        0.000000                 0.000000\n",
              "25%       0.220029      0.223537  ...        0.189237                 0.102781\n",
              "50%       0.294335      0.308083  ...        0.251528                 0.161157\n",
              "75%       0.410762      0.400744  ...        0.317564                 0.242818\n",
              "max       0.967343      1.000000  ...        1.000000                 0.773711\n",
              "\n",
              "[8 rows x 30 columns]"
            ]
          },
          "metadata": {
            "tags": []
          },
          "execution_count": 32
        }
      ]
    },
    {
      "cell_type": "code",
      "metadata": {
        "colab": {
          "base_uri": "https://localhost:8080/"
        },
        "id": "8zKKs1PmPRCN",
        "outputId": "0044f39f-77eb-459e-9344-e689c63bc9a9"
      },
      "source": [
        "!pip install pyarrow"
      ],
      "execution_count": 33,
      "outputs": [
        {
          "output_type": "stream",
          "text": [
            "Requirement already satisfied: pyarrow in /usr/local/lib/python3.7/dist-packages (3.0.0)\n",
            "Requirement already satisfied: numpy>=1.16.6 in /usr/local/lib/python3.7/dist-packages (from pyarrow) (1.19.5)\n"
          ],
          "name": "stdout"
        }
      ]
    },
    {
      "cell_type": "code",
      "metadata": {
        "id": "zk8KFRf4PXfi"
      },
      "source": [
        "train_inputs.to_parquet('train_inputs.parquet')\n",
        "val_inputs.to_parquet('val_inputs.parquet')\n",
        "test_inputs.to_parquet('test_inputs.parquet')"
      ],
      "execution_count": 34,
      "outputs": []
    },
    {
      "cell_type": "code",
      "metadata": {
        "colab": {
          "base_uri": "https://localhost:8080/"
        },
        "id": "KlWqJcufPm9w",
        "outputId": "9b4bbd36-c7fb-425f-d2c1-8991360fce6a"
      },
      "source": [
        "%%time\n",
        "pd.DataFrame(train_targets).to_parquet('train_targets.parquet')\n",
        "pd.DataFrame(val_targets).to_parquet('val_targets.parquet')\n",
        "pd.DataFrame(test_targets).to_parquet('test_targets.parquet')"
      ],
      "execution_count": 35,
      "outputs": [
        {
          "output_type": "stream",
          "text": [
            "CPU times: user 5.54 ms, sys: 2.92 ms, total: 8.46 ms\n",
            "Wall time: 11.5 ms\n"
          ],
          "name": "stdout"
        }
      ]
    },
    {
      "cell_type": "code",
      "metadata": {
        "id": "a36b3w-vPrBt"
      },
      "source": [
        "train_inputs = pd.read_parquet('train_inputs.parquet')\n",
        "val_inputs = pd.read_parquet('val_inputs.parquet')\n",
        "test_inputs = pd.read_parquet('test_inputs.parquet')\n",
        "\n",
        "train_targets = pd.read_parquet('train_targets.parquet')[target_col]\n",
        "val_targets = pd.read_parquet('val_targets.parquet')[target_col]\n",
        "test_targets = pd.read_parquet('test_targets.parquet')[target_col]"
      ],
      "execution_count": 36,
      "outputs": []
    },
    {
      "cell_type": "code",
      "metadata": {
        "colab": {
          "base_uri": "https://localhost:8080/"
        },
        "id": "O3y6RIyTPvWs",
        "outputId": "77c12971-bebc-4a9b-f4e9-a54900f8748f"
      },
      "source": [
        "print('train_inputs:', train_inputs.shape)\n",
        "print('train_targets:', train_targets.shape)\n",
        "print('val_inputs:', val_inputs.shape)\n",
        "print('val_targets:', val_targets.shape)\n",
        "print('test_inputs:', test_inputs.shape)\n",
        "print('test_targets:', test_targets.shape)"
      ],
      "execution_count": 37,
      "outputs": [
        {
          "output_type": "stream",
          "text": [
            "train_inputs: (341, 30)\n",
            "train_targets: (341,)\n",
            "val_inputs: (114, 30)\n",
            "val_targets: (114,)\n",
            "test_inputs: (114, 30)\n",
            "test_targets: (114,)\n"
          ],
          "name": "stdout"
        }
      ]
    },
    {
      "cell_type": "code",
      "metadata": {
        "id": "wKqpLPNPPxJx"
      },
      "source": [
        "from sklearn.linear_model import LogisticRegression\n",
        "model = LogisticRegression(solver = 'liblinear')"
      ],
      "execution_count": 38,
      "outputs": []
    },
    {
      "cell_type": "code",
      "metadata": {
        "colab": {
          "base_uri": "https://localhost:8080/"
        },
        "id": "6mkO8fyTP7mT",
        "outputId": "54d03c75-4dd4-4e78-e396-7e3b265718fc"
      },
      "source": [
        "%%time\n",
        "model.fit(train_inputs[numeric_cols], train_targets)"
      ],
      "execution_count": 39,
      "outputs": [
        {
          "output_type": "stream",
          "text": [
            "CPU times: user 6.83 ms, sys: 0 ns, total: 6.83 ms\n",
            "Wall time: 6.07 ms\n"
          ],
          "name": "stdout"
        },
        {
          "output_type": "execute_result",
          "data": {
            "text/plain": [
              "LogisticRegression(C=1.0, class_weight=None, dual=False, fit_intercept=True,\n",
              "                   intercept_scaling=1, l1_ratio=None, max_iter=100,\n",
              "                   multi_class='auto', n_jobs=None, penalty='l2',\n",
              "                   random_state=None, solver='liblinear', tol=0.0001, verbose=0,\n",
              "                   warm_start=False)"
            ]
          },
          "metadata": {
            "tags": []
          },
          "execution_count": 39
        }
      ]
    },
    {
      "cell_type": "code",
      "metadata": {
        "colab": {
          "base_uri": "https://localhost:8080/"
        },
        "id": "PO82YfZAQByG",
        "outputId": "697d3082-28f8-467f-8a20-082a4ece640b"
      },
      "source": [
        "print(model.coef_.tolist())"
      ],
      "execution_count": 40,
      "outputs": [
        {
          "output_type": "stream",
          "text": [
            "[[0.7314421878753082, 0.8897770889122598, 0.8004857971045741, 0.981430331513148, -0.3708856973781674, 0.58276130399089, 1.7549644685845371, 2.1487993267215435, -0.37742486754672794, -1.3188650399600905, 0.9616173056185174, -0.4709022205372412, 0.7341412470689103, 0.7242335840747053, -0.37630794409867413, -0.4495533819623911, -0.18722107052649736, -0.20519056017266307, -0.45049820245042915, -0.605265015910947, 1.4017254771766414, 1.3074443408945793, 1.301633000248521, 1.2563092351313352, 0.47344398865407733, 0.9250335939740735, 1.483373178262431, 2.0372333225353336, 0.8830369414622499, 0.12997146884652264]]\n"
          ],
          "name": "stdout"
        }
      ]
    },
    {
      "cell_type": "code",
      "metadata": {
        "colab": {
          "base_uri": "https://localhost:8080/"
        },
        "id": "3cHmOjAEQI8j",
        "outputId": "99b00bc0-28b1-4964-de37-0d5a17f0e3c2"
      },
      "source": [
        "print(numeric_cols)"
      ],
      "execution_count": 41,
      "outputs": [
        {
          "output_type": "stream",
          "text": [
            "['radius_mean', 'texture_mean', 'perimeter_mean', 'area_mean', 'smoothness_mean', 'compactness_mean', 'concavity_mean', 'concave points_mean', 'symmetry_mean', 'fractal_dimension_mean', 'radius_se', 'texture_se', 'perimeter_se', 'area_se', 'smoothness_se', 'compactness_se', 'concavity_se', 'concave points_se', 'symmetry_se', 'fractal_dimension_se', 'radius_worst', 'texture_worst', 'perimeter_worst', 'area_worst', 'smoothness_worst', 'compactness_worst', 'concavity_worst', 'concave points_worst', 'symmetry_worst', 'fractal_dimension_worst']\n"
          ],
          "name": "stdout"
        }
      ]
    },
    {
      "cell_type": "code",
      "metadata": {
        "colab": {
          "base_uri": "https://localhost:8080/"
        },
        "id": "c9j6d47jQKdC",
        "outputId": "7c6aca88-d427-4d18-a1aa-678e299ff5a3"
      },
      "source": [
        "print(model.intercept_)"
      ],
      "execution_count": 42,
      "outputs": [
        {
          "output_type": "stream",
          "text": [
            "[-4.89869569]\n"
          ],
          "name": "stdout"
        }
      ]
    },
    {
      "cell_type": "code",
      "metadata": {
        "id": "gF_YHlKYQOCP"
      },
      "source": [
        "X_train = train_inputs[numeric_cols]\n",
        "X_val = val_inputs[numeric_cols]\n",
        "X_test = test_inputs[numeric_cols]"
      ],
      "execution_count": 43,
      "outputs": []
    },
    {
      "cell_type": "code",
      "metadata": {
        "id": "5gEvdEEoQaRl"
      },
      "source": [
        "train_preds = model.predict(X_train)"
      ],
      "execution_count": 44,
      "outputs": []
    },
    {
      "cell_type": "code",
      "metadata": {
        "colab": {
          "base_uri": "https://localhost:8080/"
        },
        "id": "PlRJj28LQdq9",
        "outputId": "f2408b85-4cde-4db8-8ed8-b1cca64beb8b"
      },
      "source": [
        "train_preds"
      ],
      "execution_count": 45,
      "outputs": [
        {
          "output_type": "execute_result",
          "data": {
            "text/plain": [
              "array(['B', 'M', 'M', 'B', 'B', 'B', 'B', 'B', 'M', 'B', 'B', 'M', 'B',\n",
              "       'B', 'B', 'M', 'B', 'B', 'B', 'M', 'B', 'B', 'B', 'M', 'B', 'B',\n",
              "       'B', 'B', 'M', 'B', 'M', 'B', 'B', 'B', 'B', 'B', 'B', 'M', 'B',\n",
              "       'B', 'B', 'M', 'M', 'B', 'M', 'M', 'B', 'B', 'M', 'B', 'M', 'B',\n",
              "       'M', 'M', 'M', 'M', 'B', 'B', 'M', 'B', 'B', 'B', 'B', 'B', 'M',\n",
              "       'M', 'B', 'M', 'B', 'M', 'B', 'B', 'B', 'B', 'B', 'M', 'M', 'B',\n",
              "       'B', 'M', 'B', 'M', 'M', 'B', 'B', 'M', 'B', 'M', 'B', 'B', 'B',\n",
              "       'B', 'M', 'B', 'B', 'M', 'B', 'B', 'B', 'B', 'B', 'B', 'M', 'B',\n",
              "       'B', 'M', 'M', 'M', 'B', 'M', 'B', 'M', 'B', 'M', 'M', 'B', 'M',\n",
              "       'B', 'B', 'B', 'B', 'M', 'M', 'M', 'B', 'B', 'B', 'M', 'M', 'M',\n",
              "       'B', 'M', 'M', 'M', 'B', 'B', 'M', 'B', 'B', 'B', 'M', 'B', 'B',\n",
              "       'B', 'M', 'B', 'M', 'M', 'M', 'B', 'B', 'M', 'M', 'B', 'M', 'B',\n",
              "       'M', 'M', 'M', 'B', 'B', 'B', 'B', 'M', 'B', 'B', 'M', 'M', 'B',\n",
              "       'M', 'B', 'M', 'B', 'B', 'B', 'B', 'B', 'B', 'B', 'B', 'B', 'M',\n",
              "       'B', 'B', 'M', 'M', 'M', 'B', 'B', 'B', 'B', 'B', 'B', 'M', 'M',\n",
              "       'B', 'B', 'B', 'B', 'B', 'M', 'B', 'M', 'B', 'B', 'B', 'B', 'B',\n",
              "       'M', 'M', 'M', 'M', 'B', 'B', 'B', 'M', 'M', 'B', 'B', 'M', 'B',\n",
              "       'B', 'M', 'B', 'M', 'M', 'B', 'B', 'B', 'M', 'B', 'B', 'B', 'B',\n",
              "       'M', 'B', 'B', 'B', 'B', 'B', 'B', 'B', 'B', 'B', 'M', 'B', 'B',\n",
              "       'B', 'B', 'M', 'B', 'B', 'M', 'B', 'B', 'B', 'B', 'B', 'B', 'B',\n",
              "       'B', 'B', 'B', 'B', 'M', 'B', 'M', 'M', 'B', 'B', 'M', 'B', 'B',\n",
              "       'B', 'B', 'M', 'M', 'B', 'M', 'B', 'B', 'B', 'M', 'B', 'B', 'B',\n",
              "       'M', 'M', 'B', 'M', 'B', 'B', 'B', 'B', 'M', 'B', 'B', 'B', 'B',\n",
              "       'M', 'B', 'B', 'M', 'B', 'B', 'B', 'B', 'B', 'M', 'M', 'B', 'M',\n",
              "       'B', 'B', 'B', 'M', 'B', 'M', 'M', 'B', 'B', 'B', 'B', 'M', 'B',\n",
              "       'B', 'B', 'B', 'B', 'B', 'B', 'M', 'B', 'B', 'B', 'M', 'M', 'M',\n",
              "       'B', 'M', 'B'], dtype=object)"
            ]
          },
          "metadata": {
            "tags": []
          },
          "execution_count": 45
        }
      ]
    },
    {
      "cell_type": "code",
      "metadata": {
        "colab": {
          "base_uri": "https://localhost:8080/"
        },
        "id": "wwRT77qgQemI",
        "outputId": "1d548bbc-a503-4c60-96c5-8cdc8bfb86b7"
      },
      "source": [
        "train_targets"
      ],
      "execution_count": 46,
      "outputs": [
        {
          "output_type": "execute_result",
          "data": {
            "text/plain": [
              "217    B\n",
              "283    M\n",
              "0      M\n",
              "504    B\n",
              "251    B\n",
              "      ..\n",
              "57     M\n",
              "492    M\n",
              "418    B\n",
              "385    M\n",
              "325    B\n",
              "Name: diagnosis, Length: 341, dtype: object"
            ]
          },
          "metadata": {
            "tags": []
          },
          "execution_count": 46
        }
      ]
    },
    {
      "cell_type": "code",
      "metadata": {
        "colab": {
          "base_uri": "https://localhost:8080/"
        },
        "id": "OT_oXZqaQg4I",
        "outputId": "398a6345-3ca0-4b1c-9bec-c0e107cea7c3"
      },
      "source": [
        "from sklearn.metrics import accuracy_score\n",
        "accuracy_score(train_targets, train_preds)"
      ],
      "execution_count": 47,
      "outputs": [
        {
          "output_type": "execute_result",
          "data": {
            "text/plain": [
              "0.9736070381231672"
            ]
          },
          "metadata": {
            "tags": []
          },
          "execution_count": 47
        }
      ]
    },
    {
      "cell_type": "code",
      "metadata": {
        "id": "SGTu99jrQqCW"
      },
      "source": [
        "from sklearn.metrics import confusion_matrix\n"
      ],
      "execution_count": 48,
      "outputs": []
    },
    {
      "cell_type": "code",
      "metadata": {
        "colab": {
          "base_uri": "https://localhost:8080/"
        },
        "id": "RWFbmnxVQucK",
        "outputId": "53e6171a-2b34-4e6e-d2f6-827fa8c1a35e"
      },
      "source": [
        "confusion_matrix(train_targets, train_preds, normalize='true')"
      ],
      "execution_count": 49,
      "outputs": [
        {
          "output_type": "execute_result",
          "data": {
            "text/plain": [
              "array([[0.99537037, 0.00462963],\n",
              "       [0.064     , 0.936     ]])"
            ]
          },
          "metadata": {
            "tags": []
          },
          "execution_count": 49
        }
      ]
    },
    {
      "cell_type": "code",
      "metadata": {
        "id": "fGSUL_Y7Qz-E"
      },
      "source": [
        "def predict_and_plot(inputs, targets, name =''):\n",
        "  preds = model.predict(inputs)\n",
        "  accuracy = accuracy_score(targets, preds)\n",
        "  print('Accuracy:{:2f}%'.format(accuracy*100))\n",
        "  cf = confusion_matrix(targets, preds, normalize = 'true')\n",
        "  plt.figure()\n",
        "  sns.heatmap(cf, annot = True)\n",
        "  plt.xlabel('Prediction')\n",
        "  plt.ylabel('Target')"
      ],
      "execution_count": 50,
      "outputs": []
    },
    {
      "cell_type": "code",
      "metadata": {
        "colab": {
          "base_uri": "https://localhost:8080/",
          "height": 297
        },
        "id": "n7H0E_6dR1Sk",
        "outputId": "aca72b4f-66b9-449e-f221-d262df90870e"
      },
      "source": [
        "train_preds = predict_and_plot(X_train, train_targets, name = 'Training')"
      ],
      "execution_count": 52,
      "outputs": [
        {
          "output_type": "stream",
          "text": [
            "Accuracy:97.360704%\n"
          ],
          "name": "stdout"
        },
        {
          "output_type": "display_data",
          "data": {
            "image/png": "[encoded data removed]",
            "text/plain": [
              "<Figure size 432x288 with 2 Axes>"
            ]
          },
          "metadata": {
            "tags": [],
            "needs_background": "light"
          }
        }
      ]
    },
    {
      "cell_type": "code",
      "metadata": {
        "colab": {
          "base_uri": "https://localhost:8080/",
          "height": 297
        },
        "id": "HJcq2zVeR84m",
        "outputId": "edb11aa5-bf86-48f8-ee2d-8b6a2ac4b63e"
      },
      "source": [
        "val_preds = predict_and_plot(X_val, val_targets, name = 'Validation')"
      ],
      "execution_count": 53,
      "outputs": [
        {
          "output_type": "stream",
          "text": [
            "Accuracy:95.614035%\n"
          ],
          "name": "stdout"
        },
        {
          "output_type": "display_data",
          "data": {
            "image/png": "[encoded data removed]",
            "text/plain": [
              "<Figure size 432x288 with 2 Axes>"
            ]
          },
          "metadata": {
            "tags": [],
            "needs_background": "light"
          }
        }
      ]
    },
    {
      "cell_type": "code",
      "metadata": {
        "colab": {
          "base_uri": "https://localhost:8080/",
          "height": 297
        },
        "id": "1QmXE0yOSIPG",
        "outputId": "7dd33bb2-2df6-4a65-d879-f5418ef1fd18"
      },
      "source": [
        "test_preds = predict_and_plot(X_test, test_targets, name ='Test')"
      ],
      "execution_count": 54,
      "outputs": [
        {
          "output_type": "stream",
          "text": [
            "Accuracy:96.491228%\n"
          ],
          "name": "stdout"
        },
        {
          "output_type": "display_data",
          "data": {
            "image/png": "[encoded data removed]",
            "text/plain": [
              "<Figure size 432x288 with 2 Axes>"
            ]
          },
          "metadata": {
            "tags": [],
            "needs_background": "light"
          }
        }
      ]
    },
    {
      "cell_type": "code",
      "metadata": {
        "id": "DyomNYxtSOSN"
      },
      "source": [
        ""
      ],
      "execution_count": null,
      "outputs": []
    }
  ]
}