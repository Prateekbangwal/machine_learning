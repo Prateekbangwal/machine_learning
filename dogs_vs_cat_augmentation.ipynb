{
  "nbformat": 4,
  "nbformat_minor": 0,
  "metadata": {
    "colab": {
      "name": "dogs_vs_cat_augmentation.ipynb",
      "provenance": [],
      "collapsed_sections": [],
      "authorship_tag": "ABX9TyOjsiZss2c5sYMYtlmJU7+w",
      "include_colab_link": true
    },
    "kernelspec": {
      "name": "python3",
      "display_name": "Python 3"
    }
  },
  "cells": [
    {
      "cell_type": "markdown",
      "metadata": {
        "id": "view-in-github",
        "colab_type": "text"
      },
      "source": [
        "<a href=\"https://colab.research.google.com/github/Prateekbangwal/machine_learning/blob/master/dogs_vs_cat_augmentation.ipynb\" target=\"_parent\"><img src=\"https://colab.research.google.com/assets/colab-badge.svg\" alt=\"Open In Colab\"/></a>"
      ]
    },
    {
      "cell_type": "code",
      "metadata": {
        "id": "lJZhHWL22lLC",
        "colab_type": "code",
        "colab": {}
      },
      "source": [
        "import os\n",
        "import zipfile\n",
        "import tensorflow as tf\n",
        "from tensorflow.keras.optimizers import RMSprop\n",
        "from tensorflow.keras.preprocessing.image import ImageDataGenerator"
      ],
      "execution_count": null,
      "outputs": []
    },
    {
      "cell_type": "code",
      "metadata": {
        "id": "CHAuA0Y46YT_",
        "colab_type": "code",
        "colab": {
          "base_uri": "https://localhost:8080/",
          "height": 212
        },
        "outputId": "2b4b5d5a-3795-40ab-8a0e-630b18082b4c"
      },
      "source": [
        "!wget --no-check-certificate \\\n",
        "    https://storage.googleapis.com/mledu-datasets/cats_and_dogs_filtered.zip \\\n",
        "    -O /tmp/cats_and_dogs_filtered.zip"
      ],
      "execution_count": null,
      "outputs": [
        {
          "output_type": "stream",
          "text": [
            "--2020-06-23 16:01:43--  https://storage.googleapis.com/mledu-datasets/cats_and_dogs_filtered.zip\n",
            "Resolving storage.googleapis.com (storage.googleapis.com)... 64.233.189.128, 2404:6800:4008:c03::80\n",
            "Connecting to storage.googleapis.com (storage.googleapis.com)|64.233.189.128|:443... connected.\n",
            "HTTP request sent, awaiting response... 200 OK\n",
            "Length: 68606236 (65M) [application/zip]\n",
            "Saving to: ‘/tmp/cats_and_dogs_filtered.zip’\n",
            "\n",
            "\r          /tmp/cats   0%[                    ]       0  --.-KB/s               \r         /tmp/cats_  36%[======>             ]  23.94M   120MB/s               \r        /tmp/cats_a  95%[==================> ]  62.65M   157MB/s               \r/tmp/cats_and_dogs_ 100%[===================>]  65.43M   160MB/s    in 0.4s    \n",
            "\n",
            "2020-06-23 16:01:44 (160 MB/s) - ‘/tmp/cats_and_dogs_filtered.zip’ saved [68606236/68606236]\n",
            "\n"
          ],
          "name": "stdout"
        }
      ]
    },
    {
      "cell_type": "code",
      "metadata": {
        "id": "-DjI6xsO6eXB",
        "colab_type": "code",
        "colab": {}
      },
      "source": [
        "local_zip = '/tmp/cats_and_dogs_filtered.zip'\n",
        "zip_ref = zipfile.ZipFile(local_zip, 'r')\n",
        "zip_ref.extractall('/tmp')\n",
        "zip_ref.close()"
      ],
      "execution_count": null,
      "outputs": []
    },
    {
      "cell_type": "code",
      "metadata": {
        "id": "5LLObNZx6ygr",
        "colab_type": "code",
        "colab": {}
      },
      "source": [
        "base_dir = '/tmp/cats_and_dogs_filtered'\n",
        "train_dir = os.path.join(base_dir, 'train')\n",
        "validation_dir = os.path.join(base_dir, 'validation')\n",
        "\n",
        "# Directory with our training cat pictures\n",
        "train_cats_dir = os.path.join(train_dir, 'cats')\n",
        "\n",
        "# Directory with our training dog pictures\n",
        "train_dogs_dir = os.path.join(train_dir, 'dogs')\n",
        "\n",
        "# Directory with our validation cat pictures\n",
        "validation_cats_dir = os.path.join(validation_dir, 'cats')\n",
        "\n",
        "# Directory with our validation dog pictures\n",
        "validation_dogs_dir = os.path.join(validation_dir, 'dogs')"
      ],
      "execution_count": null,
      "outputs": []
    },
    {
      "cell_type": "code",
      "metadata": {
        "id": "bCKUEsrx68Xt",
        "colab_type": "code",
        "colab": {}
      },
      "source": [
        "model = tf.keras.models.Sequential([\n",
        "                                    tf.keras.layers.Conv2D(32, (3,3), activation = 'relu', input_shape =(150,150,3)),\n",
        "                                    tf.keras.layers.MaxPooling2D(2,2),\n",
        "                                    tf.keras.layers.Conv2D(64, (3,3), activation = 'relu'),\n",
        "                                    tf.keras.layers.MaxPooling2D(2,2),\n",
        "                                    tf.keras.layers.Conv2D(128, (3,3), activation = 'relu'),\n",
        "                                    tf.keras.layers.MaxPooling2D(2,2),\n",
        "                                    tf.keras.layers.Conv2D(128, (3,3), activation = 'relu'),\n",
        "                                    tf.keras.layers.MaxPooling2D(2,2),\n",
        "                                    tf.keras.layers.Flatten(),\n",
        "                                    tf.keras.layers.Dense(512, activation = 'relu'),\n",
        "                                    tf.keras.layers.Dense(1, activation = 'sigmoid')\n",
        "])"
      ],
      "execution_count": null,
      "outputs": []
    },
    {
      "cell_type": "code",
      "metadata": {
        "id": "v3PteYxs7j_N",
        "colab_type": "code",
        "colab": {
          "base_uri": "https://localhost:8080/",
          "height": 550
        },
        "outputId": "a855ab74-ecc6-413e-c0f5-545aa2298ead"
      },
      "source": [
        "model.summary()"
      ],
      "execution_count": null,
      "outputs": [
        {
          "output_type": "stream",
          "text": [
            "Model: \"sequential\"\n",
            "_________________________________________________________________\n",
            "Layer (type)                 Output Shape              Param #   \n",
            "=================================================================\n",
            "conv2d (Conv2D)              (None, 148, 148, 32)      896       \n",
            "_________________________________________________________________\n",
            "max_pooling2d (MaxPooling2D) (None, 74, 74, 32)        0         \n",
            "_________________________________________________________________\n",
            "conv2d_1 (Conv2D)            (None, 72, 72, 64)        18496     \n",
            "_________________________________________________________________\n",
            "max_pooling2d_1 (MaxPooling2 (None, 36, 36, 64)        0         \n",
            "_________________________________________________________________\n",
            "conv2d_2 (Conv2D)            (None, 34, 34, 128)       73856     \n",
            "_________________________________________________________________\n",
            "max_pooling2d_2 (MaxPooling2 (None, 17, 17, 128)       0         \n",
            "_________________________________________________________________\n",
            "conv2d_3 (Conv2D)            (None, 15, 15, 128)       147584    \n",
            "_________________________________________________________________\n",
            "max_pooling2d_3 (MaxPooling2 (None, 7, 7, 128)         0         \n",
            "_________________________________________________________________\n",
            "flatten (Flatten)            (None, 6272)              0         \n",
            "_________________________________________________________________\n",
            "dense (Dense)                (None, 512)               3211776   \n",
            "_________________________________________________________________\n",
            "dense_1 (Dense)              (None, 1)                 513       \n",
            "=================================================================\n",
            "Total params: 3,453,121\n",
            "Trainable params: 3,453,121\n",
            "Non-trainable params: 0\n",
            "_________________________________________________________________\n"
          ],
          "name": "stdout"
        }
      ]
    },
    {
      "cell_type": "code",
      "metadata": {
        "id": "AJOnd28R7lQq",
        "colab_type": "code",
        "colab": {}
      },
      "source": [
        "model.compile(loss = 'binary_crossentropy',\n",
        "              optimizer = RMSprop(lr = 0.0001),\n",
        "              metrics = ['accuracy'])"
      ],
      "execution_count": null,
      "outputs": []
    },
    {
      "cell_type": "code",
      "metadata": {
        "id": "y4Mna5iJ7yCF",
        "colab_type": "code",
        "colab": {}
      },
      "source": [
        "# All images will be rescaled by 1./255\n",
        "# train_datagen = ImageDataGenerator(rescale = 1/255)\n",
        "train_datagen = ImageDataGenerator(\n",
        "    rescale = 1/255,\n",
        "    rotation_range = 40,\n",
        "    width_shift_range = 0.2,\n",
        "    height_shift_range = 0.2,\n",
        "    shear_range = 0.2,\n",
        "    zoom_range = 0.2,\n",
        "    horizontal_flip = False,\n",
        "    fill_mode = 'nearest'\n",
        ")\n",
        "test_datagen = ImageDataGenerator(rescale = 1/255)"
      ],
      "execution_count": null,
      "outputs": []
    },
    {
      "cell_type": "code",
      "metadata": {
        "id": "bQrR6BQ_8yLh",
        "colab_type": "code",
        "colab": {
          "base_uri": "https://localhost:8080/",
          "height": 52
        },
        "outputId": "b0e83f87-c4de-48e5-a36d-61153902b7c1"
      },
      "source": [
        "# Flow training images in batches of 20 using train_datagen generator\n",
        "train_generator = train_datagen.flow_from_directory(\n",
        "    train_dir,\n",
        "    target_size = (150,150),\n",
        "    batch_size = 20,\n",
        "    class_mode = 'binary'\n",
        ")\n",
        "# Flow validation images in batches of 20 using test_datagen generator\n",
        "validation_generator = test_datagen.flow_from_directory(\n",
        "        validation_dir,\n",
        "        target_size=(150, 150),\n",
        "        batch_size=20,\n",
        "        class_mode='binary')"
      ],
      "execution_count": null,
      "outputs": [
        {
          "output_type": "stream",
          "text": [
            "Found 2000 images belonging to 2 classes.\n",
            "Found 1000 images belonging to 2 classes.\n"
          ],
          "name": "stdout"
        }
      ]
    },
    {
      "cell_type": "code",
      "metadata": {
        "id": "FCgq0amt9E_M",
        "colab_type": "code",
        "colab": {
          "base_uri": "https://localhost:8080/",
          "height": 1000
        },
        "outputId": "c97e405e-868d-403b-e52a-88c72c5f15b7"
      },
      "source": [
        "history = model.fit(\n",
        "    train_generator,\n",
        "    steps_per_epoch = 100,# 2000 images = batch_size * steps\n",
        "    epochs = 100,\n",
        "    validation_data = validation_generator,\n",
        "    validation_steps = 50, # 1000 images = batch_size * steps\n",
        "    verbose = 2\n",
        "\n",
        ")"
      ],
      "execution_count": null,
      "outputs": [
        {
          "output_type": "stream",
          "text": [
            "Epoch 1/100\n",
            "100/100 - 111s - loss: 0.6086 - accuracy: 0.7010 - val_loss: 0.5282 - val_accuracy: 0.7500\n",
            "Epoch 2/100\n",
            "100/100 - 115s - loss: 0.5545 - accuracy: 0.7115 - val_loss: 0.4910 - val_accuracy: 0.7600\n",
            "Epoch 3/100\n",
            "100/100 - 110s - loss: 0.5407 - accuracy: 0.7175 - val_loss: 0.4790 - val_accuracy: 0.7650\n",
            "Epoch 4/100\n",
            "100/100 - 110s - loss: 0.5323 - accuracy: 0.7310 - val_loss: 0.4969 - val_accuracy: 0.7630\n",
            "Epoch 5/100\n",
            "100/100 - 110s - loss: 0.5266 - accuracy: 0.7275 - val_loss: 0.4992 - val_accuracy: 0.7600\n",
            "Epoch 6/100\n",
            "100/100 - 110s - loss: 0.5222 - accuracy: 0.7320 - val_loss: 0.4569 - val_accuracy: 0.7850\n",
            "Epoch 7/100\n",
            "100/100 - 115s - loss: 0.5078 - accuracy: 0.7515 - val_loss: 0.4610 - val_accuracy: 0.7700\n",
            "Epoch 8/100\n",
            "100/100 - 114s - loss: 0.5151 - accuracy: 0.7395 - val_loss: 0.4584 - val_accuracy: 0.7900\n",
            "Epoch 9/100\n",
            "100/100 - 113s - loss: 0.5185 - accuracy: 0.7420 - val_loss: 0.4748 - val_accuracy: 0.7590\n",
            "Epoch 10/100\n",
            "100/100 - 113s - loss: 0.5081 - accuracy: 0.7525 - val_loss: 0.4734 - val_accuracy: 0.7660\n",
            "Epoch 11/100\n",
            "100/100 - 113s - loss: 0.5006 - accuracy: 0.7495 - val_loss: 0.4666 - val_accuracy: 0.7810\n",
            "Epoch 12/100\n",
            "100/100 - 113s - loss: 0.4993 - accuracy: 0.7575 - val_loss: 0.4499 - val_accuracy: 0.7920\n",
            "Epoch 13/100\n",
            "100/100 - 116s - loss: 0.4900 - accuracy: 0.7595 - val_loss: 0.4595 - val_accuracy: 0.7700\n",
            "Epoch 14/100\n",
            "100/100 - 110s - loss: 0.4817 - accuracy: 0.7670 - val_loss: 0.4471 - val_accuracy: 0.7930\n",
            "Epoch 15/100\n",
            "100/100 - 110s - loss: 0.4941 - accuracy: 0.7625 - val_loss: 0.4554 - val_accuracy: 0.7820\n",
            "Epoch 16/100\n",
            "100/100 - 110s - loss: 0.4816 - accuracy: 0.7705 - val_loss: 0.4924 - val_accuracy: 0.7610\n",
            "Epoch 17/100\n",
            "100/100 - 109s - loss: 0.4928 - accuracy: 0.7570 - val_loss: 0.4749 - val_accuracy: 0.7810\n",
            "Epoch 18/100\n",
            "100/100 - 114s - loss: 0.4639 - accuracy: 0.7805 - val_loss: 0.4627 - val_accuracy: 0.7840\n",
            "Epoch 19/100\n",
            "100/100 - 109s - loss: 0.4578 - accuracy: 0.7895 - val_loss: 0.4930 - val_accuracy: 0.7660\n",
            "Epoch 20/100\n",
            "100/100 - 110s - loss: 0.4559 - accuracy: 0.7785 - val_loss: 0.4571 - val_accuracy: 0.7750\n",
            "Epoch 21/100\n",
            "100/100 - 109s - loss: 0.4630 - accuracy: 0.7800 - val_loss: 0.4477 - val_accuracy: 0.7920\n",
            "Epoch 22/100\n",
            "100/100 - 109s - loss: 0.4576 - accuracy: 0.7805 - val_loss: 0.4476 - val_accuracy: 0.7880\n",
            "Epoch 23/100\n",
            "100/100 - 115s - loss: 0.4475 - accuracy: 0.7955 - val_loss: 0.6028 - val_accuracy: 0.7170\n",
            "Epoch 24/100\n",
            "100/100 - 109s - loss: 0.4423 - accuracy: 0.7865 - val_loss: 0.4455 - val_accuracy: 0.7860\n",
            "Epoch 25/100\n",
            "100/100 - 109s - loss: 0.4527 - accuracy: 0.7895 - val_loss: 0.4551 - val_accuracy: 0.7850\n",
            "Epoch 26/100\n",
            "100/100 - 110s - loss: 0.4421 - accuracy: 0.7910 - val_loss: 0.4454 - val_accuracy: 0.7900\n",
            "Epoch 27/100\n",
            "100/100 - 109s - loss: 0.4407 - accuracy: 0.7925 - val_loss: 0.4338 - val_accuracy: 0.8110\n",
            "Epoch 28/100\n",
            "100/100 - 109s - loss: 0.4433 - accuracy: 0.7900 - val_loss: 0.4337 - val_accuracy: 0.7980\n",
            "Epoch 29/100\n",
            "100/100 - 115s - loss: 0.4327 - accuracy: 0.7995 - val_loss: 0.4404 - val_accuracy: 0.7870\n",
            "Epoch 30/100\n",
            "100/100 - 109s - loss: 0.4408 - accuracy: 0.7960 - val_loss: 0.4473 - val_accuracy: 0.7840\n",
            "Epoch 31/100\n",
            "100/100 - 109s - loss: 0.4222 - accuracy: 0.8060 - val_loss: 0.4327 - val_accuracy: 0.7950\n",
            "Epoch 32/100\n",
            "100/100 - 109s - loss: 0.4258 - accuracy: 0.8040 - val_loss: 0.4485 - val_accuracy: 0.7900\n",
            "Epoch 33/100\n",
            "100/100 - 109s - loss: 0.4148 - accuracy: 0.8165 - val_loss: 0.5042 - val_accuracy: 0.7750\n",
            "Epoch 34/100\n",
            "100/100 - 114s - loss: 0.4232 - accuracy: 0.8000 - val_loss: 0.4415 - val_accuracy: 0.7920\n",
            "Epoch 35/100\n",
            "100/100 - 108s - loss: 0.4192 - accuracy: 0.8055 - val_loss: 0.4348 - val_accuracy: 0.7930\n",
            "Epoch 36/100\n",
            "100/100 - 108s - loss: 0.4312 - accuracy: 0.8015 - val_loss: 0.5098 - val_accuracy: 0.7650\n",
            "Epoch 37/100\n",
            "100/100 - 110s - loss: 0.4090 - accuracy: 0.8110 - val_loss: 0.4250 - val_accuracy: 0.8030\n",
            "Epoch 38/100\n",
            "100/100 - 110s - loss: 0.4237 - accuracy: 0.8090 - val_loss: 0.4204 - val_accuracy: 0.8180\n",
            "Epoch 39/100\n",
            "100/100 - 110s - loss: 0.4115 - accuracy: 0.8175 - val_loss: 0.4424 - val_accuracy: 0.8110\n",
            "Epoch 40/100\n",
            "100/100 - 115s - loss: 0.4022 - accuracy: 0.8180 - val_loss: 0.5469 - val_accuracy: 0.7530\n",
            "Epoch 41/100\n",
            "100/100 - 110s - loss: 0.3942 - accuracy: 0.8185 - val_loss: 0.4727 - val_accuracy: 0.7810\n",
            "Epoch 42/100\n",
            "100/100 - 110s - loss: 0.3997 - accuracy: 0.8120 - val_loss: 0.4398 - val_accuracy: 0.8030\n",
            "Epoch 43/100\n",
            "100/100 - 110s - loss: 0.3964 - accuracy: 0.8110 - val_loss: 0.4315 - val_accuracy: 0.8090\n",
            "Epoch 44/100\n",
            "100/100 - 110s - loss: 0.3997 - accuracy: 0.8145 - val_loss: 0.4243 - val_accuracy: 0.8010\n",
            "Epoch 45/100\n",
            "100/100 - 110s - loss: 0.3849 - accuracy: 0.8245 - val_loss: 0.4461 - val_accuracy: 0.7980\n",
            "Epoch 46/100\n",
            "100/100 - 110s - loss: 0.3839 - accuracy: 0.8235 - val_loss: 0.4228 - val_accuracy: 0.8060\n",
            "Epoch 47/100\n",
            "100/100 - 110s - loss: 0.4014 - accuracy: 0.8070 - val_loss: 0.4249 - val_accuracy: 0.7960\n",
            "Epoch 48/100\n",
            "100/100 - 110s - loss: 0.3765 - accuracy: 0.8310 - val_loss: 0.4445 - val_accuracy: 0.7970\n",
            "Epoch 49/100\n",
            "100/100 - 110s - loss: 0.3920 - accuracy: 0.8270 - val_loss: 0.5050 - val_accuracy: 0.7680\n",
            "Epoch 50/100\n",
            "100/100 - 110s - loss: 0.3920 - accuracy: 0.8215 - val_loss: 0.4909 - val_accuracy: 0.7860\n",
            "Epoch 51/100\n",
            "100/100 - 110s - loss: 0.3824 - accuracy: 0.8300 - val_loss: 0.4592 - val_accuracy: 0.7910\n",
            "Epoch 52/100\n",
            "100/100 - 110s - loss: 0.3801 - accuracy: 0.8310 - val_loss: 0.4711 - val_accuracy: 0.7860\n",
            "Epoch 53/100\n",
            "100/100 - 110s - loss: 0.3868 - accuracy: 0.8360 - val_loss: 0.4771 - val_accuracy: 0.7820\n",
            "Epoch 54/100\n",
            "100/100 - 110s - loss: 0.3754 - accuracy: 0.8300 - val_loss: 0.4344 - val_accuracy: 0.7980\n",
            "Epoch 55/100\n",
            "100/100 - 109s - loss: 0.3728 - accuracy: 0.8305 - val_loss: 0.4136 - val_accuracy: 0.8110\n",
            "Epoch 56/100\n",
            "100/100 - 109s - loss: 0.3649 - accuracy: 0.8390 - val_loss: 0.4337 - val_accuracy: 0.8100\n",
            "Epoch 57/100\n",
            "100/100 - 109s - loss: 0.3816 - accuracy: 0.8255 - val_loss: 0.4383 - val_accuracy: 0.7840\n",
            "Epoch 58/100\n",
            "100/100 - 108s - loss: 0.3690 - accuracy: 0.8375 - val_loss: 0.4366 - val_accuracy: 0.7950\n",
            "Epoch 59/100\n",
            "100/100 - 108s - loss: 0.3583 - accuracy: 0.8400 - val_loss: 0.5311 - val_accuracy: 0.7550\n",
            "Epoch 60/100\n",
            "100/100 - 109s - loss: 0.3513 - accuracy: 0.8460 - val_loss: 0.4267 - val_accuracy: 0.7920\n",
            "Epoch 61/100\n",
            "100/100 - 109s - loss: 0.3490 - accuracy: 0.8515 - val_loss: 0.4258 - val_accuracy: 0.8200\n",
            "Epoch 62/100\n",
            "100/100 - 109s - loss: 0.3483 - accuracy: 0.8545 - val_loss: 0.4435 - val_accuracy: 0.8020\n",
            "Epoch 63/100\n",
            "100/100 - 109s - loss: 0.3531 - accuracy: 0.8440 - val_loss: 0.4275 - val_accuracy: 0.8110\n",
            "Epoch 64/100\n",
            "100/100 - 108s - loss: 0.3603 - accuracy: 0.8365 - val_loss: 0.4192 - val_accuracy: 0.8140\n",
            "Epoch 65/100\n",
            "100/100 - 107s - loss: 0.3402 - accuracy: 0.8470 - val_loss: 0.4525 - val_accuracy: 0.8030\n",
            "Epoch 66/100\n",
            "100/100 - 106s - loss: 0.3435 - accuracy: 0.8530 - val_loss: 0.4338 - val_accuracy: 0.8130\n",
            "Epoch 67/100\n",
            "100/100 - 106s - loss: 0.3333 - accuracy: 0.8555 - val_loss: 0.4208 - val_accuracy: 0.8130\n",
            "Epoch 68/100\n",
            "100/100 - 106s - loss: 0.3613 - accuracy: 0.8400 - val_loss: 0.4635 - val_accuracy: 0.7870\n",
            "Epoch 69/100\n",
            "100/100 - 105s - loss: 0.3435 - accuracy: 0.8415 - val_loss: 0.4593 - val_accuracy: 0.8040\n",
            "Epoch 70/100\n",
            "100/100 - 105s - loss: 0.3416 - accuracy: 0.8470 - val_loss: 0.4983 - val_accuracy: 0.7850\n",
            "Epoch 71/100\n",
            "100/100 - 105s - loss: 0.3358 - accuracy: 0.8475 - val_loss: 0.4208 - val_accuracy: 0.8020\n",
            "Epoch 72/100\n",
            "100/100 - 103s - loss: 0.3404 - accuracy: 0.8515 - val_loss: 0.4365 - val_accuracy: 0.8040\n",
            "Epoch 73/100\n",
            "100/100 - 103s - loss: 0.3345 - accuracy: 0.8560 - val_loss: 0.4004 - val_accuracy: 0.8290\n",
            "Epoch 74/100\n",
            "100/100 - 104s - loss: 0.3299 - accuracy: 0.8570 - val_loss: 0.4697 - val_accuracy: 0.7930\n",
            "Epoch 75/100\n",
            "100/100 - 103s - loss: 0.3263 - accuracy: 0.8555 - val_loss: 0.4411 - val_accuracy: 0.8150\n",
            "Epoch 76/100\n",
            "100/100 - 103s - loss: 0.3301 - accuracy: 0.8520 - val_loss: 0.4438 - val_accuracy: 0.8080\n",
            "Epoch 77/100\n",
            "100/100 - 104s - loss: 0.3249 - accuracy: 0.8610 - val_loss: 0.3991 - val_accuracy: 0.8250\n",
            "Epoch 78/100\n",
            "100/100 - 102s - loss: 0.3391 - accuracy: 0.8515 - val_loss: 0.4359 - val_accuracy: 0.8100\n",
            "Epoch 79/100\n",
            "100/100 - 103s - loss: 0.3456 - accuracy: 0.8535 - val_loss: 0.4201 - val_accuracy: 0.8070\n",
            "Epoch 80/100\n",
            "100/100 - 105s - loss: 0.3169 - accuracy: 0.8625 - val_loss: 0.4646 - val_accuracy: 0.7940\n",
            "Epoch 81/100\n",
            "100/100 - 104s - loss: 0.3363 - accuracy: 0.8545 - val_loss: 0.4007 - val_accuracy: 0.8160\n",
            "Epoch 82/100\n",
            "100/100 - 105s - loss: 0.3174 - accuracy: 0.8675 - val_loss: 0.4178 - val_accuracy: 0.8170\n",
            "Epoch 83/100\n",
            "100/100 - 106s - loss: 0.2943 - accuracy: 0.8735 - val_loss: 0.4494 - val_accuracy: 0.8120\n",
            "Epoch 84/100\n",
            "100/100 - 105s - loss: 0.3212 - accuracy: 0.8635 - val_loss: 0.3981 - val_accuracy: 0.8270\n",
            "Epoch 85/100\n",
            "100/100 - 109s - loss: 0.3139 - accuracy: 0.8720 - val_loss: 0.4236 - val_accuracy: 0.8180\n",
            "Epoch 86/100\n",
            "100/100 - 109s - loss: 0.3169 - accuracy: 0.8645 - val_loss: 0.4028 - val_accuracy: 0.8180\n",
            "Epoch 87/100\n",
            "100/100 - 108s - loss: 0.3246 - accuracy: 0.8675 - val_loss: 0.4727 - val_accuracy: 0.8040\n",
            "Epoch 88/100\n",
            "100/100 - 107s - loss: 0.3067 - accuracy: 0.8630 - val_loss: 0.4940 - val_accuracy: 0.7920\n",
            "Epoch 89/100\n",
            "100/100 - 108s - loss: 0.3077 - accuracy: 0.8705 - val_loss: 0.4126 - val_accuracy: 0.8170\n",
            "Epoch 90/100\n",
            "100/100 - 108s - loss: 0.2877 - accuracy: 0.8805 - val_loss: 0.4264 - val_accuracy: 0.8250\n",
            "Epoch 91/100\n",
            "100/100 - 107s - loss: 0.3113 - accuracy: 0.8505 - val_loss: 0.4235 - val_accuracy: 0.8070\n",
            "Epoch 92/100\n",
            "100/100 - 107s - loss: 0.2988 - accuracy: 0.8690 - val_loss: 0.5304 - val_accuracy: 0.7970\n",
            "Epoch 93/100\n",
            "100/100 - 108s - loss: 0.3095 - accuracy: 0.8610 - val_loss: 0.4269 - val_accuracy: 0.8060\n",
            "Epoch 94/100\n",
            "100/100 - 109s - loss: 0.3053 - accuracy: 0.8700 - val_loss: 0.4218 - val_accuracy: 0.8140\n",
            "Epoch 95/100\n",
            "100/100 - 109s - loss: 0.2969 - accuracy: 0.8770 - val_loss: 0.4608 - val_accuracy: 0.8140\n",
            "Epoch 96/100\n",
            "100/100 - 109s - loss: 0.3063 - accuracy: 0.8700 - val_loss: 0.7180 - val_accuracy: 0.7520\n",
            "Epoch 97/100\n",
            "100/100 - 110s - loss: 0.2860 - accuracy: 0.8715 - val_loss: 0.4218 - val_accuracy: 0.8250\n",
            "Epoch 98/100\n",
            "100/100 - 108s - loss: 0.2837 - accuracy: 0.8815 - val_loss: 0.4170 - val_accuracy: 0.8140\n",
            "Epoch 99/100\n",
            "100/100 - 107s - loss: 0.2961 - accuracy: 0.8720 - val_loss: 0.4347 - val_accuracy: 0.8160\n",
            "Epoch 100/100\n",
            "100/100 - 108s - loss: 0.3027 - accuracy: 0.8745 - val_loss: 0.4183 - val_accuracy: 0.8190\n"
          ],
          "name": "stdout"
        }
      ]
    },
    {
      "cell_type": "code",
      "metadata": {
        "id": "bbIPNQBY9xwu",
        "colab_type": "code",
        "colab": {
          "base_uri": "https://localhost:8080/",
          "height": 238
        },
        "outputId": "f49e4ee3-99b0-4166-d656-73e6ba63ead2"
      },
      "source": [
        "import matplotlib.pyplot as plt\n",
        "acc = history.history['accuracy']\n",
        "val_acc = history.history['val_acc']\n",
        "loss =history.history['loss']\n",
        "val_loss = history.history['val_loss']\n",
        "epochs = range(len(acc))\n",
        "\n",
        "plt.plot(epochs, acc, 'bo', label='Training accuracy')\n",
        "plt.plot(epochs, val_acc, 'b', label='Validation accuracy')\n",
        "plt.title('Training and validation accuracy')\n",
        "\n",
        "plt.figure()\n",
        "\n",
        "plt.plot(epochs, loss, 'bo', label='Training Loss')\n",
        "plt.plot(epochs, val_loss, 'b', label='Validation Loss')\n",
        "plt.title('Training and validation loss')\n",
        "plt.legend()\n",
        "\n",
        "plt.show()"
      ],
      "execution_count": null,
      "outputs": [
        {
          "output_type": "error",
          "ename": "NameError",
          "evalue": "ignored",
          "traceback": [
            "\u001b[0;31m---------------------------------------------------------------------------\u001b[0m",
            "\u001b[0;31mNameError\u001b[0m                                 Traceback (most recent call last)",
            "\u001b[0;32m<ipython-input-1-11e01dbf811c>\u001b[0m in \u001b[0;36m<module>\u001b[0;34m()\u001b[0m\n\u001b[1;32m      1\u001b[0m \u001b[0;32mimport\u001b[0m \u001b[0mmatplotlib\u001b[0m\u001b[0;34m.\u001b[0m\u001b[0mpyplot\u001b[0m \u001b[0;32mas\u001b[0m \u001b[0mplt\u001b[0m\u001b[0;34m\u001b[0m\u001b[0;34m\u001b[0m\u001b[0m\n\u001b[0;32m----> 2\u001b[0;31m \u001b[0macc\u001b[0m \u001b[0;34m=\u001b[0m \u001b[0mhistory\u001b[0m\u001b[0;34m.\u001b[0m\u001b[0mhistory\u001b[0m\u001b[0;34m[\u001b[0m\u001b[0;34m'accuracy'\u001b[0m\u001b[0;34m]\u001b[0m\u001b[0;34m\u001b[0m\u001b[0;34m\u001b[0m\u001b[0m\n\u001b[0m\u001b[1;32m      3\u001b[0m \u001b[0mval_acc\u001b[0m \u001b[0;34m=\u001b[0m \u001b[0mhistory\u001b[0m\u001b[0;34m.\u001b[0m\u001b[0mhistory\u001b[0m\u001b[0;34m[\u001b[0m\u001b[0;34m'val_acc'\u001b[0m\u001b[0;34m]\u001b[0m\u001b[0;34m\u001b[0m\u001b[0;34m\u001b[0m\u001b[0m\n\u001b[1;32m      4\u001b[0m \u001b[0mloss\u001b[0m \u001b[0;34m=\u001b[0m\u001b[0mhistory\u001b[0m\u001b[0;34m.\u001b[0m\u001b[0mhistory\u001b[0m\u001b[0;34m[\u001b[0m\u001b[0;34m'loss'\u001b[0m\u001b[0;34m]\u001b[0m\u001b[0;34m\u001b[0m\u001b[0;34m\u001b[0m\u001b[0m\n\u001b[1;32m      5\u001b[0m \u001b[0mval_loss\u001b[0m \u001b[0;34m=\u001b[0m \u001b[0mhistory\u001b[0m\u001b[0;34m.\u001b[0m\u001b[0mhistory\u001b[0m\u001b[0;34m[\u001b[0m\u001b[0;34m'val_loss'\u001b[0m\u001b[0;34m]\u001b[0m\u001b[0;34m\u001b[0m\u001b[0;34m\u001b[0m\u001b[0m\n",
            "\u001b[0;31mNameError\u001b[0m: name 'history' is not defined"
          ]
        }
      ]
    },
    {
      "cell_type": "code",
      "metadata": {
        "id": "d0TGWSxAFVQp",
        "colab_type": "code",
        "colab": {}
      },
      "source": [
        ""
      ],
      "execution_count": null,
      "outputs": []
    }
  ]
}